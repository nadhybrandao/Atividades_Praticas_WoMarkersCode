{
  "nbformat": 4,
  "nbformat_minor": 0,
  "metadata": {
    "colab": {
      "provenance": [],
      "toc_visible": true,
      "authorship_tag": "ABX9TyORZcfuAcOSSalB+ozn5Tba",
      "include_colab_link": true
    },
    "kernelspec": {
      "name": "python3",
      "display_name": "Python 3"
    },
    "language_info": {
      "name": "python"
    }
  },
  "cells": [
    {
      "cell_type": "markdown",
      "metadata": {
        "id": "view-in-github",
        "colab_type": "text"
      },
      "source": [
        "<a href=\"https://colab.research.google.com/github/nadhybrandao/Atividades_Praticas_WoMarkersCode/blob/main/(Grupo)_WoMakersCode_Frequ%C3%AAncias_e_Medidas.ipynb\" target=\"_parent\"><img src=\"https://colab.research.google.com/assets/colab-badge.svg\" alt=\"Open In Colab\"/></a>"
      ]
    },
    {
      "cell_type": "markdown",
      "source": [
        "# Introdução"
      ],
      "metadata": {
        "id": "ATnSw6jXXQlE"
      }
    },
    {
      "cell_type": "markdown",
      "source": [
        "Esse desafio tem como objetivo responder algumas perguntas através da\n",
        "análise de dados, aprofundando o conhecimento em frequência e medidas.\n",
        "Os dados que deverão ser utilizado nesse script foram baixados do kaggle, e podem ser acessados através do link: https://www.kaggle.com/spscientist/students-performance-in-exams\n",
        "\n",
        "Este conjunto de dados consiste nas notas obtidas pelos alunos em várias\n",
        "disciplinas e suas informações pessoais. Variáveis:\n",
        "* gender - gênero do aluno\n",
        "* race/ethnicity - raça/etnia dos alunos\n",
        "* parental level of education - grau de escolaridade dos pais\n",
        "* lunch - tipo de almoço\n",
        "* test preparation course - indica se fez curso preparatório\n",
        "* math score - nota na prova de matematica\n",
        "* reading score - nota na prova de leitura\n",
        "* writing score - nota na prova de escrita\n",
        "\n",
        "Os dados são arquivos em .csv.\n",
        "\n",
        "Dica / Passo a Passo:\n",
        "1. Leia a base de dados e faça uma análise inicial, como por exemplo,\n",
        "verificar o tamanho da base de dados (quantidade de linhas e\n",
        "colunas) e o tipo das variáveis.\n",
        "2. Alguma variável precisa ser alterada ou criada? Faça as alterações se\n",
        "julgar necessária.\n",
        "3. Verifique a quantidade de alunos em cada grupo racial/étnico.\n",
        "4. Qual a quantidade de alunos de cada gênero? Existem mais alunos do\n",
        "gênero masculino ou feminino?\n",
        "5. Analise as notas de matemática dos alunos de forma mais completa\n",
        "possível.\n",
        "\n",
        "**Dica:** Identifique o tipo de variável e faça todas análises que você sabe que pode ser aplicado para esse tipo de variável. Por exemplo, se for uma variável quantitativa calcule a média, mediana, quartis, etc. Já se for uma variável qualitativa faça a tabela de fequência, moda, etc.\n",
        "\n",
        "Faça também análises gráficas das sugestões abaixo ou o que achar\n",
        "pertinente.\n",
        "- Qual a nota média de matemática dos alunos segundo o grau de\n",
        "escolaridade dos pais?\n",
        "- Faça a mesma análise para as notas de leitura e escrita.\n",
        "- Verifique gráficamente a relação da nota de leitura e de escrita.\n",
        "\n",
        "**Atividade extra:** Análise mais algum dado que seja interessante avaliar e represente graficamente, através de boxplot, histogramas, barplot dentre outros diversos de livre escolha.\n"
      ],
      "metadata": {
        "id": "0aOsIuZqXYOL"
      }
    },
    {
      "cell_type": "code",
      "source": [
        "import pandas as pd\n",
        "import numpy as np\n",
        "import seaborn as sns\n",
        "import matplotlib.pyplot as plt\n",
        "import scipy.stats as stat\n",
        "\n",
        "df = pd.read_csv('StudentsPerformance.csv')\n",
        "print(df.head(20))"
      ],
      "metadata": {
        "colab": {
          "base_uri": "https://localhost:8080/"
        },
        "id": "iKAUbGwNYjzn",
        "outputId": "5109fdd4-9b1b-406a-d1c2-23033aebfe48"
      },
      "execution_count": null,
      "outputs": [
        {
          "output_type": "stream",
          "name": "stdout",
          "text": [
            "    gender race/ethnicity parental level of education         lunch  \\\n",
            "0   female        group B           bachelor's degree      standard   \n",
            "1   female        group C                some college      standard   \n",
            "2   female        group B             master's degree      standard   \n",
            "3     male        group A          associate's degree  free/reduced   \n",
            "4     male        group C                some college      standard   \n",
            "5   female        group B          associate's degree      standard   \n",
            "6   female        group B                some college      standard   \n",
            "7     male        group B                some college  free/reduced   \n",
            "8     male        group D                 high school  free/reduced   \n",
            "9   female        group B                 high school  free/reduced   \n",
            "10    male        group C          associate's degree      standard   \n",
            "11    male        group D          associate's degree      standard   \n",
            "12  female        group B                 high school      standard   \n",
            "13    male        group A                some college      standard   \n",
            "14  female        group A             master's degree      standard   \n",
            "15  female        group C            some high school      standard   \n",
            "16    male        group C                 high school      standard   \n",
            "17  female        group B            some high school  free/reduced   \n",
            "18    male        group C             master's degree  free/reduced   \n",
            "19  female        group C          associate's degree  free/reduced   \n",
            "\n",
            "   test preparation course  math score  reading score  writing score  \n",
            "0                     none          72             72             74  \n",
            "1                completed          69             90             88  \n",
            "2                     none          90             95             93  \n",
            "3                     none          47             57             44  \n",
            "4                     none          76             78             75  \n",
            "5                     none          71             83             78  \n",
            "6                completed          88             95             92  \n",
            "7                     none          40             43             39  \n",
            "8                completed          64             64             67  \n",
            "9                     none          38             60             50  \n",
            "10                    none          58             54             52  \n",
            "11                    none          40             52             43  \n",
            "12                    none          65             81             73  \n",
            "13               completed          78             72             70  \n",
            "14                    none          50             53             58  \n",
            "15                    none          69             75             78  \n",
            "16                    none          88             89             86  \n",
            "17                    none          18             32             28  \n",
            "18               completed          46             42             46  \n",
            "19                    none          54             58             61  \n"
          ]
        }
      ]
    },
    {
      "cell_type": "markdown",
      "source": [
        "# Questão 01"
      ],
      "metadata": {
        "id": "RCvTK2k5apot"
      }
    },
    {
      "cell_type": "code",
      "source": [
        "# Leia a base de dados e faça uma análise inicial, como por exemplo, verificar o tamanho da base de dados (quantidade de linhas e colunas) e o tipo das variáveis.\n",
        "\n",
        "print(f\"Tamanho da base de dados em linhas e colunas: {df.shape}.\\n\")\n",
        "print(\"Tipos das variáveis:\")\n",
        "print(df.dtypes)"
      ],
      "metadata": {
        "colab": {
          "base_uri": "https://localhost:8080/"
        },
        "id": "yYPzyrI1aujj",
        "outputId": "4e7c3ba0-c6f9-4894-f263-16fd6a758779"
      },
      "execution_count": null,
      "outputs": [
        {
          "output_type": "stream",
          "name": "stdout",
          "text": [
            "Tamanho da base de dados em linhas e colunas: (1000, 8).\n",
            "\n",
            "Tipos das variáveis:\n",
            "gender                         object\n",
            "race/ethnicity                 object\n",
            "parental level of education    object\n",
            "lunch                          object\n",
            "test preparation course        object\n",
            "math score                      int64\n",
            "reading score                   int64\n",
            "writing score                   int64\n",
            "dtype: object\n"
          ]
        }
      ]
    },
    {
      "cell_type": "markdown",
      "source": [
        "# Questão 02"
      ],
      "metadata": {
        "id": "VDeJp07pa_GV"
      }
    },
    {
      "cell_type": "code",
      "source": [
        "# Alguma variável precisa ser alterada ou criada? Faça as alterações se julgar necessária.\n",
        "\n",
        "df.rename(columns={\n",
        "    'gender': 'genero do aluno',\n",
        "    'race/ethnicity': 'raça/etnia dos alunos',\n",
        "    'parental level of education': 'grau de escolaridade dos pais',\n",
        "    'lunch': 'tipo de almoco',\n",
        "    'test preparation course': 'indica se fez curso preparatório',\n",
        "    'math score': 'nota na prova de matematica',\n",
        "    'reading score': 'nota na prova de leitura',\n",
        "    'writing score': 'nota na prova de escrita'\n",
        "}, inplace=True)\n",
        "\n",
        "print(df.head())"
      ],
      "metadata": {
        "colab": {
          "base_uri": "https://localhost:8080/"
        },
        "id": "5Z3eMtNRbCmf",
        "outputId": "6826faba-4760-4e91-df92-9e4ade6c3701"
      },
      "execution_count": null,
      "outputs": [
        {
          "output_type": "stream",
          "name": "stdout",
          "text": [
            "  genero do aluno raça/etnia dos alunos grau de escolaridade dos pais  \\\n",
            "0          female               group B             bachelor's degree   \n",
            "1          female               group C                  some college   \n",
            "2          female               group B               master's degree   \n",
            "3            male               group A            associate's degree   \n",
            "4            male               group C                  some college   \n",
            "\n",
            "  tipo de almoco indica se fez curso preparatório  \\\n",
            "0       standard                             none   \n",
            "1       standard                        completed   \n",
            "2       standard                             none   \n",
            "3   free/reduced                             none   \n",
            "4       standard                             none   \n",
            "\n",
            "   nota na prova de matematica  nota na prova de leitura  \\\n",
            "0                           72                        72   \n",
            "1                           69                        90   \n",
            "2                           90                        95   \n",
            "3                           47                        57   \n",
            "4                           76                        78   \n",
            "\n",
            "   nota na prova de escrita  \n",
            "0                        74  \n",
            "1                        88  \n",
            "2                        93  \n",
            "3                        44  \n",
            "4                        75  \n"
          ]
        }
      ]
    },
    {
      "cell_type": "markdown",
      "source": [
        "# Questão 03"
      ],
      "metadata": {
        "id": "UCaNUjp-cFtd"
      }
    },
    {
      "cell_type": "code",
      "source": [
        "# Verifique a quantidade de alunos em cada grupo racial/étnico\n",
        "\n",
        "qnt_etnia = df['raça/etnia dos alunos'].value_counts()\n",
        "print(\"\\nQuantidade de alunos por grupo racial/étnico:\")\n",
        "print(qnt_etnia)"
      ],
      "metadata": {
        "colab": {
          "base_uri": "https://localhost:8080/"
        },
        "id": "EkPTxyVdcIU-",
        "outputId": "28994833-ecc8-4d21-fad2-78911d3400a5"
      },
      "execution_count": null,
      "outputs": [
        {
          "output_type": "stream",
          "name": "stdout",
          "text": [
            "\n",
            "Quantidade de alunos por grupo racial/étnico:\n",
            "raça/etnia dos alunos\n",
            "group C    319\n",
            "group D    262\n",
            "group B    190\n",
            "group E    140\n",
            "group A     89\n",
            "Name: count, dtype: int64\n"
          ]
        }
      ]
    },
    {
      "cell_type": "markdown",
      "source": [
        "# Questão 04"
      ],
      "metadata": {
        "id": "nNAN-sXCc1dH"
      }
    },
    {
      "cell_type": "code",
      "source": [
        "# Qual a quantidade de alunos de cada gênero? Existem mais alunos do gênero masculino ou feminino?\n",
        "\n",
        "qnt_genero = df['genero do aluno'].value_counts()\n",
        "print(\"\\nQuantidade de alunos por gênero:\")\n",
        "print(qnt_genero)\n",
        "\n",
        "mas_genero = qnt_genero.get('male', 0)\n",
        "fem_genero = qnt_genero.get('female', 0)\n",
        "\n",
        "if mas_genero > fem_genero:\n",
        "    print('Existem mais alunos do gênero masculino')\n",
        "elif fem_genero > mas_genero:\n",
        "    print('Existem mais alunos do gênero feminino')\n",
        "else:\n",
        "    print('Quantidade igual para ambos os gêneros (masculino e feminino)')"
      ],
      "metadata": {
        "colab": {
          "base_uri": "https://localhost:8080/"
        },
        "id": "uhe8KhSlc4Y-",
        "outputId": "7c490765-177b-4e08-9d46-7b615b6f764f"
      },
      "execution_count": null,
      "outputs": [
        {
          "output_type": "stream",
          "name": "stdout",
          "text": [
            "\n",
            "Quantidade de alunos por gênero:\n",
            "genero do aluno\n",
            "female    518\n",
            "male      482\n",
            "Name: count, dtype: int64\n",
            "Existem mais alunos do gênero feminino\n"
          ]
        }
      ]
    }
  ]
}