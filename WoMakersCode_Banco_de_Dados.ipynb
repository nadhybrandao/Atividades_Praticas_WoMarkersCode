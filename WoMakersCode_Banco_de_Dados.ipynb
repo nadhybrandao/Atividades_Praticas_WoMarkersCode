{
  "nbformat": 4,
  "nbformat_minor": 0,
  "metadata": {
    "colab": {
      "provenance": [],
      "toc_visible": true,
      "authorship_tag": "ABX9TyMr64R5tkdPBg7mPrX8KBXj",
      "include_colab_link": true
    },
    "kernelspec": {
      "name": "python3",
      "display_name": "Python 3"
    },
    "language_info": {
      "name": "python"
    }
  },
  "cells": [
    {
      "cell_type": "markdown",
      "metadata": {
        "id": "view-in-github",
        "colab_type": "text"
      },
      "source": [
        "<a href=\"https://colab.research.google.com/github/nadhybrandao/Atividades_Praticas_WoMarkersCode/blob/main/WoMakersCode_Banco_de_Dados.ipynb\" target=\"_parent\"><img src=\"https://colab.research.google.com/assets/colab-badge.svg\" alt=\"Open In Colab\"/></a>"
      ]
    },
    {
      "cell_type": "markdown",
      "source": [
        "# Introdução"
      ],
      "metadata": {
        "id": "uQTXOiMAIpUC"
      }
    },
    {
      "cell_type": "markdown",
      "source": [
        "1. Crie uma tabela chamada \"alunos\" com os seguintes campos: id\n",
        "(inteiro), nome (texto), idade (inteiro) e curso (texto).\n",
        "2. Insira pelo menos 5 registros de alunos na tabela que você criou no\n",
        "exercício anterior.\n",
        "3. Consultas Básicas\n",
        "Escreva consultas SQL para realizar as seguintes tarefas:\n",
        "* a) Selecionar todos os registros da tabela \"alunos\".\n",
        "* b) Selecionar o nome e a idade dos alunos com mais de 20 anos.\n",
        "* c) Selecionar os alunos do curso de \"Engenharia\" em ordem\n",
        "alfabética.\n",
        "* d) Contar o número total de alunos na tabela\n",
        "4. Atualização e Remoção\n",
        "* a) Atualize a idade de um aluno específico na tabela.\n",
        "* b) Remova um aluno pelo seu ID.\n",
        "5. Criar uma Tabela e Inserir Dados\n",
        "Crie uma tabela chamada \"clientes\" com os campos: id (chave\n",
        "primária), nome (texto), idade (inteiro) e saldo (float). Insira alguns\n",
        "registros de clientes na tabela.\n",
        "6. Consultas e Funções Agregadas\n",
        "Escreva consultas SQL para realizar as seguintes tarefas:\n",
        "* a) Selecione o nome e a idade dos clientes com idade superior a\n",
        "30 anos.\n",
        "* b) Calcule o saldo médio dos clientes.\n",
        "* c) Encontre o cliente com o saldo máximo.\n",
        "* d) Conte quantos clientes têm saldo acima de 1000.\n",
        "7. Atualização e Remoção com Condições\n",
        "* a) Atualize o saldo de um cliente específico.\n",
        "* b) Remova um cliente pelo seu ID.\n",
        "8. Junção de Tabelas\n",
        "Crie uma segunda tabela chamada \"compras\" com os campos: id\n",
        "(chave primária), cliente_id (chave estrangeira referenciando o id\n",
        "da tabela \"clientes\"), produto (texto) e valor (real). Insira algumas\n",
        "compras associadas a clientes existentes na tabela \"clientes\".\n",
        "Escreva uma consulta para exibir o nome do cliente, o produto e o\n",
        "valor de cada compra."
      ],
      "metadata": {
        "id": "CQTkUJaRISKA"
      }
    },
    {
      "cell_type": "code",
      "source": [
        "import sqlite3\n",
        "import pandas as pd\n",
        "\n",
        "# Criando a conexão com o banco de dados SQLite (arquivo local)\n",
        "conn = sqlite3.connect('meu_banco.db')\n",
        "cursor = conn.cursor()"
      ],
      "metadata": {
        "id": "BQT5041KP3HI"
      },
      "execution_count": null,
      "outputs": []
    },
    {
      "cell_type": "markdown",
      "source": [
        "# Questão 01"
      ],
      "metadata": {
        "id": "1xIru0ofQqcH"
      }
    },
    {
      "cell_type": "code",
      "source": [
        "#Crie uma tabela chamada \"alunos\" com os seguintes campos: id (inteiro), nome (texto), idade (inteiro) e curso (texto).\n",
        "\n",
        "cursor.execute('''\n",
        "CREATE TABLE alunos (\n",
        "    id INTEGER PRIMARY KEY,\n",
        "    nome TEXT,\n",
        "    idade INTEGER,\n",
        "    curso TEXT\n",
        ")\n",
        "''')"
      ],
      "metadata": {
        "colab": {
          "base_uri": "https://localhost:8080/",
          "height": 211
        },
        "id": "KjX8YkfHIuIM",
        "outputId": "5dd59d29-d456-4a5a-d5e2-f4edce1d34a1"
      },
      "execution_count": null,
      "outputs": [
        {
          "output_type": "error",
          "ename": "OperationalError",
          "evalue": "table alunos already exists",
          "traceback": [
            "\u001b[0;31m---------------------------------------------------------------------------\u001b[0m",
            "\u001b[0;31mOperationalError\u001b[0m                          Traceback (most recent call last)",
            "\u001b[0;32m<ipython-input-12-9f087322e77f>\u001b[0m in \u001b[0;36m<cell line: 3>\u001b[0;34m()\u001b[0m\n\u001b[1;32m      1\u001b[0m \u001b[0;31m#Crie uma tabela chamada \"alunos\" com os seguintes campos: id (inteiro), nome (texto), idade (inteiro) e curso (texto).\u001b[0m\u001b[0;34m\u001b[0m\u001b[0;34m\u001b[0m\u001b[0m\n\u001b[1;32m      2\u001b[0m \u001b[0;34m\u001b[0m\u001b[0m\n\u001b[0;32m----> 3\u001b[0;31m cursor.execute('''\n\u001b[0m\u001b[1;32m      4\u001b[0m CREATE TABLE alunos (\n\u001b[1;32m      5\u001b[0m     \u001b[0mid\u001b[0m \u001b[0mINTEGER\u001b[0m \u001b[0mPRIMARY\u001b[0m \u001b[0mKEY\u001b[0m\u001b[0;34m,\u001b[0m\u001b[0;34m\u001b[0m\u001b[0;34m\u001b[0m\u001b[0m\n",
            "\u001b[0;31mOperationalError\u001b[0m: table alunos already exists"
          ]
        }
      ]
    },
    {
      "cell_type": "markdown",
      "source": [
        "# Questão 02"
      ],
      "metadata": {
        "id": "HRozb5ZWQuqg"
      }
    },
    {
      "cell_type": "code",
      "source": [
        "# Insira pelo menos 5 registros de alunos na tabela que você criou no exercício anterior.\n",
        "alunos = [\n",
        "    (1, 'João Silva', 22, 'Engenharia'),\n",
        "    (2, 'Maria Souza', 19, 'Direito'),\n",
        "    (3, 'Pedro Alves', 25, 'Medicina'),\n",
        "    (4, 'Ana Costa', 21, 'Engenharia'),\n",
        "    (5, 'Lucas Pereira', 18, 'Arquitetura')\n",
        "]\n",
        "\n",
        "cursor.executemany('INSERT INTO alunos (id, nome, idade, curso) VALUES (?, ?, ?, ?)', alunos)"
      ],
      "metadata": {
        "colab": {
          "base_uri": "https://localhost:8080/"
        },
        "id": "kqbArmVIQhl-",
        "outputId": "c2fa5c82-0b9e-4b59-fe30-78f758919c8c"
      },
      "execution_count": null,
      "outputs": [
        {
          "output_type": "execute_result",
          "data": {
            "text/plain": [
              "<sqlite3.Cursor at 0x7a7dfb139340>"
            ]
          },
          "metadata": {},
          "execution_count": 5
        }
      ]
    },
    {
      "cell_type": "markdown",
      "source": [
        "# Questão 03"
      ],
      "metadata": {
        "id": "0DFzu15rQxBj"
      }
    },
    {
      "cell_type": "code",
      "source": [
        "# Consultas Básicas Escreva consultas SQL para realizar as seguintes tarefas:\n",
        "# a) Selecionar todos os registros da tabela \"alunos\".\n",
        "# b) Selecionar o nome e a idade dos alunos com mais de 20 anos.\n",
        "# c) Selecionar os alunos do curso de \"Engenharia\" em ordem alfabética.\n",
        "# d) Contar o número total de alunos na tabela\n",
        "\n",
        "consulta_a = pd.read_sql_query('SELECT * FROM alunos', conn)\n",
        "print(\"Todos os registros da tabela 'alunos':\")\n",
        "print(consulta_a)\n",
        "\n",
        "consulta_b = pd.read_sql_query('SELECT nome, idade FROM alunos WHERE idade > 20', conn)\n",
        "print(\"\\nNome e idade dos alunos com mais de 20 anos:\")\n",
        "print(consulta_b)\n",
        "\n",
        "consulta_c = pd.read_sql_query('SELECT * FROM alunos WHERE curso = \"Engenharia\" ORDER BY nome', conn)\n",
        "print(\"\\nAlunos do curso de Engenharia em ordem alfabética:\")\n",
        "print(consulta_c)\n",
        "\n",
        "consulta_d = pd.read_sql_query('SELECT COUNT(*) AS total_alunos FROM alunos', conn)\n",
        "print(\"\\nNúmero total de alunos:\")\n",
        "print(consulta_d)"
      ],
      "metadata": {
        "colab": {
          "base_uri": "https://localhost:8080/"
        },
        "id": "BooLMw06RXn-",
        "outputId": "5ad0fe37-a443-4ba5-ecd0-e759875d7737"
      },
      "execution_count": null,
      "outputs": [
        {
          "output_type": "stream",
          "name": "stdout",
          "text": [
            "Todos os registros da tabela 'alunos':\n",
            "   id           nome  idade        curso\n",
            "0   1     João Silva     22   Engenharia\n",
            "1   2    Maria Souza     19      Direito\n",
            "2   3    Pedro Alves     25     Medicina\n",
            "3   4      Ana Costa     21   Engenharia\n",
            "4   5  Lucas Pereira     18  Arquitetura\n",
            "\n",
            "Nome e idade dos alunos com mais de 20 anos:\n",
            "          nome  idade\n",
            "0   João Silva     22\n",
            "1  Pedro Alves     25\n",
            "2    Ana Costa     21\n",
            "\n",
            "Alunos do curso de Engenharia em ordem alfabética:\n",
            "   id        nome  idade       curso\n",
            "0   4   Ana Costa     21  Engenharia\n",
            "1   1  João Silva     22  Engenharia\n",
            "\n",
            "Número total de alunos:\n",
            "   total_alunos\n",
            "0             5\n"
          ]
        }
      ]
    },
    {
      "cell_type": "markdown",
      "source": [
        "# Questão 04"
      ],
      "metadata": {
        "id": "RXFjmr_tQ0rf"
      }
    },
    {
      "cell_type": "code",
      "source": [
        "# Atualização e Remoção\n",
        "# a) Atualize a idade de um aluno específico na tabela.\n",
        "# b) Remova um aluno pelo seu ID.\n",
        "\n",
        "cursor.execute('UPDATE alunos SET idade = 23 WHERE id = 1')\n",
        "conn.commit()\n",
        "\n",
        "cursor.execute('DELETE FROM alunos WHERE id = 5')\n",
        "conn.commit()"
      ],
      "metadata": {
        "id": "zBMAZtJcRexB"
      },
      "execution_count": null,
      "outputs": []
    },
    {
      "cell_type": "markdown",
      "source": [
        "# Questão 05"
      ],
      "metadata": {
        "id": "ovhMIwsmQ2hr"
      }
    },
    {
      "cell_type": "code",
      "source": [
        "# Criar uma Tabela e Inserir Dados Crie uma tabela chamada \"clientes\" com os campos: id (chave primária), nome (texto), idade (inteiro) e saldo (float). Insira alguns registros de clientes na tabela.\n",
        "CREATE TABLE clientes (\n",
        "    id INTEGER PRIMARY KEY,\n",
        "    nome TEXT,\n",
        "    idade INTEGER,\n",
        "    saldo FLOAT\n",
        ");\n",
        "\n",
        "-- Inserindo registros na tabela \"clientes\"\n",
        "INSERT INTO clientes (id, nome, idade, saldo) VALUES (1, 'Carlos Martins', 35, 1500.00);\n",
        "INSERT INTO clientes (id, nome, idade, saldo) VALUES (2, 'Fernanda Lima', 28, 800.00);\n",
        "INSERT INTO clientes (id, nome, idade, saldo) VALUES (3, 'Juliana Carvalho', 40, 1200.00);\n",
        "INSERT INTO clientes (id, nome, idade, saldo) VALUES (4, 'Roberto Almeida', 50, 3000.00);\n",
        "INSERT INTO clientes (id, nome, idade, saldo) VALUES (5, 'Patrícia Gonçalves', 32, 950.00);"
      ],
      "metadata": {
        "colab": {
          "base_uri": "https://localhost:8080/",
          "height": 106
        },
        "id": "sMg4bVZPRkzz",
        "outputId": "be9923f5-3c45-403d-a2fd-025bc7305550"
      },
      "execution_count": null,
      "outputs": [
        {
          "output_type": "error",
          "ename": "SyntaxError",
          "evalue": "invalid syntax (<ipython-input-10-78215c843493>, line 2)",
          "traceback": [
            "\u001b[0;36m  File \u001b[0;32m\"<ipython-input-10-78215c843493>\"\u001b[0;36m, line \u001b[0;32m2\u001b[0m\n\u001b[0;31m    CREATE TABLE clientes (\u001b[0m\n\u001b[0m           ^\u001b[0m\n\u001b[0;31mSyntaxError\u001b[0m\u001b[0;31m:\u001b[0m invalid syntax\n"
          ]
        }
      ]
    },
    {
      "cell_type": "markdown",
      "source": [
        "# Questão 06"
      ],
      "metadata": {
        "id": "G27fvHrUQ43q"
      }
    },
    {
      "cell_type": "code",
      "source": [
        "# Consultas e Funções Agregadas Escreva consultas SQL para realizar as seguintes tarefas:\n",
        "# a) Selecione o nome e a idade dos clientes com idade superior a 30 anos.\n",
        "# b) Calcule o saldo médio dos clientes.\n",
        "# c) Encontre o cliente com o saldo máximo.\n",
        "# d) Conte quantos clientes têm saldo acima de 1000.\n",
        "\n",
        "SELECT nome, idade FROM clientes WHERE idade > 30;\n",
        "\n",
        "SELECT AVG(saldo) AS saldo_medio FROM clientes;\n",
        "\n",
        "SELECT nome, saldo FROM clientes WHERE saldo = (SELECT MAX(saldo) FROM clientes);\n",
        "\n",
        "SELECT COUNT(*) AS clientes_com_saldo_acima_1000 FROM clientes WHERE saldo > 1000;"
      ],
      "metadata": {
        "colab": {
          "base_uri": "https://localhost:8080/",
          "height": 106
        },
        "id": "wnKv6hWdRpGk",
        "outputId": "5faa8232-8b3b-44bf-edcc-4e1e1c5615b1"
      },
      "execution_count": null,
      "outputs": [
        {
          "output_type": "error",
          "ename": "SyntaxError",
          "evalue": "invalid syntax (<ipython-input-11-1bd47fbb20e4>, line 7)",
          "traceback": [
            "\u001b[0;36m  File \u001b[0;32m\"<ipython-input-11-1bd47fbb20e4>\"\u001b[0;36m, line \u001b[0;32m7\u001b[0m\n\u001b[0;31m    SELECT nome, idade FROM clientes WHERE idade > 30;\u001b[0m\n\u001b[0m           ^\u001b[0m\n\u001b[0;31mSyntaxError\u001b[0m\u001b[0;31m:\u001b[0m invalid syntax\n"
          ]
        }
      ]
    },
    {
      "cell_type": "markdown",
      "source": [
        "# Questão 07"
      ],
      "metadata": {
        "id": "M7Ui9vCwQ7RH"
      }
    },
    {
      "cell_type": "code",
      "source": [
        "# Atualização e Remoção com Condições\n",
        "# a) Atualize o saldo de um cliente específico.\n",
        "# b) Remova um cliente pelo seu ID.\n",
        "\n",
        "UPDATE clientes SET saldo = 1600.00 WHERE id = 1;  -- Exemplo: atualiza o saldo do cliente com id = 1\n",
        "\n",
        "DELETE FROM clientes WHERE id = 2;  -- Exemplo: remove o cliente com id = 2"
      ],
      "metadata": {
        "id": "NmdP98tbR1Sv"
      },
      "execution_count": null,
      "outputs": []
    },
    {
      "cell_type": "markdown",
      "source": [
        "# Questão 08"
      ],
      "metadata": {
        "id": "-FrYLCp9Q9eN"
      }
    },
    {
      "cell_type": "code",
      "source": [
        "# Junção de Tabelas Crie uma segunda tabela chamada \"compras\" com os campos: id (chave primária), cliente_id (chave estrangeira referenciando o id da tabela \"clientes\"), produto (texto) e valor (real). Insira algumas compras associadas a clientes existentes na tabela \"clientes\". Escreva uma consulta para exibir o nome do cliente, o produto e o valor de cada compra.\n",
        "CREATE TABLE compras (\n",
        "    id INTEGER PRIMARY KEY,\n",
        "    cliente_id INTEGER,\n",
        "    produto TEXT,\n",
        "    valor REAL,\n",
        "    FOREIGN KEY (cliente_id) REFERENCES clientes(id)\n",
        ");\n",
        "\n",
        "-- Inserindo registros na tabela \"compras\"\n",
        "INSERT INTO compras (id, cliente_id, produto, valor) VALUES (1, 1, 'Notebook', 2500.00);\n",
        "INSERT INTO compras (id, cliente_id, produto, valor) VALUES (2, 3, 'Smartphone', 1500.00);\n",
        "INSERT INTO compras (id, cliente_id, produto, valor) VALUES (3, 4, 'Televisão', 2000.00);\n",
        "INSERT INTO compras (id, cliente_id, produto, valor) VALUES (4, 5, 'Geladeira', 3000.00);\n",
        "INSERT INTO compras (id, cliente_id, produto, valor) VALUES (5, 1, 'Cadeira Gamer', 800.00);\n"
      ],
      "metadata": {
        "id": "WVkKqTdIR6hr"
      },
      "execution_count": null,
      "outputs": []
    }
  ]
}