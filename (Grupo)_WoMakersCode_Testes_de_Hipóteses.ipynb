{
  "nbformat": 4,
  "nbformat_minor": 0,
  "metadata": {
    "colab": {
      "provenance": [],
      "toc_visible": true,
      "include_colab_link": true
    },
    "kernelspec": {
      "name": "python3",
      "display_name": "Python 3"
    },
    "language_info": {
      "name": "python"
    }
  },
  "cells": [
    {
      "cell_type": "markdown",
      "metadata": {
        "id": "view-in-github",
        "colab_type": "text"
      },
      "source": [
        "<a href=\"https://colab.research.google.com/github/nadhybrandao/Atividades_Praticas_WoMarkersCode/blob/main/(Grupo)_WoMakersCode_Testes_de_Hip%C3%B3teses.ipynb\" target=\"_parent\"><img src=\"https://colab.research.google.com/assets/colab-badge.svg\" alt=\"Open In Colab\"/></a>"
      ]
    },
    {
      "cell_type": "markdown",
      "source": [
        "##Challenge Testes de Hipóteses\n",
        "Squad katherine Johnson\n",
        "\n",
        "**Integrantes:**\n",
        "\n",
        "Ayla Carolina Silva Machado\n",
        "\n",
        "Dayna Lilian Figueiredo\n",
        "\n",
        "Fernanda Soares Lima\n",
        "\n",
        "Gabriela Pontes Crespo\n",
        "\n",
        "Maria Elisa Scovino da Silva\n",
        "\n",
        "Nadia Bertoldo Germano dos Santos\n",
        "\n",
        "Nathália Macedo"
      ],
      "metadata": {
        "id": "Yxf5X239mqJI"
      }
    },
    {
      "cell_type": "markdown",
      "source": [
        "#Desafio 1: Cosméticos"
      ],
      "metadata": {
        "id": "cYCgRg3LZu5C"
      }
    },
    {
      "cell_type": "markdown",
      "source": [
        "Suponha que você trabalha em uma empresa do ramo de cosméticos ou beleza. O\n",
        "Time de produtos dessa empresa está interessado criar novos batons com maior\n",
        "durabilidade. Para isso estão testando 3 diferentes fórmulas para irem a mercado.\n",
        "\n",
        "Com isso, a empresa fez uma pesquisa com varias voluntárias e populou a base de\n",
        "dados (desafio_01_cosmeticos.csv) contendo as seguintes informacoes:\n",
        "\n",
        "● id_produto: código identificador do produto, com a fórmula utilizada. Para\n",
        "diferenciarmos se se trata do batom com a fórmula 1, 2 ou 3\n",
        "\n",
        "● id_voluntária: código identificador da voluntária que utilizou o produto.\n",
        "\n",
        "● durabilidade: quanto tempo o produto durou em horas.\n",
        "\n",
        "● idade: idade da voluntária\n",
        "\n",
        "● exposicao_sol: variável que indica 1 se a voluntária se expos ao sol 0 caso\n",
        "contrário.\n",
        "\n",
        "De posse dessas informacoes, o time de produtos solicitou aos analistas de dados da empresa as seguintes perguntas a serem respondidas:"
      ],
      "metadata": {
        "id": "rRkGX9lTZ0bz"
      }
    },
    {
      "cell_type": "code",
      "source": [
        "import pandas as pd\n",
        "import numpy as np\n",
        "import seaborn as sns\n",
        "import matplotlib.pyplot as plt\n",
        "from scipy import stats\n",
        "import scipy as scipy"
      ],
      "metadata": {
        "id": "dlapL_Xqase4"
      },
      "execution_count": null,
      "outputs": []
    },
    {
      "cell_type": "code",
      "source": [
        "df_cosmeticos = pd.read_csv('desafio_01_cosmeticos.csv')"
      ],
      "metadata": {
        "id": "y-A3onytav8_"
      },
      "execution_count": null,
      "outputs": []
    },
    {
      "cell_type": "code",
      "source": [
        "df_cosmeticos.head()"
      ],
      "metadata": {
        "colab": {
          "base_uri": "https://localhost:8080/",
          "height": 206
        },
        "id": "zHpauS05axYP",
        "outputId": "5fdd2c53-1294-4f26-ea06-84ae3ceb423b"
      },
      "execution_count": null,
      "outputs": [
        {
          "output_type": "execute_result",
          "data": {
            "text/plain": [
              "   id_produto  id_voluntária  durabilidade  idade  exposicao_sol\n",
              "0           1              1            12     40              1\n",
              "1           2              2             5     36              0\n",
              "2           1              3            19     47              0\n",
              "3           1              4            14     36              1\n",
              "4           1              5            17     46              1"
            ],
            "text/html": [
              "\n",
              "  <div id=\"df-71f71fb6-c3f0-4fad-bdc9-ff64ef608ef7\" class=\"colab-df-container\">\n",
              "    <div>\n",
              "<style scoped>\n",
              "    .dataframe tbody tr th:only-of-type {\n",
              "        vertical-align: middle;\n",
              "    }\n",
              "\n",
              "    .dataframe tbody tr th {\n",
              "        vertical-align: top;\n",
              "    }\n",
              "\n",
              "    .dataframe thead th {\n",
              "        text-align: right;\n",
              "    }\n",
              "</style>\n",
              "<table border=\"1\" class=\"dataframe\">\n",
              "  <thead>\n",
              "    <tr style=\"text-align: right;\">\n",
              "      <th></th>\n",
              "      <th>id_produto</th>\n",
              "      <th>id_voluntária</th>\n",
              "      <th>durabilidade</th>\n",
              "      <th>idade</th>\n",
              "      <th>exposicao_sol</th>\n",
              "    </tr>\n",
              "  </thead>\n",
              "  <tbody>\n",
              "    <tr>\n",
              "      <th>0</th>\n",
              "      <td>1</td>\n",
              "      <td>1</td>\n",
              "      <td>12</td>\n",
              "      <td>40</td>\n",
              "      <td>1</td>\n",
              "    </tr>\n",
              "    <tr>\n",
              "      <th>1</th>\n",
              "      <td>2</td>\n",
              "      <td>2</td>\n",
              "      <td>5</td>\n",
              "      <td>36</td>\n",
              "      <td>0</td>\n",
              "    </tr>\n",
              "    <tr>\n",
              "      <th>2</th>\n",
              "      <td>1</td>\n",
              "      <td>3</td>\n",
              "      <td>19</td>\n",
              "      <td>47</td>\n",
              "      <td>0</td>\n",
              "    </tr>\n",
              "    <tr>\n",
              "      <th>3</th>\n",
              "      <td>1</td>\n",
              "      <td>4</td>\n",
              "      <td>14</td>\n",
              "      <td>36</td>\n",
              "      <td>1</td>\n",
              "    </tr>\n",
              "    <tr>\n",
              "      <th>4</th>\n",
              "      <td>1</td>\n",
              "      <td>5</td>\n",
              "      <td>17</td>\n",
              "      <td>46</td>\n",
              "      <td>1</td>\n",
              "    </tr>\n",
              "  </tbody>\n",
              "</table>\n",
              "</div>\n",
              "    <div class=\"colab-df-buttons\">\n",
              "\n",
              "  <div class=\"colab-df-container\">\n",
              "    <button class=\"colab-df-convert\" onclick=\"convertToInteractive('df-71f71fb6-c3f0-4fad-bdc9-ff64ef608ef7')\"\n",
              "            title=\"Convert this dataframe to an interactive table.\"\n",
              "            style=\"display:none;\">\n",
              "\n",
              "  <svg xmlns=\"http://www.w3.org/2000/svg\" height=\"24px\" viewBox=\"0 -960 960 960\">\n",
              "    <path d=\"M120-120v-720h720v720H120Zm60-500h600v-160H180v160Zm220 220h160v-160H400v160Zm0 220h160v-160H400v160ZM180-400h160v-160H180v160Zm440 0h160v-160H620v160ZM180-180h160v-160H180v160Zm440 0h160v-160H620v160Z\"/>\n",
              "  </svg>\n",
              "    </button>\n",
              "\n",
              "  <style>\n",
              "    .colab-df-container {\n",
              "      display:flex;\n",
              "      gap: 12px;\n",
              "    }\n",
              "\n",
              "    .colab-df-convert {\n",
              "      background-color: #E8F0FE;\n",
              "      border: none;\n",
              "      border-radius: 50%;\n",
              "      cursor: pointer;\n",
              "      display: none;\n",
              "      fill: #1967D2;\n",
              "      height: 32px;\n",
              "      padding: 0 0 0 0;\n",
              "      width: 32px;\n",
              "    }\n",
              "\n",
              "    .colab-df-convert:hover {\n",
              "      background-color: #E2EBFA;\n",
              "      box-shadow: 0px 1px 2px rgba(60, 64, 67, 0.3), 0px 1px 3px 1px rgba(60, 64, 67, 0.15);\n",
              "      fill: #174EA6;\n",
              "    }\n",
              "\n",
              "    .colab-df-buttons div {\n",
              "      margin-bottom: 4px;\n",
              "    }\n",
              "\n",
              "    [theme=dark] .colab-df-convert {\n",
              "      background-color: #3B4455;\n",
              "      fill: #D2E3FC;\n",
              "    }\n",
              "\n",
              "    [theme=dark] .colab-df-convert:hover {\n",
              "      background-color: #434B5C;\n",
              "      box-shadow: 0px 1px 3px 1px rgba(0, 0, 0, 0.15);\n",
              "      filter: drop-shadow(0px 1px 2px rgba(0, 0, 0, 0.3));\n",
              "      fill: #FFFFFF;\n",
              "    }\n",
              "  </style>\n",
              "\n",
              "    <script>\n",
              "      const buttonEl =\n",
              "        document.querySelector('#df-71f71fb6-c3f0-4fad-bdc9-ff64ef608ef7 button.colab-df-convert');\n",
              "      buttonEl.style.display =\n",
              "        google.colab.kernel.accessAllowed ? 'block' : 'none';\n",
              "\n",
              "      async function convertToInteractive(key) {\n",
              "        const element = document.querySelector('#df-71f71fb6-c3f0-4fad-bdc9-ff64ef608ef7');\n",
              "        const dataTable =\n",
              "          await google.colab.kernel.invokeFunction('convertToInteractive',\n",
              "                                                    [key], {});\n",
              "        if (!dataTable) return;\n",
              "\n",
              "        const docLinkHtml = 'Like what you see? Visit the ' +\n",
              "          '<a target=\"_blank\" href=https://colab.research.google.com/notebooks/data_table.ipynb>data table notebook</a>'\n",
              "          + ' to learn more about interactive tables.';\n",
              "        element.innerHTML = '';\n",
              "        dataTable['output_type'] = 'display_data';\n",
              "        await google.colab.output.renderOutput(dataTable, element);\n",
              "        const docLink = document.createElement('div');\n",
              "        docLink.innerHTML = docLinkHtml;\n",
              "        element.appendChild(docLink);\n",
              "      }\n",
              "    </script>\n",
              "  </div>\n",
              "\n",
              "\n",
              "<div id=\"df-e2a65489-008c-4b4c-830a-645757a5523a\">\n",
              "  <button class=\"colab-df-quickchart\" onclick=\"quickchart('df-e2a65489-008c-4b4c-830a-645757a5523a')\"\n",
              "            title=\"Suggest charts\"\n",
              "            style=\"display:none;\">\n",
              "\n",
              "<svg xmlns=\"http://www.w3.org/2000/svg\" height=\"24px\"viewBox=\"0 0 24 24\"\n",
              "     width=\"24px\">\n",
              "    <g>\n",
              "        <path d=\"M19 3H5c-1.1 0-2 .9-2 2v14c0 1.1.9 2 2 2h14c1.1 0 2-.9 2-2V5c0-1.1-.9-2-2-2zM9 17H7v-7h2v7zm4 0h-2V7h2v10zm4 0h-2v-4h2v4z\"/>\n",
              "    </g>\n",
              "</svg>\n",
              "  </button>\n",
              "\n",
              "<style>\n",
              "  .colab-df-quickchart {\n",
              "      --bg-color: #E8F0FE;\n",
              "      --fill-color: #1967D2;\n",
              "      --hover-bg-color: #E2EBFA;\n",
              "      --hover-fill-color: #174EA6;\n",
              "      --disabled-fill-color: #AAA;\n",
              "      --disabled-bg-color: #DDD;\n",
              "  }\n",
              "\n",
              "  [theme=dark] .colab-df-quickchart {\n",
              "      --bg-color: #3B4455;\n",
              "      --fill-color: #D2E3FC;\n",
              "      --hover-bg-color: #434B5C;\n",
              "      --hover-fill-color: #FFFFFF;\n",
              "      --disabled-bg-color: #3B4455;\n",
              "      --disabled-fill-color: #666;\n",
              "  }\n",
              "\n",
              "  .colab-df-quickchart {\n",
              "    background-color: var(--bg-color);\n",
              "    border: none;\n",
              "    border-radius: 50%;\n",
              "    cursor: pointer;\n",
              "    display: none;\n",
              "    fill: var(--fill-color);\n",
              "    height: 32px;\n",
              "    padding: 0;\n",
              "    width: 32px;\n",
              "  }\n",
              "\n",
              "  .colab-df-quickchart:hover {\n",
              "    background-color: var(--hover-bg-color);\n",
              "    box-shadow: 0 1px 2px rgba(60, 64, 67, 0.3), 0 1px 3px 1px rgba(60, 64, 67, 0.15);\n",
              "    fill: var(--button-hover-fill-color);\n",
              "  }\n",
              "\n",
              "  .colab-df-quickchart-complete:disabled,\n",
              "  .colab-df-quickchart-complete:disabled:hover {\n",
              "    background-color: var(--disabled-bg-color);\n",
              "    fill: var(--disabled-fill-color);\n",
              "    box-shadow: none;\n",
              "  }\n",
              "\n",
              "  .colab-df-spinner {\n",
              "    border: 2px solid var(--fill-color);\n",
              "    border-color: transparent;\n",
              "    border-bottom-color: var(--fill-color);\n",
              "    animation:\n",
              "      spin 1s steps(1) infinite;\n",
              "  }\n",
              "\n",
              "  @keyframes spin {\n",
              "    0% {\n",
              "      border-color: transparent;\n",
              "      border-bottom-color: var(--fill-color);\n",
              "      border-left-color: var(--fill-color);\n",
              "    }\n",
              "    20% {\n",
              "      border-color: transparent;\n",
              "      border-left-color: var(--fill-color);\n",
              "      border-top-color: var(--fill-color);\n",
              "    }\n",
              "    30% {\n",
              "      border-color: transparent;\n",
              "      border-left-color: var(--fill-color);\n",
              "      border-top-color: var(--fill-color);\n",
              "      border-right-color: var(--fill-color);\n",
              "    }\n",
              "    40% {\n",
              "      border-color: transparent;\n",
              "      border-right-color: var(--fill-color);\n",
              "      border-top-color: var(--fill-color);\n",
              "    }\n",
              "    60% {\n",
              "      border-color: transparent;\n",
              "      border-right-color: var(--fill-color);\n",
              "    }\n",
              "    80% {\n",
              "      border-color: transparent;\n",
              "      border-right-color: var(--fill-color);\n",
              "      border-bottom-color: var(--fill-color);\n",
              "    }\n",
              "    90% {\n",
              "      border-color: transparent;\n",
              "      border-bottom-color: var(--fill-color);\n",
              "    }\n",
              "  }\n",
              "</style>\n",
              "\n",
              "  <script>\n",
              "    async function quickchart(key) {\n",
              "      const quickchartButtonEl =\n",
              "        document.querySelector('#' + key + ' button');\n",
              "      quickchartButtonEl.disabled = true;  // To prevent multiple clicks.\n",
              "      quickchartButtonEl.classList.add('colab-df-spinner');\n",
              "      try {\n",
              "        const charts = await google.colab.kernel.invokeFunction(\n",
              "            'suggestCharts', [key], {});\n",
              "      } catch (error) {\n",
              "        console.error('Error during call to suggestCharts:', error);\n",
              "      }\n",
              "      quickchartButtonEl.classList.remove('colab-df-spinner');\n",
              "      quickchartButtonEl.classList.add('colab-df-quickchart-complete');\n",
              "    }\n",
              "    (() => {\n",
              "      let quickchartButtonEl =\n",
              "        document.querySelector('#df-e2a65489-008c-4b4c-830a-645757a5523a button');\n",
              "      quickchartButtonEl.style.display =\n",
              "        google.colab.kernel.accessAllowed ? 'block' : 'none';\n",
              "    })();\n",
              "  </script>\n",
              "</div>\n",
              "\n",
              "    </div>\n",
              "  </div>\n"
            ],
            "application/vnd.google.colaboratory.intrinsic+json": {
              "type": "dataframe",
              "variable_name": "df_cosmeticos",
              "summary": "{\n  \"name\": \"df_cosmeticos\",\n  \"rows\": 300,\n  \"fields\": [\n    {\n      \"column\": \"id_produto\",\n      \"properties\": {\n        \"dtype\": \"number\",\n        \"std\": 0,\n        \"min\": 1,\n        \"max\": 3,\n        \"num_unique_values\": 3,\n        \"samples\": [\n          1,\n          2,\n          3\n        ],\n        \"semantic_type\": \"\",\n        \"description\": \"\"\n      }\n    },\n    {\n      \"column\": \"id_volunt\\u00e1ria\",\n      \"properties\": {\n        \"dtype\": \"number\",\n        \"std\": 86,\n        \"min\": 1,\n        \"max\": 300,\n        \"num_unique_values\": 300,\n        \"samples\": [\n          204,\n          267,\n          153\n        ],\n        \"semantic_type\": \"\",\n        \"description\": \"\"\n      }\n    },\n    {\n      \"column\": \"durabilidade\",\n      \"properties\": {\n        \"dtype\": \"number\",\n        \"std\": 10,\n        \"min\": 5,\n        \"max\": 48,\n        \"num_unique_values\": 39,\n        \"samples\": [\n          44,\n          27,\n          17\n        ],\n        \"semantic_type\": \"\",\n        \"description\": \"\"\n      }\n    },\n    {\n      \"column\": \"idade\",\n      \"properties\": {\n        \"dtype\": \"number\",\n        \"std\": 12,\n        \"min\": 18,\n        \"max\": 60,\n        \"num_unique_values\": 43,\n        \"samples\": [\n          59,\n          48,\n          41\n        ],\n        \"semantic_type\": \"\",\n        \"description\": \"\"\n      }\n    },\n    {\n      \"column\": \"exposicao_sol\",\n      \"properties\": {\n        \"dtype\": \"number\",\n        \"std\": 0,\n        \"min\": 0,\n        \"max\": 1,\n        \"num_unique_values\": 2,\n        \"samples\": [\n          0,\n          1\n        ],\n        \"semantic_type\": \"\",\n        \"description\": \"\"\n      }\n    }\n  ]\n}"
            }
          },
          "metadata": {},
          "execution_count": 6
        }
      ]
    },
    {
      "cell_type": "code",
      "source": [
        "df_cosmeticos.describe()"
      ],
      "metadata": {
        "colab": {
          "base_uri": "https://localhost:8080/",
          "height": 300
        },
        "id": "Ww4NstdfazQp",
        "outputId": "aa999c82-2949-44fc-f395-7f6645ee59ef"
      },
      "execution_count": null,
      "outputs": [
        {
          "output_type": "execute_result",
          "data": {
            "text/plain": [
              "       id_produto  id_voluntária  durabilidade       idade  exposicao_sol\n",
              "count  300.000000     300.000000    300.000000  300.000000     300.000000\n",
              "mean     2.000000     150.500000     17.133333   36.886667       0.440000\n",
              "std      0.817861      86.746758     10.942945   12.625841       0.497216\n",
              "min      1.000000       1.000000      5.000000   18.000000       0.000000\n",
              "25%      1.000000      75.750000      9.000000   26.000000       0.000000\n",
              "50%      2.000000     150.500000     14.000000   36.000000       0.000000\n",
              "75%      3.000000     225.250000     20.000000   48.000000       1.000000\n",
              "max      3.000000     300.000000     48.000000   60.000000       1.000000"
            ],
            "text/html": [
              "\n",
              "  <div id=\"df-45a1fc41-bf9e-4243-b756-9404e40c6bf5\" class=\"colab-df-container\">\n",
              "    <div>\n",
              "<style scoped>\n",
              "    .dataframe tbody tr th:only-of-type {\n",
              "        vertical-align: middle;\n",
              "    }\n",
              "\n",
              "    .dataframe tbody tr th {\n",
              "        vertical-align: top;\n",
              "    }\n",
              "\n",
              "    .dataframe thead th {\n",
              "        text-align: right;\n",
              "    }\n",
              "</style>\n",
              "<table border=\"1\" class=\"dataframe\">\n",
              "  <thead>\n",
              "    <tr style=\"text-align: right;\">\n",
              "      <th></th>\n",
              "      <th>id_produto</th>\n",
              "      <th>id_voluntária</th>\n",
              "      <th>durabilidade</th>\n",
              "      <th>idade</th>\n",
              "      <th>exposicao_sol</th>\n",
              "    </tr>\n",
              "  </thead>\n",
              "  <tbody>\n",
              "    <tr>\n",
              "      <th>count</th>\n",
              "      <td>300.000000</td>\n",
              "      <td>300.000000</td>\n",
              "      <td>300.000000</td>\n",
              "      <td>300.000000</td>\n",
              "      <td>300.000000</td>\n",
              "    </tr>\n",
              "    <tr>\n",
              "      <th>mean</th>\n",
              "      <td>2.000000</td>\n",
              "      <td>150.500000</td>\n",
              "      <td>17.133333</td>\n",
              "      <td>36.886667</td>\n",
              "      <td>0.440000</td>\n",
              "    </tr>\n",
              "    <tr>\n",
              "      <th>std</th>\n",
              "      <td>0.817861</td>\n",
              "      <td>86.746758</td>\n",
              "      <td>10.942945</td>\n",
              "      <td>12.625841</td>\n",
              "      <td>0.497216</td>\n",
              "    </tr>\n",
              "    <tr>\n",
              "      <th>min</th>\n",
              "      <td>1.000000</td>\n",
              "      <td>1.000000</td>\n",
              "      <td>5.000000</td>\n",
              "      <td>18.000000</td>\n",
              "      <td>0.000000</td>\n",
              "    </tr>\n",
              "    <tr>\n",
              "      <th>25%</th>\n",
              "      <td>1.000000</td>\n",
              "      <td>75.750000</td>\n",
              "      <td>9.000000</td>\n",
              "      <td>26.000000</td>\n",
              "      <td>0.000000</td>\n",
              "    </tr>\n",
              "    <tr>\n",
              "      <th>50%</th>\n",
              "      <td>2.000000</td>\n",
              "      <td>150.500000</td>\n",
              "      <td>14.000000</td>\n",
              "      <td>36.000000</td>\n",
              "      <td>0.000000</td>\n",
              "    </tr>\n",
              "    <tr>\n",
              "      <th>75%</th>\n",
              "      <td>3.000000</td>\n",
              "      <td>225.250000</td>\n",
              "      <td>20.000000</td>\n",
              "      <td>48.000000</td>\n",
              "      <td>1.000000</td>\n",
              "    </tr>\n",
              "    <tr>\n",
              "      <th>max</th>\n",
              "      <td>3.000000</td>\n",
              "      <td>300.000000</td>\n",
              "      <td>48.000000</td>\n",
              "      <td>60.000000</td>\n",
              "      <td>1.000000</td>\n",
              "    </tr>\n",
              "  </tbody>\n",
              "</table>\n",
              "</div>\n",
              "    <div class=\"colab-df-buttons\">\n",
              "\n",
              "  <div class=\"colab-df-container\">\n",
              "    <button class=\"colab-df-convert\" onclick=\"convertToInteractive('df-45a1fc41-bf9e-4243-b756-9404e40c6bf5')\"\n",
              "            title=\"Convert this dataframe to an interactive table.\"\n",
              "            style=\"display:none;\">\n",
              "\n",
              "  <svg xmlns=\"http://www.w3.org/2000/svg\" height=\"24px\" viewBox=\"0 -960 960 960\">\n",
              "    <path d=\"M120-120v-720h720v720H120Zm60-500h600v-160H180v160Zm220 220h160v-160H400v160Zm0 220h160v-160H400v160ZM180-400h160v-160H180v160Zm440 0h160v-160H620v160ZM180-180h160v-160H180v160Zm440 0h160v-160H620v160Z\"/>\n",
              "  </svg>\n",
              "    </button>\n",
              "\n",
              "  <style>\n",
              "    .colab-df-container {\n",
              "      display:flex;\n",
              "      gap: 12px;\n",
              "    }\n",
              "\n",
              "    .colab-df-convert {\n",
              "      background-color: #E8F0FE;\n",
              "      border: none;\n",
              "      border-radius: 50%;\n",
              "      cursor: pointer;\n",
              "      display: none;\n",
              "      fill: #1967D2;\n",
              "      height: 32px;\n",
              "      padding: 0 0 0 0;\n",
              "      width: 32px;\n",
              "    }\n",
              "\n",
              "    .colab-df-convert:hover {\n",
              "      background-color: #E2EBFA;\n",
              "      box-shadow: 0px 1px 2px rgba(60, 64, 67, 0.3), 0px 1px 3px 1px rgba(60, 64, 67, 0.15);\n",
              "      fill: #174EA6;\n",
              "    }\n",
              "\n",
              "    .colab-df-buttons div {\n",
              "      margin-bottom: 4px;\n",
              "    }\n",
              "\n",
              "    [theme=dark] .colab-df-convert {\n",
              "      background-color: #3B4455;\n",
              "      fill: #D2E3FC;\n",
              "    }\n",
              "\n",
              "    [theme=dark] .colab-df-convert:hover {\n",
              "      background-color: #434B5C;\n",
              "      box-shadow: 0px 1px 3px 1px rgba(0, 0, 0, 0.15);\n",
              "      filter: drop-shadow(0px 1px 2px rgba(0, 0, 0, 0.3));\n",
              "      fill: #FFFFFF;\n",
              "    }\n",
              "  </style>\n",
              "\n",
              "    <script>\n",
              "      const buttonEl =\n",
              "        document.querySelector('#df-45a1fc41-bf9e-4243-b756-9404e40c6bf5 button.colab-df-convert');\n",
              "      buttonEl.style.display =\n",
              "        google.colab.kernel.accessAllowed ? 'block' : 'none';\n",
              "\n",
              "      async function convertToInteractive(key) {\n",
              "        const element = document.querySelector('#df-45a1fc41-bf9e-4243-b756-9404e40c6bf5');\n",
              "        const dataTable =\n",
              "          await google.colab.kernel.invokeFunction('convertToInteractive',\n",
              "                                                    [key], {});\n",
              "        if (!dataTable) return;\n",
              "\n",
              "        const docLinkHtml = 'Like what you see? Visit the ' +\n",
              "          '<a target=\"_blank\" href=https://colab.research.google.com/notebooks/data_table.ipynb>data table notebook</a>'\n",
              "          + ' to learn more about interactive tables.';\n",
              "        element.innerHTML = '';\n",
              "        dataTable['output_type'] = 'display_data';\n",
              "        await google.colab.output.renderOutput(dataTable, element);\n",
              "        const docLink = document.createElement('div');\n",
              "        docLink.innerHTML = docLinkHtml;\n",
              "        element.appendChild(docLink);\n",
              "      }\n",
              "    </script>\n",
              "  </div>\n",
              "\n",
              "\n",
              "<div id=\"df-bc7ea3c8-3d27-4736-9ca3-3960c5c86ac1\">\n",
              "  <button class=\"colab-df-quickchart\" onclick=\"quickchart('df-bc7ea3c8-3d27-4736-9ca3-3960c5c86ac1')\"\n",
              "            title=\"Suggest charts\"\n",
              "            style=\"display:none;\">\n",
              "\n",
              "<svg xmlns=\"http://www.w3.org/2000/svg\" height=\"24px\"viewBox=\"0 0 24 24\"\n",
              "     width=\"24px\">\n",
              "    <g>\n",
              "        <path d=\"M19 3H5c-1.1 0-2 .9-2 2v14c0 1.1.9 2 2 2h14c1.1 0 2-.9 2-2V5c0-1.1-.9-2-2-2zM9 17H7v-7h2v7zm4 0h-2V7h2v10zm4 0h-2v-4h2v4z\"/>\n",
              "    </g>\n",
              "</svg>\n",
              "  </button>\n",
              "\n",
              "<style>\n",
              "  .colab-df-quickchart {\n",
              "      --bg-color: #E8F0FE;\n",
              "      --fill-color: #1967D2;\n",
              "      --hover-bg-color: #E2EBFA;\n",
              "      --hover-fill-color: #174EA6;\n",
              "      --disabled-fill-color: #AAA;\n",
              "      --disabled-bg-color: #DDD;\n",
              "  }\n",
              "\n",
              "  [theme=dark] .colab-df-quickchart {\n",
              "      --bg-color: #3B4455;\n",
              "      --fill-color: #D2E3FC;\n",
              "      --hover-bg-color: #434B5C;\n",
              "      --hover-fill-color: #FFFFFF;\n",
              "      --disabled-bg-color: #3B4455;\n",
              "      --disabled-fill-color: #666;\n",
              "  }\n",
              "\n",
              "  .colab-df-quickchart {\n",
              "    background-color: var(--bg-color);\n",
              "    border: none;\n",
              "    border-radius: 50%;\n",
              "    cursor: pointer;\n",
              "    display: none;\n",
              "    fill: var(--fill-color);\n",
              "    height: 32px;\n",
              "    padding: 0;\n",
              "    width: 32px;\n",
              "  }\n",
              "\n",
              "  .colab-df-quickchart:hover {\n",
              "    background-color: var(--hover-bg-color);\n",
              "    box-shadow: 0 1px 2px rgba(60, 64, 67, 0.3), 0 1px 3px 1px rgba(60, 64, 67, 0.15);\n",
              "    fill: var(--button-hover-fill-color);\n",
              "  }\n",
              "\n",
              "  .colab-df-quickchart-complete:disabled,\n",
              "  .colab-df-quickchart-complete:disabled:hover {\n",
              "    background-color: var(--disabled-bg-color);\n",
              "    fill: var(--disabled-fill-color);\n",
              "    box-shadow: none;\n",
              "  }\n",
              "\n",
              "  .colab-df-spinner {\n",
              "    border: 2px solid var(--fill-color);\n",
              "    border-color: transparent;\n",
              "    border-bottom-color: var(--fill-color);\n",
              "    animation:\n",
              "      spin 1s steps(1) infinite;\n",
              "  }\n",
              "\n",
              "  @keyframes spin {\n",
              "    0% {\n",
              "      border-color: transparent;\n",
              "      border-bottom-color: var(--fill-color);\n",
              "      border-left-color: var(--fill-color);\n",
              "    }\n",
              "    20% {\n",
              "      border-color: transparent;\n",
              "      border-left-color: var(--fill-color);\n",
              "      border-top-color: var(--fill-color);\n",
              "    }\n",
              "    30% {\n",
              "      border-color: transparent;\n",
              "      border-left-color: var(--fill-color);\n",
              "      border-top-color: var(--fill-color);\n",
              "      border-right-color: var(--fill-color);\n",
              "    }\n",
              "    40% {\n",
              "      border-color: transparent;\n",
              "      border-right-color: var(--fill-color);\n",
              "      border-top-color: var(--fill-color);\n",
              "    }\n",
              "    60% {\n",
              "      border-color: transparent;\n",
              "      border-right-color: var(--fill-color);\n",
              "    }\n",
              "    80% {\n",
              "      border-color: transparent;\n",
              "      border-right-color: var(--fill-color);\n",
              "      border-bottom-color: var(--fill-color);\n",
              "    }\n",
              "    90% {\n",
              "      border-color: transparent;\n",
              "      border-bottom-color: var(--fill-color);\n",
              "    }\n",
              "  }\n",
              "</style>\n",
              "\n",
              "  <script>\n",
              "    async function quickchart(key) {\n",
              "      const quickchartButtonEl =\n",
              "        document.querySelector('#' + key + ' button');\n",
              "      quickchartButtonEl.disabled = true;  // To prevent multiple clicks.\n",
              "      quickchartButtonEl.classList.add('colab-df-spinner');\n",
              "      try {\n",
              "        const charts = await google.colab.kernel.invokeFunction(\n",
              "            'suggestCharts', [key], {});\n",
              "      } catch (error) {\n",
              "        console.error('Error during call to suggestCharts:', error);\n",
              "      }\n",
              "      quickchartButtonEl.classList.remove('colab-df-spinner');\n",
              "      quickchartButtonEl.classList.add('colab-df-quickchart-complete');\n",
              "    }\n",
              "    (() => {\n",
              "      let quickchartButtonEl =\n",
              "        document.querySelector('#df-bc7ea3c8-3d27-4736-9ca3-3960c5c86ac1 button');\n",
              "      quickchartButtonEl.style.display =\n",
              "        google.colab.kernel.accessAllowed ? 'block' : 'none';\n",
              "    })();\n",
              "  </script>\n",
              "</div>\n",
              "\n",
              "    </div>\n",
              "  </div>\n"
            ],
            "application/vnd.google.colaboratory.intrinsic+json": {
              "type": "dataframe",
              "summary": "{\n  \"name\": \"df_cosmeticos\",\n  \"rows\": 8,\n  \"fields\": [\n    {\n      \"column\": \"id_produto\",\n      \"properties\": {\n        \"dtype\": \"number\",\n        \"std\": 105.42213927167317,\n        \"min\": 0.8178608201095307,\n        \"max\": 300.0,\n        \"num_unique_values\": 5,\n        \"samples\": [\n          2.0,\n          3.0,\n          0.8178608201095307\n        ],\n        \"semantic_type\": \"\",\n        \"description\": \"\"\n      }\n    },\n    {\n      \"column\": \"id_volunt\\u00e1ria\",\n      \"properties\": {\n        \"dtype\": \"number\",\n        \"std\": 107.81683381169819,\n        \"min\": 1.0,\n        \"max\": 300.0,\n        \"num_unique_values\": 6,\n        \"samples\": [\n          300.0,\n          150.5,\n          225.25\n        ],\n        \"semantic_type\": \"\",\n        \"description\": \"\"\n      }\n    },\n    {\n      \"column\": \"durabilidade\",\n      \"properties\": {\n        \"dtype\": \"number\",\n        \"std\": 100.66863102790278,\n        \"min\": 5.0,\n        \"max\": 300.0,\n        \"num_unique_values\": 8,\n        \"samples\": [\n          17.133333333333333,\n          14.0,\n          300.0\n        ],\n        \"semantic_type\": \"\",\n        \"description\": \"\"\n      }\n    },\n    {\n      \"column\": \"idade\",\n      \"properties\": {\n        \"dtype\": \"number\",\n        \"std\": 95.32281697174108,\n        \"min\": 12.625841031845248,\n        \"max\": 300.0,\n        \"num_unique_values\": 8,\n        \"samples\": [\n          36.88666666666666,\n          36.0,\n          300.0\n        ],\n        \"semantic_type\": \"\",\n        \"description\": \"\"\n      }\n    },\n    {\n      \"column\": \"exposicao_sol\",\n      \"properties\": {\n        \"dtype\": \"number\",\n        \"std\": 105.91848023985831,\n        \"min\": 0.0,\n        \"max\": 300.0,\n        \"num_unique_values\": 5,\n        \"samples\": [\n          0.44,\n          1.0,\n          0.4972163314570019\n        ],\n        \"semantic_type\": \"\",\n        \"description\": \"\"\n      }\n    }\n  ]\n}"
            }
          },
          "metadata": {},
          "execution_count": 7
        }
      ]
    },
    {
      "cell_type": "code",
      "source": [
        "df_cosmeticos.info()"
      ],
      "metadata": {
        "colab": {
          "base_uri": "https://localhost:8080/"
        },
        "id": "InBSVNDza0ft",
        "outputId": "a8733ec6-5048-4ebe-82c4-3c1500081631"
      },
      "execution_count": null,
      "outputs": [
        {
          "output_type": "stream",
          "name": "stdout",
          "text": [
            "<class 'pandas.core.frame.DataFrame'>\n",
            "RangeIndex: 300 entries, 0 to 299\n",
            "Data columns (total 5 columns):\n",
            " #   Column         Non-Null Count  Dtype\n",
            "---  ------         --------------  -----\n",
            " 0   id_produto     300 non-null    int64\n",
            " 1   id_voluntária  300 non-null    int64\n",
            " 2   durabilidade   300 non-null    int64\n",
            " 3   idade          300 non-null    int64\n",
            " 4   exposicao_sol  300 non-null    int64\n",
            "dtypes: int64(5)\n",
            "memory usage: 11.8 KB\n"
          ]
        }
      ]
    },
    {
      "cell_type": "markdown",
      "source": [
        "##Questão 1\n",
        "Existe diferenca estatisticamente significativa na durabilidade dos batons com formulas diferentes?\n",
        "\n"
      ],
      "metadata": {
        "id": "MzCK9UZ_Z6HH"
      }
    },
    {
      "cell_type": "code",
      "source": [
        "#Vou utilizar o teste de Shapiro-Wilk para verificar a normalidade dos dados:\n",
        "# Retornando os Ids de cada tipo(fórmula) de batom\n",
        "batons_id = df_cosmeticos['id_produto'].unique()\n",
        "batons_id"
      ],
      "metadata": {
        "colab": {
          "base_uri": "https://localhost:8080/"
        },
        "id": "IYwvVu466rgd",
        "outputId": "1919aa87-123b-4010-cfdb-187aac3aaa55"
      },
      "execution_count": null,
      "outputs": [
        {
          "output_type": "execute_result",
          "data": {
            "text/plain": [
              "array([1, 2, 3])"
            ]
          },
          "metadata": {},
          "execution_count": 9
        }
      ]
    },
    {
      "cell_type": "code",
      "source": [
        "# Coletar as amostras de durabilidade para cada tipo(fórmula) de batom\n",
        "durabilidade_1 = df_cosmeticos[df_cosmeticos['id_produto'] == 1]['durabilidade']\n",
        "durabilidade_2 = df_cosmeticos[df_cosmeticos['id_produto'] == 2]['durabilidade']\n",
        "durabilidade_3 = df_cosmeticos[df_cosmeticos['id_produto'] == 3]['durabilidade']\n",
        "\n",
        "durabilidade_1, durabilidade_2, durabilidade_3"
      ],
      "metadata": {
        "colab": {
          "base_uri": "https://localhost:8080/"
        },
        "id": "8UCJstAr6t5k",
        "outputId": "91e8a365-817f-40db-a1e9-a9922b3a01a4"
      },
      "execution_count": null,
      "outputs": [
        {
          "output_type": "execute_result",
          "data": {
            "text/plain": [
              "(0      12\n",
              " 2      19\n",
              " 3      14\n",
              " 4      17\n",
              " 5      14\n",
              "        ..\n",
              " 195    11\n",
              " 196    14\n",
              " 197    10\n",
              " 198    14\n",
              " 199    15\n",
              " Name: durabilidade, Length: 100, dtype: int64,\n",
              " 1       5\n",
              " 9       7\n",
              " 13      5\n",
              " 14      9\n",
              " 15      7\n",
              "        ..\n",
              " 245     6\n",
              " 246    11\n",
              " 247     9\n",
              " 248     7\n",
              " 249     9\n",
              " Name: durabilidade, Length: 100, dtype: int64,\n",
              " 10     31\n",
              " 11     28\n",
              " 12     38\n",
              " 19     26\n",
              " 23     30\n",
              "        ..\n",
              " 295    18\n",
              " 296    30\n",
              " 297    43\n",
              " 298    41\n",
              " 299    25\n",
              " Name: durabilidade, Length: 100, dtype: int64)"
            ]
          },
          "metadata": {},
          "execution_count": 10
        }
      ]
    },
    {
      "cell_type": "code",
      "source": [
        "#Hipóteses do teste de Shapiro-Wilk:\n",
        "\n",
        "#Hipótese Nula (H0): Os dados seguem uma distribuição normal. (H0 é o que tem =)\n",
        "#Hipótese Alternativa (H1): Os dados não seguem uma distribuição normal.\n",
        "\n",
        "# Realizar o teste de Shapiro-Wilk para durabilidade_1\n",
        "shapiro_result_d1 = stats.shapiro(durabilidade_1)\n",
        "shapiro_result_d1"
      ],
      "metadata": {
        "colab": {
          "base_uri": "https://localhost:8080/"
        },
        "id": "bCnyPpr36xCO",
        "outputId": "fdc57105-02a8-4410-ddcf-5bd523dfb47f"
      },
      "execution_count": null,
      "outputs": [
        {
          "output_type": "execute_result",
          "data": {
            "text/plain": [
              "ShapiroResult(statistic=0.9121360340468334, pvalue=5.514552602529885e-06)"
            ]
          },
          "metadata": {},
          "execution_count": 11
        }
      ]
    },
    {
      "cell_type": "code",
      "source": [
        "# Realizar o teste de Shapiro-Wilk para durabilidade_2\n",
        "shapiro_result_d2 = stats.shapiro(durabilidade_2)\n",
        "shapiro_result_d2"
      ],
      "metadata": {
        "colab": {
          "base_uri": "https://localhost:8080/"
        },
        "id": "Oo_o9oKv60ir",
        "outputId": "ade5273c-a6de-46fc-d37a-8f7b0d65e811"
      },
      "execution_count": null,
      "outputs": [
        {
          "output_type": "execute_result",
          "data": {
            "text/plain": [
              "ShapiroResult(statistic=0.9233558250920623, pvalue=2.130231608850198e-05)"
            ]
          },
          "metadata": {},
          "execution_count": 12
        }
      ]
    },
    {
      "cell_type": "code",
      "source": [
        "# Realizar o teste de Shapiro-Wilk para durabilidade_3\n",
        "shapiro_result_d3 = stats.shapiro(durabilidade_3)\n",
        "shapiro_result_d3"
      ],
      "metadata": {
        "colab": {
          "base_uri": "https://localhost:8080/"
        },
        "id": "giLWQppz63mi",
        "outputId": "06031f89-f231-48e7-a1fc-24c619e6f850"
      },
      "execution_count": null,
      "outputs": [
        {
          "output_type": "execute_result",
          "data": {
            "text/plain": [
              "ShapiroResult(statistic=0.9472153860995577, pvalue=0.0005462962631409984)"
            ]
          },
          "metadata": {},
          "execution_count": 13
        }
      ]
    },
    {
      "cell_type": "code",
      "source": [
        "# Interpretar os resultados do teste de Shapiro-Wilk para durabilidade_1\n",
        "# pvalue=5.514552602529885e-06 =  5.514552602529885X 10^-6 = 0.000005514552602529885\n",
        "\n",
        "alpha = 0.05\n",
        "\n",
        "if shapiro_result_d1.pvalue < alpha:\n",
        "    print(f\"Os dados não seguem uma distribuição normal (p-valor < {alpha}).\") #H1 (rejeição de H0)\n",
        "else:\n",
        "    print(f\": Os dados seguem uma distribuição normal (p-valor >= {alpha}).\") #H0"
      ],
      "metadata": {
        "colab": {
          "base_uri": "https://localhost:8080/"
        },
        "id": "J56M8MOJ65fS",
        "outputId": "c0a7741c-50b9-4c33-a852-739d50dfc960"
      },
      "execution_count": null,
      "outputs": [
        {
          "output_type": "stream",
          "name": "stdout",
          "text": [
            "Os dados não seguem uma distribuição normal (p-valor < 0.05).\n"
          ]
        }
      ]
    },
    {
      "cell_type": "code",
      "source": [
        "# Interpretar os resultados do teste de Shapiro-Wilk para durabilidade_2\n",
        "#pvalue=2.130231608850198e-05 = 2.130231608850198×10^-5 = 0.00002130231608850198\n",
        "alpha = 0.05\n",
        "\n",
        "if shapiro_result_d2.pvalue < alpha:\n",
        "    print(f\"Os dados não seguem uma distribuição normal (p-valor < {alpha}).\") #H1 (rejeição de H0)\n",
        "else:\n",
        "    print(f\": Os dados seguem uma distribuição normal (p-valor >= {alpha}).\") #H0"
      ],
      "metadata": {
        "colab": {
          "base_uri": "https://localhost:8080/"
        },
        "id": "4pIm8Ad46-Gy",
        "outputId": "04d72288-b7d3-4bdd-e1b4-92dbfaff194d"
      },
      "execution_count": null,
      "outputs": [
        {
          "output_type": "stream",
          "name": "stdout",
          "text": [
            "Os dados não seguem uma distribuição normal (p-valor < 0.05).\n"
          ]
        }
      ]
    },
    {
      "cell_type": "code",
      "source": [
        "# Interpretar os resultados do teste de Shapiro-Wilk para durabilidade_3\n",
        "#pvalue=0.0005462962631409984\n",
        "alpha = 0.05 #Se o p-valor < α (alpha): A hipótese nula (H0) é rejeitada\n",
        "\n",
        "if shapiro_result_d3.pvalue < alpha:\n",
        "    print(f\"Os dados não seguem uma distribuição normal (p-valor < {alpha}).\") #H1 (rejeição de H0)\n",
        "else:\n",
        "    print(f\"Os dados seguem uma distribuição normal (p-valor >= {alpha}).\") #H0"
      ],
      "metadata": {
        "colab": {
          "base_uri": "https://localhost:8080/"
        },
        "id": "RKLdBnzJ7AXq",
        "outputId": "07aeff06-1a75-40e5-a9e0-2dfcfb972eb8"
      },
      "execution_count": null,
      "outputs": [
        {
          "output_type": "stream",
          "name": "stdout",
          "text": [
            "Os dados não seguem uma distribuição normal (p-valor < 0.05).\n"
          ]
        }
      ]
    },
    {
      "cell_type": "code",
      "source": [
        "#Para verificar se há uma diferença estatisticamente significativa na durabilidade dos batons\n",
        "#será usado o teste Kruskal-Wallis\n",
        "\n",
        "#Hipótese Nula (H0): Não há diferença estatisticamente significativa na durabilidade dos produtos entre os diferentes id_produto.\n",
        "#Hipótese Alternativa (H1): Há uma diferença estatisticamente significativa na durabilidade dos produtos entre os diferentes id_produto.\n",
        "\n",
        "\n",
        "# Realizar o teste de Kruskal-Wallis\n",
        "kruskal_result = stats.kruskal(durabilidade_1, durabilidade_2, durabilidade_3)\n",
        "kruskal_result"
      ],
      "metadata": {
        "colab": {
          "base_uri": "https://localhost:8080/"
        },
        "id": "GUe9kJf17Cq7",
        "outputId": "e00ceced-935f-42cb-9db2-f56e780d8bf9"
      },
      "execution_count": null,
      "outputs": [
        {
          "output_type": "execute_result",
          "data": {
            "text/plain": [
              "KruskalResult(statistic=227.46096368302588, pvalue=4.050226510971091e-50)"
            ]
          },
          "metadata": {},
          "execution_count": 17
        }
      ]
    },
    {
      "cell_type": "code",
      "source": [
        "# Interpretar o resultado do teste de Kruskal-Wallis\n",
        "#pvalue=4.050226510971091e-50 = 4.050226510971091×10^-50\n",
        "alpha = 0.05\n",
        "if kruskal_result.pvalue < alpha:\n",
        "    print(\"Há uma diferença estatisticamente significativa na durabilidade dos produtos entre os diferentes id_produto.\") #H1\n",
        "else:\n",
        "    print(\"Não há diferença estatisticamente significativa na durabilidade dos produtos entre os diferentes id_produto.\")  #H0\n"
      ],
      "metadata": {
        "colab": {
          "base_uri": "https://localhost:8080/"
        },
        "id": "c5vWQMvG7JFF",
        "outputId": "629edfec-4574-4c7b-a833-c2321bc63e6a"
      },
      "execution_count": null,
      "outputs": [
        {
          "output_type": "stream",
          "name": "stdout",
          "text": [
            "Há uma diferença estatisticamente significativa na durabilidade dos produtos entre os diferentes id_produto.\n"
          ]
        }
      ]
    },
    {
      "cell_type": "code",
      "source": [
        "# Calcular a durabilidade média por id_produto\n",
        "durabilidade_media = df_cosmeticos.groupby('id_produto')['durabilidade'].mean().reset_index()\n",
        "\n",
        "# Plotar o gráfico de barras\n",
        "plt.figure(figsize=(10, 6))\n",
        "plt.bar(durabilidade_media['id_produto'], durabilidade_media['durabilidade'], color='skyblue', edgecolor='black')\n",
        "plt.title('Durabilidade Média dos Batons por ID')\n",
        "plt.xlabel('ID do Batom')\n",
        "plt.ylabel('Durabilidade Média')\n",
        "plt.xticks(durabilidade_media['id_produto'])  # Para garantir que todos os IDs sejam mostrados\n",
        "plt.grid(axis='y', alpha=0.75)\n",
        "plt.show()"
      ],
      "metadata": {
        "colab": {
          "base_uri": "https://localhost:8080/",
          "height": 548
        },
        "id": "bLr8D_Bi7VBA",
        "outputId": "e28d0270-ac57-4049-a4b5-1984037c7a26"
      },
      "execution_count": null,
      "outputs": [
        {
          "output_type": "display_data",
          "data": {
            "text/plain": [
              "<Figure size 1000x600 with 1 Axes>"
            ],
            "image/png": "[encoded data removed]"
          },
          "metadata": {}
        }
      ]
    },
    {
      "cell_type": "code",
      "source": [
        "# Configurar o estilo\n",
        "sns.set(style=\"whitegrid\")\n",
        "\n",
        "# Criar o boxplot\n",
        "plt.figure(figsize=(10, 6))\n",
        "sns.boxplot(x='id_produto', y='durabilidade', data=df_cosmeticos, palette='pastel')\n",
        "plt.title('Boxplot da Durabilidade dos Batons por ID')\n",
        "plt.xlabel('ID do Batom')\n",
        "plt.ylabel('Durabilidade')\n",
        "plt.grid(axis='y', alpha=0.75)\n",
        "plt.show()"
      ],
      "metadata": {
        "colab": {
          "base_uri": "https://localhost:8080/",
          "height": 865
        },
        "id": "O2h_amDO7XK2",
        "outputId": "1e31bc63-56e1-48f5-9e69-8ce4f84932f1"
      },
      "execution_count": null,
      "outputs": [
        {
          "output_type": "stream",
          "name": "stderr",
          "text": [
            "<ipython-input-20-2ea8cf02a561>:6: FutureWarning: \n",
            "\n",
            "Passing `palette` without assigning `hue` is deprecated and will be removed in v0.14.0. Assign the `x` variable to `hue` and set `legend=False` for the same effect.\n",
            "\n",
            "  sns.boxplot(x='id_produto', y='durabilidade', data=df_cosmeticos, palette='pastel')\n",
            "/usr/local/lib/python3.10/dist-packages/seaborn/_base.py:949: FutureWarning: When grouping with a length-1 list-like, you will need to pass a length-1 tuple to get_group in a future version of pandas. Pass `(name,)` instead of `name` to silence this warning.\n",
            "  data_subset = grouped_data.get_group(pd_key)\n",
            "/usr/local/lib/python3.10/dist-packages/seaborn/categorical.py:640: FutureWarning: SeriesGroupBy.grouper is deprecated and will be removed in a future version of pandas.\n",
            "  positions = grouped.grouper.result_index.to_numpy(dtype=float)\n",
            "/usr/local/lib/python3.10/dist-packages/seaborn/_base.py:949: FutureWarning: When grouping with a length-1 list-like, you will need to pass a length-1 tuple to get_group in a future version of pandas. Pass `(name,)` instead of `name` to silence this warning.\n",
            "  data_subset = grouped_data.get_group(pd_key)\n",
            "/usr/local/lib/python3.10/dist-packages/seaborn/categorical.py:640: FutureWarning: SeriesGroupBy.grouper is deprecated and will be removed in a future version of pandas.\n",
            "  positions = grouped.grouper.result_index.to_numpy(dtype=float)\n",
            "/usr/local/lib/python3.10/dist-packages/seaborn/_base.py:949: FutureWarning: When grouping with a length-1 list-like, you will need to pass a length-1 tuple to get_group in a future version of pandas. Pass `(name,)` instead of `name` to silence this warning.\n",
            "  data_subset = grouped_data.get_group(pd_key)\n",
            "/usr/local/lib/python3.10/dist-packages/seaborn/categorical.py:640: FutureWarning: SeriesGroupBy.grouper is deprecated and will be removed in a future version of pandas.\n",
            "  positions = grouped.grouper.result_index.to_numpy(dtype=float)\n"
          ]
        },
        {
          "output_type": "display_data",
          "data": {
            "text/plain": [
              "<Figure size 1000x600 with 1 Axes>"
            ],
            "image/png": "[encoded data removed]"
          },
          "metadata": {}
        }
      ]
    },
    {
      "cell_type": "markdown",
      "source": [
        "##Questão 2\n",
        "Essa diferença persiste ou não quando a voluntária se expõe ao sol? E com relação a idade?\n"
      ],
      "metadata": {
        "id": "fPzRcM15Z90m"
      }
    },
    {
      "cell_type": "code",
      "source": [
        "# Separar os dados por fórmula\n",
        "formula1 = df_cosmeticos[df_cosmeticos['id_produto'] == 1]\n",
        "formula2 = df_cosmeticos[df_cosmeticos['id_produto'] == 2]\n",
        "formula3 = df_cosmeticos[df_cosmeticos['id_produto'] == 3]\n",
        "\n",
        "# Variável para verificar exposição ao sol\n",
        "formula1_sol = formula1['exposicao_sol']\n",
        "formula2_sol = formula2['exposicao_sol']\n",
        "formula3_sol = formula3['exposicao_sol']\n",
        "\n",
        "# Aplicar o teste ANOVA (f_oneway) para voluntárias expostas ao sol (exposicao_sol == 1)\n",
        "F, p = stats.f_oneway(formula1[formula1_sol == 1]['durabilidade'],\n",
        "                      formula2[formula2_sol == 1]['durabilidade'],\n",
        "                      formula3[formula3_sol == 1]['durabilidade'])\n",
        "\n",
        "# Exibir os resultados\n",
        "print(f\"Estatística F: {F}\")\n",
        "print(f\"Valor p: {p}\")\n",
        "\n",
        "# Definir nível de significância\n",
        "alpha_anova = 0.05\n",
        "\n",
        "if p < alpha_anova:\n",
        "    print(\"A diferença de durabilidade persiste mesmo quando expostas ao sol.\")\n",
        "else:\n",
        "    print(\"A diferença de durabilidade não persiste quando expostas ao sol.\")\n"
      ],
      "metadata": {
        "colab": {
          "base_uri": "https://localhost:8080/"
        },
        "id": "GkZMRGSeACg2",
        "outputId": "62eb67b1-1087-4b01-8fe0-cc36304ce96a"
      },
      "execution_count": null,
      "outputs": [
        {
          "output_type": "stream",
          "name": "stdout",
          "text": [
            "Estatística F: 74.10157481249969\n",
            "Valor p: 3.737274200111132e-22\n",
            "A diferença de durabilidade persiste mesmo quando expostas ao sol.\n"
          ]
        }
      ]
    },
    {
      "cell_type": "code",
      "source": [
        "# Calcular a média de durabilidade e idade por id_produto e exposição ao sol\n",
        "media_durabilidade_idade = df_cosmeticos.groupby(['id_produto', 'exposicao_sol'])[['durabilidade', 'idade']].mean()\n",
        "\n",
        "# Exibir o resultado\n",
        "print(media_durabilidade_idade)\n"
      ],
      "metadata": {
        "colab": {
          "base_uri": "https://localhost:8080/"
        },
        "id": "pP9iHnfgFcet",
        "outputId": "a7fa5d7f-13ab-4cb7-e58a-53e002ef91fb"
      },
      "execution_count": null,
      "outputs": [
        {
          "output_type": "stream",
          "name": "stdout",
          "text": [
            "                          durabilidade      idade\n",
            "id_produto exposicao_sol                         \n",
            "1          0                 17.727273  39.800000\n",
            "           1                 11.911111  36.511111\n",
            "2          0                  7.961538  40.461538\n",
            "           1                  7.562500  37.375000\n",
            "3          0                 33.901639  26.131148\n",
            "           1                 20.102564  44.666667\n"
          ]
        }
      ]
    },
    {
      "cell_type": "code",
      "source": [
        "# Definir faixas etárias\n",
        "df_cosmeticos['faixa_etaria'] = pd.cut(df_cosmeticos['idade'], bins=[18, 30, 40, 50, 60], labels=['18-30', '31-40', '41-50', '51-60'])\n"
      ],
      "metadata": {
        "id": "Zb7jGGs3Fe1L"
      },
      "execution_count": null,
      "outputs": []
    },
    {
      "cell_type": "code",
      "source": [
        "# Filtrar as amostras de durabilidade para cada fórmula\n",
        "formula_1_idade = df_cosmeticos[df_cosmeticos['id_produto'] == 1]['durabilidade']\n",
        "formula_2_idade = df_cosmeticos[df_cosmeticos['id_produto'] == 2]['durabilidade']\n",
        "formula_3_idade = df_cosmeticos[df_cosmeticos['id_produto'] == 3]['durabilidade']\n",
        "\n",
        "# Aplicar o teste ANOVA para verificar se a diferença persiste com base na idade\n",
        "estatistica_idade, p_valor_idade = stats.f_oneway(formula_1_idade, formula_2_idade, formula_3_idade)\n",
        "\n",
        "# Exibir os resultados\n",
        "print(f\"F: {estatistica_idade:.2f}, p-valor: {p_valor_idade:.2e}\")\n",
        "\n",
        "# Verificar significância\n",
        "if p_valor_idade < 0.05:\n",
        "    print(\"Diferença significativa em relação à idade.\")\n",
        "else:\n",
        "    print(\"Sem diferença significativa em relação à idade.\")\n"
      ],
      "metadata": {
        "colab": {
          "base_uri": "https://localhost:8080/"
        },
        "id": "9mfBoFwiFhBk",
        "outputId": "0474e970-f9ed-439a-8a82-348f1c4426f8"
      },
      "execution_count": null,
      "outputs": [
        {
          "output_type": "stream",
          "name": "stdout",
          "text": [
            "F: 240.67, p-valor: 7.35e-63\n",
            "Diferença significativa em relação à idade.\n"
          ]
        }
      ]
    },
    {
      "cell_type": "code",
      "source": [
        "# Calcular a média de durabilidade e idade por id_produto e faixa etária\n",
        "media_durabilidade_idade_faixa = df_cosmeticos.groupby(['id_produto', 'faixa_etaria'])[['durabilidade', 'idade']].mean()\n",
        "\n",
        "# Exibir o resultado\n",
        "print(media_durabilidade_idade_faixa)\n"
      ],
      "metadata": {
        "colab": {
          "base_uri": "https://localhost:8080/"
        },
        "id": "k04I_45cFkLD",
        "outputId": "2ad42838-785a-4d94-8785-03af78b2dc60"
      },
      "execution_count": null,
      "outputs": [
        {
          "output_type": "stream",
          "name": "stdout",
          "text": [
            "                         durabilidade      idade\n",
            "id_produto faixa_etaria                         \n",
            "1          18-30            14.636364  25.121212\n",
            "           31-40            14.090909  35.363636\n",
            "           41-50            15.740741  45.703704\n",
            "           51-60            16.277778  55.055556\n",
            "2          18-30             6.333333  24.333333\n",
            "           31-40             6.058824  35.705882\n",
            "           41-50             9.323529  45.558824\n",
            "           51-60             9.166667  56.277778\n",
            "3          18-30            35.948276  24.051724\n",
            "           31-40            17.100000  37.600000\n",
            "           41-50            18.411765  46.470588\n",
            "           51-60            16.230769  56.846154\n"
          ]
        },
        {
          "output_type": "stream",
          "name": "stderr",
          "text": [
            "<ipython-input-25-53e8af654cf3>:2: FutureWarning: The default of observed=False is deprecated and will be changed to True in a future version of pandas. Pass observed=False to retain current behavior or observed=True to adopt the future default and silence this warning.\n",
            "  media_durabilidade_idade_faixa = df_cosmeticos.groupby(['id_produto', 'faixa_etaria'])[['durabilidade', 'idade']].mean()\n"
          ]
        }
      ]
    },
    {
      "cell_type": "markdown",
      "source": [
        "##Questão 3\n",
        "Qual fórmula de batom você indicaria para consumidores que buscam maior\n",
        "durabilidade e exposição ao sol?"
      ],
      "metadata": {
        "id": "8jz6-CZDaD3H"
      }
    },
    {
      "cell_type": "markdown",
      "source": [
        "Primeiro, para essa análise, iremos utilizar o teste ANOVA, uma vez que precisamos comparar a média de três grupos: os produtos tipo 1, 2 e 3. E com isso verificarmos se realmente há uma diferença significativa na durabilidade entre os produtos.\n",
        "\n",
        "Determinando as hipóteses:\n",
        "\n",
        "\n",
        "H0: **Não há diferença** significativa na durabilidade com base na exposição ao sol entre as fórmulas de batom.\n",
        "\n",
        "H1: **Há uma diferença** significativa na durabilidade com base na exposição ao sol entre as fórmulas de batom.\n",
        "\n",
        "\n",
        "Passamos para a aplicação do teste:"
      ],
      "metadata": {
        "id": "Tgz4yyVaa5Tb"
      }
    },
    {
      "cell_type": "code",
      "execution_count": null,
      "metadata": {
        "id": "ReO09XyjBFEp",
        "colab": {
          "base_uri": "https://localhost:8080/"
        },
        "outputId": "bf9c43db-30c7-4ceb-c1e2-c788b3710c14"
      },
      "outputs": [
        {
          "output_type": "stream",
          "name": "stdout",
          "text": [
            "Rejeita H0: Há uma diferença significativa na durabilidade com base na exposição ao sol entre as fórmulas.\n"
          ]
        }
      ],
      "source": [
        "#Como queremos temos interesse apenas em produtos que tiveram exposição ao sol, vamos realizar o filtro do DF:\n",
        "df_cosmeticos_sol = df_cosmeticos[df_cosmeticos['exposicao_sol'] == 1]\n",
        "\n",
        "#Realizando agrupamento dos produtos\n",
        "df_cosmeticos_sol_1 = df_cosmeticos_sol[df_cosmeticos_sol['id_produto'] == 1]['durabilidade']\n",
        "df_cosmeticos_sol_2 = df_cosmeticos_sol[df_cosmeticos_sol['id_produto'] == 2]['durabilidade']\n",
        "df_cosmeticos_sol_3 = df_cosmeticos_sol[df_cosmeticos_sol['id_produto'] == 3]['durabilidade']\n",
        "\n",
        "#Aplicando o teste ANOVA\n",
        "estatistica_f, p_value = stats.f_oneway(df_cosmeticos_sol_1, df_cosmeticos_sol_2, df_cosmeticos_sol_3)\n",
        "\n",
        "#Utilizando alpha com nível de significância de 5%\n",
        "if p_value < 0.05:\n",
        "    print('Rejeita H0: Há uma diferença significativa na durabilidade com base na exposição ao sol entre as fórmulas.')\n",
        "else:\n",
        "    print('Não rejeita H0: Não há diferença significativa na durabilidade com base na exposição ao sol entre as fórmulas.')"
      ]
    },
    {
      "cell_type": "markdown",
      "source": [
        "Através do teste, concluímos que realmente há uma diferença significativa entre a durabilidade dos produtos. Com isso, podemos comparar a média de cada um:"
      ],
      "metadata": {
        "id": "-Z3_1pNqa846"
      }
    },
    {
      "cell_type": "code",
      "source": [
        "media_durabilidade = df_cosmeticos_sol.groupby('id_produto')['durabilidade'].mean()\n",
        "media_durabilidade"
      ],
      "metadata": {
        "colab": {
          "base_uri": "https://localhost:8080/",
          "height": 209
        },
        "id": "cyUTaFDWa-Ks",
        "outputId": "315c346f-ea3c-402e-e0a4-e137c0aa2c71"
      },
      "execution_count": null,
      "outputs": [
        {
          "output_type": "execute_result",
          "data": {
            "text/plain": [
              "id_produto\n",
              "1    11.911111\n",
              "2     7.562500\n",
              "3    20.102564\n",
              "Name: durabilidade, dtype: float64"
            ],
            "text/html": [
              "<div>\n",
              "<style scoped>\n",
              "    .dataframe tbody tr th:only-of-type {\n",
              "        vertical-align: middle;\n",
              "    }\n",
              "\n",
              "    .dataframe tbody tr th {\n",
              "        vertical-align: top;\n",
              "    }\n",
              "\n",
              "    .dataframe thead th {\n",
              "        text-align: right;\n",
              "    }\n",
              "</style>\n",
              "<table border=\"1\" class=\"dataframe\">\n",
              "  <thead>\n",
              "    <tr style=\"text-align: right;\">\n",
              "      <th></th>\n",
              "      <th>durabilidade</th>\n",
              "    </tr>\n",
              "    <tr>\n",
              "      <th>id_produto</th>\n",
              "      <th></th>\n",
              "    </tr>\n",
              "  </thead>\n",
              "  <tbody>\n",
              "    <tr>\n",
              "      <th>1</th>\n",
              "      <td>11.911111</td>\n",
              "    </tr>\n",
              "    <tr>\n",
              "      <th>2</th>\n",
              "      <td>7.562500</td>\n",
              "    </tr>\n",
              "    <tr>\n",
              "      <th>3</th>\n",
              "      <td>20.102564</td>\n",
              "    </tr>\n",
              "  </tbody>\n",
              "</table>\n",
              "</div><br><label><b>dtype:</b> float64</label>"
            ]
          },
          "metadata": {},
          "execution_count": 27
        }
      ]
    },
    {
      "cell_type": "code",
      "source": [
        "#Plotando gráfico de barras dos produtos por durabilidade\n",
        "sns.set(style=\"darkgrid\")\n",
        "plt.figure(figsize=(8, 6))\n",
        "\n",
        "ax = sns.barplot(x=media_durabilidade.index, y=media_durabilidade.values, palette=\"flare\")\n",
        "plt.title(\"Durabilidade do Batom por Exposição ao Sol\", fontsize=14)\n",
        "plt.xlabel(\"Fórmula\", fontsize=10)\n",
        "plt.ylabel(\"Média da Durabilidade em Horas\", fontsize=10)\n",
        "\n",
        "ax.bar_label(ax.containers[0], fontsize=9)\n",
        "ax.bar_label(ax.containers[1], fontsize=9)\n",
        "ax.bar_label(ax.containers[2], fontsize=9)\n",
        "\n",
        "plt.tight_layout()\n",
        "plt.show()"
      ],
      "metadata": {
        "colab": {
          "base_uri": "https://localhost:8080/",
          "height": 812
        },
        "id": "r934iTk6a_t1",
        "outputId": "2ffdb8de-1425-4965-d7a8-ec7d371b01a1"
      },
      "execution_count": null,
      "outputs": [
        {
          "output_type": "stream",
          "name": "stderr",
          "text": [
            "<ipython-input-28-fad8ecdc10b2>:5: FutureWarning: \n",
            "\n",
            "Passing `palette` without assigning `hue` is deprecated and will be removed in v0.14.0. Assign the `x` variable to `hue` and set `legend=False` for the same effect.\n",
            "\n",
            "  ax = sns.barplot(x=media_durabilidade.index, y=media_durabilidade.values, palette=\"flare\")\n",
            "/usr/local/lib/python3.10/dist-packages/seaborn/_base.py:949: FutureWarning: When grouping with a length-1 list-like, you will need to pass a length-1 tuple to get_group in a future version of pandas. Pass `(name,)` instead of `name` to silence this warning.\n",
            "  data_subset = grouped_data.get_group(pd_key)\n",
            "/usr/local/lib/python3.10/dist-packages/seaborn/_base.py:949: FutureWarning: When grouping with a length-1 list-like, you will need to pass a length-1 tuple to get_group in a future version of pandas. Pass `(name,)` instead of `name` to silence this warning.\n",
            "  data_subset = grouped_data.get_group(pd_key)\n",
            "/usr/local/lib/python3.10/dist-packages/seaborn/_base.py:949: FutureWarning: When grouping with a length-1 list-like, you will need to pass a length-1 tuple to get_group in a future version of pandas. Pass `(name,)` instead of `name` to silence this warning.\n",
            "  data_subset = grouped_data.get_group(pd_key)\n"
          ]
        },
        {
          "output_type": "display_data",
          "data": {
            "text/plain": [
              "<Figure size 800x600 with 1 Axes>"
            ],
            "image/png": "[encoded data removed]"
          },
          "metadata": {}
        }
      ]
    },
    {
      "cell_type": "markdown",
      "source": [
        "Resposta: podemos concluir que o produto mais indicado para aqueles que buscam maior durabilidade com base na exposição ao sol, é **a fórmula do produto 3**."
      ],
      "metadata": {
        "id": "s2kYvQlZbB-B"
      }
    },
    {
      "cell_type": "markdown",
      "source": [
        "# Desafio 2:"
      ],
      "metadata": {
        "id": "1mANP7CYaKLV"
      }
    },
    {
      "cell_type": "markdown",
      "source": [
        "Imagine que você trabalha em uma empresa do setor alimentício, e o preço de determinado produto, um novo picolé, tem uma distribuição normal com média igual a R$7,85 e desvio padrão igual a R3,32. Suspeita-se que devido ao verão, em determinadas localidades de praia o preco do picolé esteja mais caro.\n",
        "\n",
        "Para verificar se esse efeito é estatisticamente significativo, contactaram você, analista de dados.\n",
        "\n",
        "Suponha que para realizar essa análise voce tenha dados de 45 lojas em cidades do litoral, escolhidas aleatoriamente. E constatou que o preço médio do picolé nessas cidades é de R$11,52.\n"
      ],
      "metadata": {
        "id": "boItdDoJaOm-"
      }
    },
    {
      "cell_type": "code",
      "source": [
        "import scipy.stats as stats\n",
        "import math\n",
        "import numpy as np\n",
        "\n",
        "m_populacional = 7.85\n",
        "desvio_padrao = 3.32\n",
        "m_amostral = 11.52\n",
        "n = 45\n",
        "nivel_significancia = 0.05\n"
      ],
      "metadata": {
        "id": "KX1mUwwMzGNr"
      },
      "execution_count": null,
      "outputs": []
    },
    {
      "cell_type": "markdown",
      "source": [
        "##Questão 1\n",
        "Você pode concluir que existe diferença de preços estatisticamente\n",
        "relevante com 5% de significância?"
      ],
      "metadata": {
        "id": "Dl5lO-VwaaGz"
      }
    },
    {
      "cell_type": "code",
      "source": [
        "#Cálculo do erro padrão da média\n",
        "erro = m_populacional/np.sqrt(n)\n",
        "\n",
        "#Cálculo da estatítica Z\n",
        "z_score = (m_amostral - m_populacional) / erro\n",
        "\n",
        "# Valor crítico de Z para teste unilateral\n",
        "z_critical = stats.norm.ppf(1 - nivel_significancia)\n",
        "\n",
        "#Resultados\n",
        "print(f\"Valor da estatística Z: {z_score:.2f}\")\n",
        "print(f\"Valor crítico de Z: {z_critical:.2f}\")\n",
        "\n"
      ],
      "metadata": {
        "colab": {
          "base_uri": "https://localhost:8080/"
        },
        "id": "gZ2S7kw0uXAO",
        "outputId": "06c19b70-76e9-4dbf-e565-9e2aa5ca9284"
      },
      "execution_count": null,
      "outputs": [
        {
          "output_type": "stream",
          "name": "stdout",
          "text": [
            "Valor da estatística Z: 3.14\n",
            "Valor crítico de Z: 1.64\n"
          ]
        }
      ]
    },
    {
      "cell_type": "code",
      "source": [
        "if z_score > z_critical:\n",
        "  print(\"Existe diferença estatisticamente relevante com 5% de significância\")\n",
        "else:\n",
        "  print(\"Não existe diferença estatisticamente relevante com 5% de significância\")"
      ],
      "metadata": {
        "colab": {
          "base_uri": "https://localhost:8080/"
        },
        "id": "y8jqr43x00JF",
        "outputId": "061112a8-81ee-4f87-8db7-81f057e708d9"
      },
      "execution_count": null,
      "outputs": [
        {
          "output_type": "stream",
          "name": "stdout",
          "text": [
            "Existe diferença estatisticamente relevante com 5% de significância\n"
          ]
        }
      ]
    },
    {
      "cell_type": "markdown",
      "source": [
        "##Questão 2\n",
        "Qual o valor da variável teste, o intervalo de confianca e o p-valor?"
      ],
      "metadata": {
        "id": "Yh7CtEEwagTE"
      }
    },
    {
      "cell_type": "code",
      "source": [
        "# Calcular a estatística de teste\n",
        "z = (m_amostral - m_populacional) / (desvio_padrao / math.sqrt(n))\n",
        "\n",
        "# Calcular o p-valor\n",
        "p_valor = 1 - stats.norm.cdf(z)\n",
        "\n",
        "# Calcular o intervalo de confiança\n",
        "z_critico = stats.norm.ppf(1 - nivel_significancia / 2)\n",
        "margem_erro = z_critico * (desvio_padrao / math.sqrt(n))\n",
        "intervalo_confianca = (m_amostral - margem_erro, m_amostral + margem_erro)\n",
        "\n",
        "print(f\"Valor da estatística de teste (z): {z:.2f}\")\n",
        "print(f\"p-valor: {p_valor:.4f}\")\n",
        "print(f\"Intervalo de confiança: {intervalo_confianca[0]:.2f} a {intervalo_confianca[1]:.2f}\")"
      ],
      "metadata": {
        "colab": {
          "base_uri": "https://localhost:8080/"
        },
        "id": "nkH4hSrKz7xo",
        "outputId": "cdc54956-f58e-4c61-f55d-5f3eeb209793"
      },
      "execution_count": null,
      "outputs": [
        {
          "output_type": "stream",
          "name": "stdout",
          "text": [
            "Valor da estatística de teste (z): 7.42\n",
            "p-valor: 0.0000\n",
            "Intervalo de confiança: 10.55 a 12.49\n"
          ]
        }
      ]
    }
  ]
}