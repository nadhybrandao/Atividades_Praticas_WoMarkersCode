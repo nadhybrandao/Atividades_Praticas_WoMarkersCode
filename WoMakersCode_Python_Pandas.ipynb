{
  "nbformat": 4,
  "nbformat_minor": 0,
  "metadata": {
    "colab": {
      "provenance": [],
      "toc_visible": true,
      "authorship_tag": "ABX9TyOa6+3NjTCn6dOJq8rcVlqW",
      "include_colab_link": true
    },
    "kernelspec": {
      "name": "python3",
      "display_name": "Python 3"
    },
    "language_info": {
      "name": "python"
    }
  },
  "cells": [
    {
      "cell_type": "markdown",
      "metadata": {
        "id": "view-in-github",
        "colab_type": "text"
      },
      "source": [
        "<a href=\"https://colab.research.google.com/github/nadhybrandao/Atividades_Praticas_WoMarkersCode/blob/main/WoMakersCode_Python_Pandas.ipynb\" target=\"_parent\"><img src=\"https://colab.research.google.com/assets/colab-badge.svg\" alt=\"Open In Colab\"/></a>"
      ]
    },
    {
      "cell_type": "markdown",
      "source": [
        "## Python para Dados ##\n",
        "\n",
        "**Considerando a base de dados de saude_do_sono_estilo_vida.csv responda\n",
        "as questões abaixo.**\n",
        "\n",
        "Você é uma pesquisadora que está tentando entender melhor qual o impacto\n",
        "do estilo de vida de uma pessoa na sua qualidade de sono, por isso fez a\n",
        "coleta dos dados de sobre 373 pessoas, onde foram recolhidas 12\n",
        "características para cada uma delas. Por competência a sua pesquisa foi bem\n",
        "controlada e você não tem dados faltosos na sua base. Chegou o momento\n",
        "de você fazer sua análise e responder algumas perguntas.\n",
        "1. Ao visualizar a base você percebeu que seria melhor alterar o nome de\n",
        "algumas colunas. Mude o ‘ID’ para ‘Identificador’, corrija o nome da\n",
        "coluna que indica a pressão sanguínea, mude a coluna ‘Ocupação’ para\n",
        "‘Profissão’, a coluna ‘Categoria BMI’ está em parte em inglês, substitua\n",
        "para ‘Categoria IMC’.\n",
        "2. Qual é a média, a moda e a mediana de horas de sono para cada uma\n",
        "das profissões? [‘mean’, np.median, pd.Series.mod]\n",
        "3. Das pessoas que atuam com engenharia de software qual a\n",
        "porcentagem de obesos?\n",
        "4. De acordo com os dados, advogar ou ser representante de vendas faz\n",
        "você dormir menos? (Use o método ‘isin’, considere a média)\n",
        "5. Entre quem fez enfermagem e quem fez medicina, quem tem menos\n",
        "horas de sono? (Use o método ‘isin’, considere a média)\n",
        "6. Faça um subconjunto com as colunas Identificador, Gênero, Idade,\n",
        "Pressão sanguínea e Frequência cardíaca.\n",
        "7. Descubra qual a profissão menos frequente no conjunto. (Use\n",
        "value_counts)\n",
        "8. Quem tem maior pressão sanguínea média, homens ou mulheres?\n",
        "(Considere a média)\n",
        "9. É predominante entre os participantes dormir 8 horas por dia\n",
        "(considere usar Moda como medida)?\n",
        "10. Pessoas com frequências cardíacas acima de 70 dão mais passos que\n",
        "pessoas com frequência cardíaca menor ou igual a 70? (Use a média)"
      ],
      "metadata": {
        "id": "uD6A9LkcXiMj"
      }
    },
    {
      "cell_type": "code",
      "execution_count": null,
      "metadata": {
        "id": "W4vlaQwfQ1kG"
      },
      "outputs": [],
      "source": [
        "import pandas as pd\n",
        "import numpy as np"
      ]
    },
    {
      "cell_type": "code",
      "source": [
        "# Carregar a base de dados (usando um exemplo genérico já que não tenho o arquivo)\n",
        "df = pd.read_csv('saude_do_sono_estilo_vida.csv')"
      ],
      "metadata": {
        "id": "PLQygQfiRM2D"
      },
      "execution_count": null,
      "outputs": []
    },
    {
      "cell_type": "code",
      "source": [
        "# Alterar nomes de colunas\n",
        "df.rename(columns={\n",
        "    'ID': 'Identificador',\n",
        "    'Pressao_Sanguinea': 'Pressão_sanguínea',\n",
        "    'Ocupação': 'Profissão',\n",
        "    'Categoria BMI': 'Categoria IMC'\n",
        "}, inplace=True)\n",
        "df.head(400)"
      ],
      "metadata": {
        "colab": {
          "base_uri": "https://localhost:8080/",
          "height": 617
        },
        "id": "OKSbjsVrSA6_",
        "outputId": "e9da8693-bdc7-4f65-fcae-8ece8a571af8"
      },
      "execution_count": null,
      "outputs": [
        {
          "output_type": "execute_result",
          "data": {
            "text/plain": [
              "     Identificador  Gênero  Idade                Profissão  Duração do sono  \\\n",
              "0                1   Homem     27         Eng. de Software              6.1   \n",
              "1                2   Homem     28                Médico(a)              6.2   \n",
              "2                3   Homem     28                Médico(a)              6.2   \n",
              "3                4   Homem     28  Representante de Vendas              5.9   \n",
              "4                5   Homem     28  Representante de Vendas              5.9   \n",
              "..             ...     ...    ...                      ...              ...   \n",
              "368            369  Mulher     59            Enfermeiro(a)              8.1   \n",
              "369            370  Mulher     59            Enfermeiro(a)              8.1   \n",
              "370            371  Mulher     59            Enfermeiro(a)              8.0   \n",
              "371            372  Mulher     59            Enfermeiro(a)              8.1   \n",
              "372            373  Mulher     59            Enfermeiro(a)              8.1   \n",
              "\n",
              "     Qualidade do sono  Nível de atividade física  Nível de estresse  \\\n",
              "0                    6                         42                  6   \n",
              "1                    6                         60                  8   \n",
              "2                    6                         60                  8   \n",
              "3                    4                         30                  8   \n",
              "4                    4                         30                  8   \n",
              "..                 ...                        ...                ...   \n",
              "368                  9                         75                  3   \n",
              "369                  9                         75                  3   \n",
              "370                  9                         75                  3   \n",
              "371                  9                         75                  3   \n",
              "372                  9                         75                  3   \n",
              "\n",
              "    Categoria IMC Pressão sanguíneaaaa  Frequência cardíaca  Passos diários  \\\n",
              "0       Sobrepeso               126/83                   77            4200   \n",
              "1          Normal               125/80                   75           10000   \n",
              "2          Normal               125/80                   75           10000   \n",
              "3       Obesidade               140/90                   85            3000   \n",
              "4       Obesidade               140/90                   85            3000   \n",
              "..            ...                  ...                  ...             ...   \n",
              "368     Sobrepeso               140/95                   68            7000   \n",
              "369     Sobrepeso               140/95                   68            7000   \n",
              "370     Sobrepeso               140/95                   68            7000   \n",
              "371     Sobrepeso               140/95                   68            7000   \n",
              "372     Sobrepeso               140/95                   68            7000   \n",
              "\n",
              "    Distúrbio do sono  \n",
              "0             Nenhuma  \n",
              "1             Nenhuma  \n",
              "2             Nenhuma  \n",
              "3      Apneia do sono  \n",
              "4      Apneia do sono  \n",
              "..                ...  \n",
              "368    Apneia do sono  \n",
              "369    Apneia do sono  \n",
              "370    Apneia do sono  \n",
              "371    Apneia do sono  \n",
              "372    Apneia do sono  \n",
              "\n",
              "[373 rows x 13 columns]"
            ],
            "text/html": [
              "\n",
              "  <div id=\"df-a9e154bb-361b-45a6-9376-00bacae90d30\" class=\"colab-df-container\">\n",
              "    <div>\n",
              "<style scoped>\n",
              "    .dataframe tbody tr th:only-of-type {\n",
              "        vertical-align: middle;\n",
              "    }\n",
              "\n",
              "    .dataframe tbody tr th {\n",
              "        vertical-align: top;\n",
              "    }\n",
              "\n",
              "    .dataframe thead th {\n",
              "        text-align: right;\n",
              "    }\n",
              "</style>\n",
              "<table border=\"1\" class=\"dataframe\">\n",
              "  <thead>\n",
              "    <tr style=\"text-align: right;\">\n",
              "      <th></th>\n",
              "      <th>Identificador</th>\n",
              "      <th>Gênero</th>\n",
              "      <th>Idade</th>\n",
              "      <th>Profissão</th>\n",
              "      <th>Duração do sono</th>\n",
              "      <th>Qualidade do sono</th>\n",
              "      <th>Nível de atividade física</th>\n",
              "      <th>Nível de estresse</th>\n",
              "      <th>Categoria IMC</th>\n",
              "      <th>Pressão sanguíneaaaa</th>\n",
              "      <th>Frequência cardíaca</th>\n",
              "      <th>Passos diários</th>\n",
              "      <th>Distúrbio do sono</th>\n",
              "    </tr>\n",
              "  </thead>\n",
              "  <tbody>\n",
              "    <tr>\n",
              "      <th>0</th>\n",
              "      <td>1</td>\n",
              "      <td>Homem</td>\n",
              "      <td>27</td>\n",
              "      <td>Eng. de Software</td>\n",
              "      <td>6.1</td>\n",
              "      <td>6</td>\n",
              "      <td>42</td>\n",
              "      <td>6</td>\n",
              "      <td>Sobrepeso</td>\n",
              "      <td>126/83</td>\n",
              "      <td>77</td>\n",
              "      <td>4200</td>\n",
              "      <td>Nenhuma</td>\n",
              "    </tr>\n",
              "    <tr>\n",
              "      <th>1</th>\n",
              "      <td>2</td>\n",
              "      <td>Homem</td>\n",
              "      <td>28</td>\n",
              "      <td>Médico(a)</td>\n",
              "      <td>6.2</td>\n",
              "      <td>6</td>\n",
              "      <td>60</td>\n",
              "      <td>8</td>\n",
              "      <td>Normal</td>\n",
              "      <td>125/80</td>\n",
              "      <td>75</td>\n",
              "      <td>10000</td>\n",
              "      <td>Nenhuma</td>\n",
              "    </tr>\n",
              "    <tr>\n",
              "      <th>2</th>\n",
              "      <td>3</td>\n",
              "      <td>Homem</td>\n",
              "      <td>28</td>\n",
              "      <td>Médico(a)</td>\n",
              "      <td>6.2</td>\n",
              "      <td>6</td>\n",
              "      <td>60</td>\n",
              "      <td>8</td>\n",
              "      <td>Normal</td>\n",
              "      <td>125/80</td>\n",
              "      <td>75</td>\n",
              "      <td>10000</td>\n",
              "      <td>Nenhuma</td>\n",
              "    </tr>\n",
              "    <tr>\n",
              "      <th>3</th>\n",
              "      <td>4</td>\n",
              "      <td>Homem</td>\n",
              "      <td>28</td>\n",
              "      <td>Representante de Vendas</td>\n",
              "      <td>5.9</td>\n",
              "      <td>4</td>\n",
              "      <td>30</td>\n",
              "      <td>8</td>\n",
              "      <td>Obesidade</td>\n",
              "      <td>140/90</td>\n",
              "      <td>85</td>\n",
              "      <td>3000</td>\n",
              "      <td>Apneia do sono</td>\n",
              "    </tr>\n",
              "    <tr>\n",
              "      <th>4</th>\n",
              "      <td>5</td>\n",
              "      <td>Homem</td>\n",
              "      <td>28</td>\n",
              "      <td>Representante de Vendas</td>\n",
              "      <td>5.9</td>\n",
              "      <td>4</td>\n",
              "      <td>30</td>\n",
              "      <td>8</td>\n",
              "      <td>Obesidade</td>\n",
              "      <td>140/90</td>\n",
              "      <td>85</td>\n",
              "      <td>3000</td>\n",
              "      <td>Apneia do sono</td>\n",
              "    </tr>\n",
              "    <tr>\n",
              "      <th>...</th>\n",
              "      <td>...</td>\n",
              "      <td>...</td>\n",
              "      <td>...</td>\n",
              "      <td>...</td>\n",
              "      <td>...</td>\n",
              "      <td>...</td>\n",
              "      <td>...</td>\n",
              "      <td>...</td>\n",
              "      <td>...</td>\n",
              "      <td>...</td>\n",
              "      <td>...</td>\n",
              "      <td>...</td>\n",
              "      <td>...</td>\n",
              "    </tr>\n",
              "    <tr>\n",
              "      <th>368</th>\n",
              "      <td>369</td>\n",
              "      <td>Mulher</td>\n",
              "      <td>59</td>\n",
              "      <td>Enfermeiro(a)</td>\n",
              "      <td>8.1</td>\n",
              "      <td>9</td>\n",
              "      <td>75</td>\n",
              "      <td>3</td>\n",
              "      <td>Sobrepeso</td>\n",
              "      <td>140/95</td>\n",
              "      <td>68</td>\n",
              "      <td>7000</td>\n",
              "      <td>Apneia do sono</td>\n",
              "    </tr>\n",
              "    <tr>\n",
              "      <th>369</th>\n",
              "      <td>370</td>\n",
              "      <td>Mulher</td>\n",
              "      <td>59</td>\n",
              "      <td>Enfermeiro(a)</td>\n",
              "      <td>8.1</td>\n",
              "      <td>9</td>\n",
              "      <td>75</td>\n",
              "      <td>3</td>\n",
              "      <td>Sobrepeso</td>\n",
              "      <td>140/95</td>\n",
              "      <td>68</td>\n",
              "      <td>7000</td>\n",
              "      <td>Apneia do sono</td>\n",
              "    </tr>\n",
              "    <tr>\n",
              "      <th>370</th>\n",
              "      <td>371</td>\n",
              "      <td>Mulher</td>\n",
              "      <td>59</td>\n",
              "      <td>Enfermeiro(a)</td>\n",
              "      <td>8.0</td>\n",
              "      <td>9</td>\n",
              "      <td>75</td>\n",
              "      <td>3</td>\n",
              "      <td>Sobrepeso</td>\n",
              "      <td>140/95</td>\n",
              "      <td>68</td>\n",
              "      <td>7000</td>\n",
              "      <td>Apneia do sono</td>\n",
              "    </tr>\n",
              "    <tr>\n",
              "      <th>371</th>\n",
              "      <td>372</td>\n",
              "      <td>Mulher</td>\n",
              "      <td>59</td>\n",
              "      <td>Enfermeiro(a)</td>\n",
              "      <td>8.1</td>\n",
              "      <td>9</td>\n",
              "      <td>75</td>\n",
              "      <td>3</td>\n",
              "      <td>Sobrepeso</td>\n",
              "      <td>140/95</td>\n",
              "      <td>68</td>\n",
              "      <td>7000</td>\n",
              "      <td>Apneia do sono</td>\n",
              "    </tr>\n",
              "    <tr>\n",
              "      <th>372</th>\n",
              "      <td>373</td>\n",
              "      <td>Mulher</td>\n",
              "      <td>59</td>\n",
              "      <td>Enfermeiro(a)</td>\n",
              "      <td>8.1</td>\n",
              "      <td>9</td>\n",
              "      <td>75</td>\n",
              "      <td>3</td>\n",
              "      <td>Sobrepeso</td>\n",
              "      <td>140/95</td>\n",
              "      <td>68</td>\n",
              "      <td>7000</td>\n",
              "      <td>Apneia do sono</td>\n",
              "    </tr>\n",
              "  </tbody>\n",
              "</table>\n",
              "<p>373 rows × 13 columns</p>\n",
              "</div>\n",
              "    <div class=\"colab-df-buttons\">\n",
              "\n",
              "  <div class=\"colab-df-container\">\n",
              "    <button class=\"colab-df-convert\" onclick=\"convertToInteractive('df-a9e154bb-361b-45a6-9376-00bacae90d30')\"\n",
              "            title=\"Convert this dataframe to an interactive table.\"\n",
              "            style=\"display:none;\">\n",
              "\n",
              "  <svg xmlns=\"http://www.w3.org/2000/svg\" height=\"24px\" viewBox=\"0 -960 960 960\">\n",
              "    <path d=\"M120-120v-720h720v720H120Zm60-500h600v-160H180v160Zm220 220h160v-160H400v160Zm0 220h160v-160H400v160ZM180-400h160v-160H180v160Zm440 0h160v-160H620v160ZM180-180h160v-160H180v160Zm440 0h160v-160H620v160Z\"/>\n",
              "  </svg>\n",
              "    </button>\n",
              "\n",
              "  <style>\n",
              "    .colab-df-container {\n",
              "      display:flex;\n",
              "      gap: 12px;\n",
              "    }\n",
              "\n",
              "    .colab-df-convert {\n",
              "      background-color: #E8F0FE;\n",
              "      border: none;\n",
              "      border-radius: 50%;\n",
              "      cursor: pointer;\n",
              "      display: none;\n",
              "      fill: #1967D2;\n",
              "      height: 32px;\n",
              "      padding: 0 0 0 0;\n",
              "      width: 32px;\n",
              "    }\n",
              "\n",
              "    .colab-df-convert:hover {\n",
              "      background-color: #E2EBFA;\n",
              "      box-shadow: 0px 1px 2px rgba(60, 64, 67, 0.3), 0px 1px 3px 1px rgba(60, 64, 67, 0.15);\n",
              "      fill: #174EA6;\n",
              "    }\n",
              "\n",
              "    .colab-df-buttons div {\n",
              "      margin-bottom: 4px;\n",
              "    }\n",
              "\n",
              "    [theme=dark] .colab-df-convert {\n",
              "      background-color: #3B4455;\n",
              "      fill: #D2E3FC;\n",
              "    }\n",
              "\n",
              "    [theme=dark] .colab-df-convert:hover {\n",
              "      background-color: #434B5C;\n",
              "      box-shadow: 0px 1px 3px 1px rgba(0, 0, 0, 0.15);\n",
              "      filter: drop-shadow(0px 1px 2px rgba(0, 0, 0, 0.3));\n",
              "      fill: #FFFFFF;\n",
              "    }\n",
              "  </style>\n",
              "\n",
              "    <script>\n",
              "      const buttonEl =\n",
              "        document.querySelector('#df-a9e154bb-361b-45a6-9376-00bacae90d30 button.colab-df-convert');\n",
              "      buttonEl.style.display =\n",
              "        google.colab.kernel.accessAllowed ? 'block' : 'none';\n",
              "\n",
              "      async function convertToInteractive(key) {\n",
              "        const element = document.querySelector('#df-a9e154bb-361b-45a6-9376-00bacae90d30');\n",
              "        const dataTable =\n",
              "          await google.colab.kernel.invokeFunction('convertToInteractive',\n",
              "                                                    [key], {});\n",
              "        if (!dataTable) return;\n",
              "\n",
              "        const docLinkHtml = 'Like what you see? Visit the ' +\n",
              "          '<a target=\"_blank\" href=https://colab.research.google.com/notebooks/data_table.ipynb>data table notebook</a>'\n",
              "          + ' to learn more about interactive tables.';\n",
              "        element.innerHTML = '';\n",
              "        dataTable['output_type'] = 'display_data';\n",
              "        await google.colab.output.renderOutput(dataTable, element);\n",
              "        const docLink = document.createElement('div');\n",
              "        docLink.innerHTML = docLinkHtml;\n",
              "        element.appendChild(docLink);\n",
              "      }\n",
              "    </script>\n",
              "  </div>\n",
              "\n",
              "\n",
              "<div id=\"df-56b50f59-be7d-4a01-826c-f51fa059ae43\">\n",
              "  <button class=\"colab-df-quickchart\" onclick=\"quickchart('df-56b50f59-be7d-4a01-826c-f51fa059ae43')\"\n",
              "            title=\"Suggest charts\"\n",
              "            style=\"display:none;\">\n",
              "\n",
              "<svg xmlns=\"http://www.w3.org/2000/svg\" height=\"24px\"viewBox=\"0 0 24 24\"\n",
              "     width=\"24px\">\n",
              "    <g>\n",
              "        <path d=\"M19 3H5c-1.1 0-2 .9-2 2v14c0 1.1.9 2 2 2h14c1.1 0 2-.9 2-2V5c0-1.1-.9-2-2-2zM9 17H7v-7h2v7zm4 0h-2V7h2v10zm4 0h-2v-4h2v4z\"/>\n",
              "    </g>\n",
              "</svg>\n",
              "  </button>\n",
              "\n",
              "<style>\n",
              "  .colab-df-quickchart {\n",
              "      --bg-color: #E8F0FE;\n",
              "      --fill-color: #1967D2;\n",
              "      --hover-bg-color: #E2EBFA;\n",
              "      --hover-fill-color: #174EA6;\n",
              "      --disabled-fill-color: #AAA;\n",
              "      --disabled-bg-color: #DDD;\n",
              "  }\n",
              "\n",
              "  [theme=dark] .colab-df-quickchart {\n",
              "      --bg-color: #3B4455;\n",
              "      --fill-color: #D2E3FC;\n",
              "      --hover-bg-color: #434B5C;\n",
              "      --hover-fill-color: #FFFFFF;\n",
              "      --disabled-bg-color: #3B4455;\n",
              "      --disabled-fill-color: #666;\n",
              "  }\n",
              "\n",
              "  .colab-df-quickchart {\n",
              "    background-color: var(--bg-color);\n",
              "    border: none;\n",
              "    border-radius: 50%;\n",
              "    cursor: pointer;\n",
              "    display: none;\n",
              "    fill: var(--fill-color);\n",
              "    height: 32px;\n",
              "    padding: 0;\n",
              "    width: 32px;\n",
              "  }\n",
              "\n",
              "  .colab-df-quickchart:hover {\n",
              "    background-color: var(--hover-bg-color);\n",
              "    box-shadow: 0 1px 2px rgba(60, 64, 67, 0.3), 0 1px 3px 1px rgba(60, 64, 67, 0.15);\n",
              "    fill: var(--button-hover-fill-color);\n",
              "  }\n",
              "\n",
              "  .colab-df-quickchart-complete:disabled,\n",
              "  .colab-df-quickchart-complete:disabled:hover {\n",
              "    background-color: var(--disabled-bg-color);\n",
              "    fill: var(--disabled-fill-color);\n",
              "    box-shadow: none;\n",
              "  }\n",
              "\n",
              "  .colab-df-spinner {\n",
              "    border: 2px solid var(--fill-color);\n",
              "    border-color: transparent;\n",
              "    border-bottom-color: var(--fill-color);\n",
              "    animation:\n",
              "      spin 1s steps(1) infinite;\n",
              "  }\n",
              "\n",
              "  @keyframes spin {\n",
              "    0% {\n",
              "      border-color: transparent;\n",
              "      border-bottom-color: var(--fill-color);\n",
              "      border-left-color: var(--fill-color);\n",
              "    }\n",
              "    20% {\n",
              "      border-color: transparent;\n",
              "      border-left-color: var(--fill-color);\n",
              "      border-top-color: var(--fill-color);\n",
              "    }\n",
              "    30% {\n",
              "      border-color: transparent;\n",
              "      border-left-color: var(--fill-color);\n",
              "      border-top-color: var(--fill-color);\n",
              "      border-right-color: var(--fill-color);\n",
              "    }\n",
              "    40% {\n",
              "      border-color: transparent;\n",
              "      border-right-color: var(--fill-color);\n",
              "      border-top-color: var(--fill-color);\n",
              "    }\n",
              "    60% {\n",
              "      border-color: transparent;\n",
              "      border-right-color: var(--fill-color);\n",
              "    }\n",
              "    80% {\n",
              "      border-color: transparent;\n",
              "      border-right-color: var(--fill-color);\n",
              "      border-bottom-color: var(--fill-color);\n",
              "    }\n",
              "    90% {\n",
              "      border-color: transparent;\n",
              "      border-bottom-color: var(--fill-color);\n",
              "    }\n",
              "  }\n",
              "</style>\n",
              "\n",
              "  <script>\n",
              "    async function quickchart(key) {\n",
              "      const quickchartButtonEl =\n",
              "        document.querySelector('#' + key + ' button');\n",
              "      quickchartButtonEl.disabled = true;  // To prevent multiple clicks.\n",
              "      quickchartButtonEl.classList.add('colab-df-spinner');\n",
              "      try {\n",
              "        const charts = await google.colab.kernel.invokeFunction(\n",
              "            'suggestCharts', [key], {});\n",
              "      } catch (error) {\n",
              "        console.error('Error during call to suggestCharts:', error);\n",
              "      }\n",
              "      quickchartButtonEl.classList.remove('colab-df-spinner');\n",
              "      quickchartButtonEl.classList.add('colab-df-quickchart-complete');\n",
              "    }\n",
              "    (() => {\n",
              "      let quickchartButtonEl =\n",
              "        document.querySelector('#df-56b50f59-be7d-4a01-826c-f51fa059ae43 button');\n",
              "      quickchartButtonEl.style.display =\n",
              "        google.colab.kernel.accessAllowed ? 'block' : 'none';\n",
              "    })();\n",
              "  </script>\n",
              "</div>\n",
              "\n",
              "    </div>\n",
              "  </div>\n"
            ],
            "application/vnd.google.colaboratory.intrinsic+json": {
              "type": "dataframe",
              "variable_name": "df",
              "summary": "{\n  \"name\": \"df\",\n  \"rows\": 373,\n  \"fields\": [\n    {\n      \"column\": \"Identificador\",\n      \"properties\": {\n        \"dtype\": \"number\",\n        \"std\": 107,\n        \"min\": 1,\n        \"max\": 373,\n        \"num_unique_values\": 373,\n        \"samples\": [\n          328,\n          34,\n          16\n        ],\n        \"semantic_type\": \"\",\n        \"description\": \"\"\n      }\n    },\n    {\n      \"column\": \"G\\u00eanero\",\n      \"properties\": {\n        \"dtype\": \"category\",\n        \"num_unique_values\": 2,\n        \"samples\": [\n          \"Mulher\",\n          \"Homem\"\n        ],\n        \"semantic_type\": \"\",\n        \"description\": \"\"\n      }\n    },\n    {\n      \"column\": \"Idade\",\n      \"properties\": {\n        \"dtype\": \"number\",\n        \"std\": 8,\n        \"min\": 27,\n        \"max\": 59,\n        \"num_unique_values\": 31,\n        \"samples\": [\n          56,\n          42\n        ],\n        \"semantic_type\": \"\",\n        \"description\": \"\"\n      }\n    },\n    {\n      \"column\": \"Profiss\\u00e3o\",\n      \"properties\": {\n        \"dtype\": \"category\",\n        \"num_unique_values\": 11,\n        \"samples\": [\n          \"Engenheiro(a)\",\n          \"Eng. de Software\"\n        ],\n        \"semantic_type\": \"\",\n        \"description\": \"\"\n      }\n    },\n    {\n      \"column\": \"Dura\\u00e7\\u00e3o do sono\",\n      \"properties\": {\n        \"dtype\": \"number\",\n        \"std\": 0.795139135753872,\n        \"min\": 5.8,\n        \"max\": 8.5,\n        \"num_unique_values\": 27,\n        \"samples\": [\n          7.7,\n          5.8\n        ],\n        \"semantic_type\": \"\",\n        \"description\": \"\"\n      }\n    },\n    {\n      \"column\": \"Qualidade do sono\",\n      \"properties\": {\n        \"dtype\": \"number\",\n        \"std\": 1,\n        \"min\": 4,\n        \"max\": 9,\n        \"num_unique_values\": 6,\n        \"samples\": [\n          6,\n          4\n        ],\n        \"semantic_type\": \"\",\n        \"description\": \"\"\n      }\n    },\n    {\n      \"column\": \"N\\u00edvel de atividade f\\u00edsica\",\n      \"properties\": {\n        \"dtype\": \"number\",\n        \"std\": 20,\n        \"min\": 30,\n        \"max\": 90,\n        \"num_unique_values\": 16,\n        \"samples\": [\n          42,\n          60\n        ],\n        \"semantic_type\": \"\",\n        \"description\": \"\"\n      }\n    },\n    {\n      \"column\": \"N\\u00edvel de estresse\",\n      \"properties\": {\n        \"dtype\": \"number\",\n        \"std\": 1,\n        \"min\": 3,\n        \"max\": 8,\n        \"num_unique_values\": 6,\n        \"samples\": [\n          6,\n          8\n        ],\n        \"semantic_type\": \"\",\n        \"description\": \"\"\n      }\n    },\n    {\n      \"column\": \"Categoria IMC\",\n      \"properties\": {\n        \"dtype\": \"category\",\n        \"num_unique_values\": 4,\n        \"samples\": [\n          \"Normal\",\n          \"Peso normal\"\n        ],\n        \"semantic_type\": \"\",\n        \"description\": \"\"\n      }\n    },\n    {\n      \"column\": \"Press\\u00e3o sangu\\u00edneaaaa\",\n      \"properties\": {\n        \"dtype\": \"category\",\n        \"num_unique_values\": 25,\n        \"samples\": [\n          \"128/85\",\n          \"119/77\"\n        ],\n        \"semantic_type\": \"\",\n        \"description\": \"\"\n      }\n    },\n    {\n      \"column\": \"Frequ\\u00eancia card\\u00edaca\",\n      \"properties\": {\n        \"dtype\": \"number\",\n        \"std\": 4,\n        \"min\": 65,\n        \"max\": 86,\n        \"num_unique_values\": 19,\n        \"samples\": [\n          77,\n          80\n        ],\n        \"semantic_type\": \"\",\n        \"description\": \"\"\n      }\n    },\n    {\n      \"column\": \"Passos di\\u00e1rios\",\n      \"properties\": {\n        \"dtype\": \"number\",\n        \"std\": 1620,\n        \"min\": 3000,\n        \"max\": 10000,\n        \"num_unique_values\": 20,\n        \"samples\": [\n          4200,\n          6200\n        ],\n        \"semantic_type\": \"\",\n        \"description\": \"\"\n      }\n    },\n    {\n      \"column\": \"Dist\\u00farbio do sono\",\n      \"properties\": {\n        \"dtype\": \"category\",\n        \"num_unique_values\": 3,\n        \"samples\": [\n          \"Nenhuma\",\n          \"Apneia do sono\"\n        ],\n        \"semantic_type\": \"\",\n        \"description\": \"\"\n      }\n    }\n  ]\n}"
            }
          },
          "metadata": {},
          "execution_count": 19
        }
      ]
    },
    {
      "cell_type": "code",
      "source": [
        "# Média, moda e mediana de horas de sono por profissão\n",
        "sleep_stats = df.groupby('Profissão')['Duração do sono'].agg(['mean', np.median, pd.Series.mode])\n",
        "print(sleep_stats)"
      ],
      "metadata": {
        "colab": {
          "base_uri": "https://localhost:8080/"
        },
        "id": "FSUJwU2kSrHj",
        "outputId": "8d0ce1cb-687a-444a-99b6-549986cfa78f"
      },
      "execution_count": null,
      "outputs": [
        {
          "output_type": "stream",
          "name": "stdout",
          "text": [
            "                             mean  median        mode\n",
            "Profissão                                            \n",
            "Advogado(a)              7.410638     7.3         7.2\n",
            "Cientista                6.000000     6.0  [5.8, 6.2]\n",
            "Contador(a)              7.113514     7.2         7.2\n",
            "Enfermeiro(a)            7.048611     6.5         6.1\n",
            "Eng. de Software         6.750000     6.8         7.5\n",
            "Engenheiro(a)            7.987302     8.3         8.4\n",
            "Gerente                  6.900000     6.9         6.9\n",
            "Médico(a)                6.970423     7.6         6.0\n",
            "Pessoa Vendendora        6.403125     6.4         6.5\n",
            "Professor(a)             6.690000     6.6         6.6\n",
            "Representante de Vendas  5.900000     5.9         5.9\n"
          ]
        },
        {
          "output_type": "stream",
          "name": "stderr",
          "text": [
            "<ipython-input-21-5edeb0dcfd90>:2: FutureWarning: The provided callable <function median at 0x7a7ba18ef490> is currently using SeriesGroupBy.median. In a future version of pandas, the provided callable will be used directly. To keep current behavior pass the string \"median\" instead.\n",
            "  sleep_stats = df.groupby('Profissão')['Duração do sono'].agg(['mean', np.median, pd.Series.mode])\n"
          ]
        }
      ]
    },
    {
      "cell_type": "code",
      "source": [
        "# Porcentagem de obesos na engenharia de software\n",
        "perc_obese_software_eng = df[(df['Profissão'] == 'Eng. de Software') & (df['Categoria IMC'] == 'Obese')].shape[0] / df[df['Profissão'] == 'Eng. de Software'].shape[0] * 100\n",
        "print(f\"Porcentagem de obesos na Engenharia de software: {perc_obese_software_eng:.2f}%\")"
      ],
      "metadata": {
        "colab": {
          "base_uri": "https://localhost:8080/"
        },
        "id": "09CPGFRPTW-3",
        "outputId": "b3c84d3d-c675-4cf8-95ee-8eaf65e164b8"
      },
      "execution_count": null,
      "outputs": [
        {
          "output_type": "stream",
          "name": "stdout",
          "text": [
            "Porcentagem de obesos na Engenharia de software: 0.00%\n"
          ]
        }
      ]
    },
    {
      "cell_type": "code",
      "source": [
        "# Advogado ou representante de vendas dormem menos?\n",
        "dormir_adv_rep = df[df['Profissão'].isin(['Advogado(a)', 'Representante de Vendas'])].groupby('Profissão')['Duração do sono'].mean()\n",
        "print(dormir_adv_rep)"
      ],
      "metadata": {
        "colab": {
          "base_uri": "https://localhost:8080/"
        },
        "id": "8W9Kfza2T0F0",
        "outputId": "7bd23006-ec5e-4237-e7a4-2b44ecafd70c"
      },
      "execution_count": null,
      "outputs": [
        {
          "output_type": "stream",
          "name": "stdout",
          "text": [
            "Profissão\n",
            "Advogado(a)                7.410638\n",
            "Representante de Vendas    5.900000\n",
            "Name: Duração do sono, dtype: float64\n"
          ]
        }
      ]
    },
    {
      "cell_type": "code",
      "source": [
        "# Quem dorme menos: enfermeiros ou médicos?\n",
        "dormir_menos = df[df['Profissão'].isin(['Enfermeiro(a)', 'Medicina(a)'])].groupby('Profissão')['Duração do sono'].mean()\n",
        "print(dormir_menos)"
      ],
      "metadata": {
        "colab": {
          "base_uri": "https://localhost:8080/"
        },
        "id": "ikzpKYPRUErT",
        "outputId": "3d30af87-aa4e-46de-99ca-307b9c6adbcd"
      },
      "execution_count": null,
      "outputs": [
        {
          "output_type": "stream",
          "name": "stdout",
          "text": [
            "Profissão\n",
            "Enfermeiro(a)    7.048611\n",
            "Name: Duração do sono, dtype: float64\n"
          ]
        }
      ]
    },
    {
      "cell_type": "code",
      "source": [
        "# Subconjunto com colunas específicas\n",
        "subset_df = df[['Identificador', 'Gênero', 'Idade', 'Pressão sanguíneaaaa', 'Frequência cardíaca']]\n",
        "print(subset_df)"
      ],
      "metadata": {
        "colab": {
          "base_uri": "https://localhost:8080/"
        },
        "id": "eim3k6WGUHeV",
        "outputId": "1332619f-6d63-4285-b46c-2f886606b2e7"
      },
      "execution_count": null,
      "outputs": [
        {
          "output_type": "stream",
          "name": "stdout",
          "text": [
            "     Identificador  Gênero  Idade Pressão sanguíneaaaa  Frequência cardíaca\n",
            "0                1   Homem     27               126/83                   77\n",
            "1                2   Homem     28               125/80                   75\n",
            "2                3   Homem     28               125/80                   75\n",
            "3                4   Homem     28               140/90                   85\n",
            "4                5   Homem     28               140/90                   85\n",
            "..             ...     ...    ...                  ...                  ...\n",
            "368            369  Mulher     59               140/95                   68\n",
            "369            370  Mulher     59               140/95                   68\n",
            "370            371  Mulher     59               140/95                   68\n",
            "371            372  Mulher     59               140/95                   68\n",
            "372            373  Mulher     59               140/95                   68\n",
            "\n",
            "[373 rows x 5 columns]\n"
          ]
        }
      ]
    },
    {
      "cell_type": "code",
      "source": [
        "# Profissão menos frequente\n",
        "p_menos_frenq = df['Profissão'].value_counts().idxmin()\n",
        "print(f\"Profissão menos frequente: {p_menos_frenq}\")"
      ],
      "metadata": {
        "colab": {
          "base_uri": "https://localhost:8080/"
        },
        "id": "OvSU0j-CUJh9",
        "outputId": "7aed6291-04aa-40ce-c2a6-a4738777b662"
      },
      "execution_count": null,
      "outputs": [
        {
          "output_type": "stream",
          "name": "stdout",
          "text": [
            "Profissão menos frequente: Gerente\n"
          ]
        }
      ]
    },
    {
      "cell_type": "code",
      "source": [
        "# Predominância de dormir 8 horas por dia\n",
        "pred_dormir = df['Duração do sono'].mode()[0]\n",
        "predominance_8_hours = 'Sim' if pred_dormir == 8 else 'Não'\n",
        "print(f\"Predominância de dormir 8 horas por dia: {predominance_8_hours}\")"
      ],
      "metadata": {
        "colab": {
          "base_uri": "https://localhost:8080/"
        },
        "id": "HQmNpcyfUN80",
        "outputId": "edd350e2-2855-4211-a078-edcb370a4715"
      },
      "execution_count": null,
      "outputs": [
        {
          "output_type": "stream",
          "name": "stdout",
          "text": [
            "Predominância de dormir 8 horas por dia: Não\n"
          ]
        }
      ]
    },
    {
      "cell_type": "code",
      "source": [
        "# Pessoas com frequência cardíaca acima de 70 dão mais passos?\n",
        "fre_acima_70 = df.groupby(df['Frequência cardíaca'] > 70)['Passos diários'].mean()\n",
        "print(fre_acima_70)"
      ],
      "metadata": {
        "colab": {
          "base_uri": "https://localhost:8080/"
        },
        "id": "eLHF9R0wUP2k",
        "outputId": "d0e94bf7-7519-4469-8612-f89b03745c00"
      },
      "execution_count": null,
      "outputs": [
        {
          "output_type": "stream",
          "name": "stdout",
          "text": [
            "Frequência cardíaca\n",
            "False    7006.666667\n",
            "True     6472.932331\n",
            "Name: Passos diários, dtype: float64\n"
          ]
        }
      ]
    }
  ]
}