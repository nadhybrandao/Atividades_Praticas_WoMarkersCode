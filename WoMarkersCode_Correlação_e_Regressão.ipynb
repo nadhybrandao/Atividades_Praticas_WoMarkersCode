{
  "nbformat": 4,
  "nbformat_minor": 0,
  "metadata": {
    "colab": {
      "provenance": [],
      "include_colab_link": true
    },
    "kernelspec": {
      "name": "python3",
      "display_name": "Python 3"
    },
    "language_info": {
      "name": "python"
    }
  },
  "cells": [
    {
      "cell_type": "markdown",
      "metadata": {
        "id": "view-in-github",
        "colab_type": "text"
      },
      "source": [
        "<a href=\"https://colab.research.google.com/github/nadhybrandao/Atividades_Praticas_WoMarkersCode/blob/main/WoMarkersCode_Correla%C3%A7%C3%A3o_e_Regress%C3%A3o.ipynb\" target=\"_parent\"><img src=\"https://colab.research.google.com/assets/colab-badge.svg\" alt=\"Open In Colab\"/></a>"
      ]
    },
    {
      "cell_type": "code",
      "execution_count": null,
      "metadata": {
        "id": "-v88spRJgMsS"
      },
      "outputs": [],
      "source": [
        "import sklearn as sk\n",
        "import pandas as pd\n",
        "import numpy as np\n",
        "import matplotlib.pyplot as plt\n",
        "import seaborn as sns\n",
        "import plotly.express as px\n",
        "import scipy as sp\n",
        "from scipy.stats import f_oneway\n",
        "from scipy.stats import chi2_contingency"
      ]
    },
    {
      "cell_type": "markdown",
      "source": [
        "### Dataset\n",
        "\n",
        "[Student Performance Factors](https://www.kaggle.com/datasets/lainguyn123/student-performance-factors?resource=download)"
      ],
      "metadata": {
        "id": "m-eGN8lcB5Qb"
      }
    },
    {
      "cell_type": "code",
      "source": [
        "df = pd.read_csv('/StudentPerformanceFactors.csv')\n",
        "df.head()"
      ],
      "metadata": {
        "id": "LqKAHipxHFkS"
      },
      "execution_count": null,
      "outputs": []
    },
    {
      "cell_type": "markdown",
      "source": [
        "### Análise exploratória"
      ],
      "metadata": {
        "id": "mnxaJTN9Gj9G"
      }
    },
    {
      "cell_type": "code",
      "source": [
        "df.shape"
      ],
      "metadata": {
        "id": "967Z8oB6HPuv"
      },
      "execution_count": null,
      "outputs": []
    },
    {
      "cell_type": "markdown",
      "source": [
        "### Exercícios"
      ],
      "metadata": {
        "id": "0GfLCNmlGoaM"
      }
    },
    {
      "cell_type": "code",
      "source": [
        "df.info()"
      ],
      "metadata": {
        "id": "Rjc7BdmQAmg3"
      },
      "execution_count": null,
      "outputs": []
    },
    {
      "cell_type": "markdown",
      "source": [
        "**Exercício 1 - Calcule a correlçaõ de Pearson para os casos a seguir:**\n",
        "\n"
      ],
      "metadata": {
        "id": "p5gJ4dYLExJN"
      }
    },
    {
      "cell_type": "markdown",
      "source": [
        "1.1 - Calcule a correlação de Pearson entre a pontuação total dos estudantes e o número de horas de estudo diário."
      ],
      "metadata": {
        "id": "QR9-LWFM-UFS"
      }
    },
    {
      "cell_type": "markdown",
      "source": [
        "```python\n",
        "DataFrame.corr(method='pearson', min_periods=1, numeric_only=False)\n",
        "````"
      ],
      "metadata": {
        "id": "uInUUe1_BvNO"
      }
    },
    {
      "cell_type": "code",
      "source": [
        "Exam_Score"
      ],
      "metadata": {
        "id": "Ore_mHXnWF-G"
      },
      "execution_count": null,
      "outputs": []
    },
    {
      "cell_type": "markdown",
      "source": [
        "1.2 - Calcule a correlação de Pearson entre a quantidade de presença e a pontuação total do estudante."
      ],
      "metadata": {
        "id": "nfyoyFKOE05W"
      }
    },
    {
      "cell_type": "code",
      "source": [],
      "metadata": {
        "id": "unJpi9stFEZS"
      },
      "execution_count": null,
      "outputs": []
    },
    {
      "cell_type": "markdown",
      "source": [
        "**Exercício 2 - Calcule a matriz de correlação e faça uma análise sobre as variáveis**"
      ],
      "metadata": {
        "id": "d8ruieFW_yf4"
      }
    },
    {
      "cell_type": "code",
      "source": [],
      "metadata": {
        "id": "pAJo0RsEWIGX"
      },
      "execution_count": null,
      "outputs": []
    },
    {
      "cell_type": "markdown",
      "source": [
        "**Exercício 3**\n"
      ],
      "metadata": {
        "id": "ZXqENpHdFExL"
      }
    },
    {
      "cell_type": "markdown",
      "source": [
        "\n",
        "O **ANOVA** (Análise de Variância) é um teste estatístico usado para comparar as médias de três ou mais grupos para verificar se há diferenças significativas entre eles.\n",
        "\n",
        "O **ANOVA de uma via** (ou **One-Way ANOVA**) é a forma mais simples de ANOVA, onde você tem uma única variável categórica (também chamada de fator) que divide seus dados em vários grupos, e você deseja comparar a média de uma variável numérica entre esses grupos.\n",
        "\n",
        "Esse teste assume como **hipótese nula** que as médias dos diferentes grupos são iguais. Não há diferença significativa entre elas.\n",
        "\n",
        "O teste ANOVA **baseia-se na estatística F**, que compara duas fontes de variabilidade:\n",
        "\n",
        "1. Variabilidade entre grupos (variância entre grupos): Isso mede as diferenças entre as médias dos diferentes grupos. Se as médias dos grupos forem muito diferentes, essa variância será alta.\n",
        "\n",
        "2. Variabilidade dentro dos grupos (variância dentro dos grupos): Isso mede a variabilidade entre os indivíduos dentro de cada grupo. Mesmo dentro de um único grupo, pode haver variações individuais.\n",
        "\n",
        "- Se a variabilidade entre os grupos for maior do que a variabilidade dentro dos grupos, o valor de F será alto, o que sugere que as médias dos grupos são significativamente diferentes.\n",
        "- Se a variabilidade dentro dos grupos for grande, em relação à variabilidade entre os grupos, o valor de F será pequeno, sugerindo que as diferenças entre as médias dos grupos são pequenas ou inexistentes.\n",
        "\n",
        "### Interpretação do Valor F e do P-Valor:\n",
        "**Estatística F**: Um valor de F alto indica que as médias dos grupos são mais diferentes entre si do que seria esperado pela variação aleatória. O valor de F é comparado a uma distribuição F teórica para determinar o p-valor.\n",
        "\n",
        "**P-Valor**: O p-valor informa a probabilidade de observar essas diferenças nas médias dos grupos, assumindo que a hipótese nula (de que as médias são iguais) é verdadeira.\n",
        "\n",
        "- Se o p-valor for menor que o nível de significância (geralmente 0,05): Isso significa que há evidências suficientes para rejeitar a hipótese nula, ou seja, há uma diferença significativa entre pelo menos dois grupos.\n",
        "- Se o p-valor for maior que o nível de significância: Não há evidências para concluir que as médias dos grupos são significativamente diferentes.\n",
        "\n",
        "### Exemplo de Interpretação do ANOVA:\n",
        "Vamos voltar ao exemplo da motivação (Low, Medium, High) e da pontuação nos exames. Suponha que você realizou o teste ANOVA e obteve os seguintes resultados:\n",
        "\n",
        "- **F-Statistic**: 4.67\n",
        "- **P-Value**: 0.01\n",
        "\n",
        "### Interpretação:\n",
        "\n",
        "Como o p-valor (0.01) é menor que o nível de significância de 0.05, você rejeita a hipótese nula.\n",
        "\n",
        "Isso significa que há diferenças significativas nas médias de pontuação dos alunos entre pelo menos dois dos grupos de motivação."
      ],
      "metadata": {
        "id": "RImG3GmVCMV-"
      }
    },
    {
      "cell_type": "markdown",
      "source": [
        "\n",
        "3.1 - Calcule se há diferença significativa entre a média das pontuações totais dos estudantes com base no gênero utilizando o teste ANOVA. Qual é a interpretação do resultado?"
      ],
      "metadata": {
        "id": "hqqje_tpcrsV"
      }
    },
    {
      "cell_type": "code",
      "source": [],
      "metadata": {
        "id": "KtTnpn6jWKEx"
      },
      "execution_count": null,
      "outputs": []
    },
    {
      "cell_type": "markdown",
      "source": [
        "\n",
        "3.2 - Calcule se há diferença significativa entre a média das pontuações totais dos estudantes com base na motivação utilizando o teste ANOVA. Qual é a interpretação do resultado?"
      ],
      "metadata": {
        "id": "V4Bwz2r7C9w9"
      }
    },
    {
      "cell_type": "code",
      "source": [],
      "metadata": {
        "id": "FULAwaPOWLLR"
      },
      "execution_count": null,
      "outputs": []
    },
    {
      "cell_type": "markdown",
      "source": [
        "**Exercício 4**"
      ],
      "metadata": {
        "id": "fMbbvK5BFNoC"
      }
    },
    {
      "cell_type": "markdown",
      "source": [
        "A **tabela de contingência** (ou tabela cruzada) é uma tabela usada para organizar e exibir a frequência de ocorrências de variáveis categóricas. Ela mostra como as observações se distribuem entre duas ou mais variáveis categóricas, facilitando a análise da associação ou independência entre essas variáveis.\n",
        "\n",
        "O **teste Qui-Quadrado de Independência (χ²)** é uma técnica estatística usada para determinar se há uma associação ou relação entre duas variáveis categóricas, ou seja, se as variáveis são independentes ou associadas. Esse teste assume como hipótese nula que as variáveis são independentes, ou seja, não há relação significativa entre elas.\n",
        "\n",
        "Depois de calcular a estatística χ², comparamos esse valor com o valor crítico da distribuição Qui-Quadrado, levando em conta os graus de liberdade e o nível de significância (α, geralmente 0,05). Os graus de liberdade (df) são calculados com base no número de linhas e colunas da tabela de contingência\n",
        "\n",
        "### Interpretação\n",
        "\n",
        "- Se o valor de χ² for próximo de zero, isso indica que as frequências observadas estão próximas das esperadas, ou seja, as variáveis provavelmente são independentes.\n",
        "- Se o valor de χ² for grande, isso indica que há uma grande diferença entre as frequências observadas e esperadas, sugerindo que as variáveis são dependentes (associadas).\n",
        "- Se o valor de χ² calculado for maior que o valor crítico da tabela Qui-Quadrado para um dado nível de significância (α = 0,05) e os graus de liberdade, rejeitamos a hipótese nula e concluímos que há uma associação significativa entre as variáveis.\n",
        "- Se o valor de χ² calculado for menor ou igual ao valor crítico, não rejeitamos a hipótese nula, indicando que não há evidência suficiente para sugerir uma associação entre as variáveis."
      ],
      "metadata": {
        "id": "RQgI0H60FKmh"
      }
    },
    {
      "cell_type": "markdown",
      "source": [
        "4.1 - Verifique a relação entre o gênero dos estudantes e o nível de motivação. Qual a interpretação do resultado?\n",
        "\n",
        "Dica: Use a tabela de contingência e o teste qui-quadrado."
      ],
      "metadata": {
        "id": "bOl7ndtzGX3A"
      }
    },
    {
      "cell_type": "code",
      "source": [],
      "metadata": {
        "id": "xD9x87QPWTpj"
      },
      "execution_count": null,
      "outputs": []
    },
    {
      "cell_type": "markdown",
      "source": [
        "4.2 - Verifique a relação entre a renda da família e o nível de motivação. Qual a interpretação do resultado?\n"
      ],
      "metadata": {
        "id": "h-5iACpNGaJG"
      }
    },
    {
      "cell_type": "code",
      "source": [],
      "metadata": {
        "id": "zfYUUNauWUs7"
      },
      "execution_count": null,
      "outputs": []
    },
    {
      "cell_type": "markdown",
      "source": [
        "**Exercício 5**\n",
        "\n",
        "\n"
      ],
      "metadata": {
        "id": "kqKbjZFBF6GH"
      }
    },
    {
      "cell_type": "markdown",
      "source": [
        "### **Métricas Analisadas**\n",
        "\n",
        "O **Erro Quadrático Médio (MSE - Mean Squared Error)** é uma métrica amplamente utilizada para avaliar a performance de modelos de regressão. Ele mede o erro médio ao quadrado entre os valores observados e os valores previstos pelo modelo, ajudando a avaliar o quão bem o modelo consegue prever os dados.\n",
        "\n",
        "### Interpretação\n",
        "\n",
        "- MSE baixo indica que o modelo tem previsões próximas dos valores observados, ou seja, é um bom preditor.\n",
        "- MSE alto sugere que o modelo tem previsões distantes dos valores observados, o que indica que ele não está performando bem.\n",
        "\n",
        "O **R²** (ou coeficiente de determinação) é uma métrica que indica a proporção da variância total dos dados que é explicada pelo modelo de regressão. Em outras palavras, ele mede a qualidade do ajuste do modelo aos dados, mostrando o quão bem os dados ajustam-se a uma linha de regressão.\n",
        "\n",
        "### Interpretação\n",
        "\n",
        "- R² = 1: O modelo explica 100% da variação nos dados, ou seja, todas as previsões do modelo são exatas.\n",
        "- R² = 0: O modelo não consegue explicar nenhuma variação nos dados. Isso significa que o modelo não consegue prever melhor do que a média dos dados.\n",
        "- R² < 0: O modelo está ajustado tão mal que as previsões são piores do que simplesmente usar a média dos dados para prever os valores.\n",
        "\n",
        "**Relação entre MSE e R²**:\n",
        "- MSE é uma métrica de erro, ou seja, indica o quanto o modelo erra em suas previsões. Valores menores de MSE indicam melhor performance.\n",
        "- R² é uma métrica de qualidade do ajuste, que indica o quanto o modelo consegue explicar da variabilidade dos dados. Valores maiores de R² indicam um melhor ajuste.\n",
        "\n",
        "Essas duas métricas fornecem informações complementares:\n",
        "\n",
        "- O MSE informa sobre o erro absoluto do modelo, penalizando grandes erros.\n",
        "- O R² informa sobre o quão bem o modelo explica a variação nos dados observados, com uma interpretação mais intuitiva (proporção explicada)."
      ],
      "metadata": {
        "id": "uS4QRZFNIHP7"
      }
    },
    {
      "cell_type": "markdown",
      "source": [
        "5.1 - Crie um modelo de regressão linear para prever a pontuação total com base nas horas de estudo diárias.\n",
        "\n",
        "- Analise a relação causal entre as variáveis.\n",
        "- Avalie o ajuste do modelo com o valor de R².\n",
        "- Realize a análise dos resíduos."
      ],
      "metadata": {
        "id": "dkSpnm6fIGAU"
      }
    },
    {
      "cell_type": "code",
      "source": [
        "from sklearn.preprocessing import StandardScaler\n",
        "from sklearn.linear_model import LinearRegression\n",
        "from sklearn.metrics import mean_squared_error, r2_score"
      ],
      "metadata": {
        "id": "D9jx2eMeWZ-P"
      },
      "execution_count": null,
      "outputs": []
    },
    {
      "cell_type": "markdown",
      "source": [
        "**Exercício 6**"
      ],
      "metadata": {
        "id": "zub_3e1hGFXT"
      }
    },
    {
      "cell_type": "markdown",
      "source": [
        "A **padronização de dados** (ou normalização) é o processo de transformar os valores das variáveis em uma escala comum, geralmente para melhorar o desempenho de algoritmos que são sensíveis à escala dos dados, como a regressão linear, métodos de machine learning e análise de componentes principais (PCA).\n",
        "\n",
        "1. Padronização Z-Score (Escalonamento pela Média e Desvio Padrão): Este é um dos métodos mais utilizados. A padronização Z-score transforma os dados para que tenham média 0 e desvio padrão 1.\n",
        "```python\n",
        "scaler = StandardScaler()\n",
        "```\n",
        "\n",
        "2. Normalização Min-Max (Escalonamento entre 0 e 1): Este método transforma os valores das variáveis para um intervalo entre 0 e 1, ou qualquer outro intervalo especificado..\n",
        "```\n",
        "scaler = MinMaxScaler()\n",
        "```\n",
        "3. Escalonamento Robusto (Robust Scaler):Esse método utiliza a mediana e o intervalo interquartil (IQR) para escalonar os dados. É mais resistente a outliers do que o Z-score ou Min-Max.\n",
        "```\n",
        "scaler = RobustScaler()\n",
        "```\n",
        "\n",
        "\n",
        "\n",
        "\n"
      ],
      "metadata": {
        "id": "wjnaWQodS13F"
      }
    },
    {
      "cell_type": "markdown",
      "source": [
        "6.1 - Crie um modelo de regressão multivariada para prever a pontuação total com base em múltiplas variáveis, como horas de estudo, presença e motivação.\n",
        "\n",
        "- Padronize os dados antes de rodar o modelo.\n",
        "- Avalie o ajuste."
      ],
      "metadata": {
        "id": "AdWpLS5TJM-s"
      }
    },
    {
      "cell_type": "code",
      "source": [
        "from sklearn.preprocessing import StandardScaler\n",
        "from sklearn.linear_model import LinearRegression\n",
        "from sklearn.metrics import mean_squared_error, r2_score"
      ],
      "metadata": {
        "id": "rHOPOvyGWcz9"
      },
      "execution_count": null,
      "outputs": []
    },
    {
      "cell_type": "code",
      "source": [],
      "metadata": {
        "id": "p589hqYGWfb6"
      },
      "execution_count": null,
      "outputs": []
    }
  ]
}