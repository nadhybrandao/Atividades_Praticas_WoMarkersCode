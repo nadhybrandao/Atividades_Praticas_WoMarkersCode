{
  "nbformat": 4,
  "nbformat_minor": 0,
  "metadata": {
    "colab": {
      "provenance": [],
      "toc_visible": true,
      "authorship_tag": "ABX9TyPiUovC1ed4RV8ue7dc/oKh",
      "include_colab_link": true
    },
    "kernelspec": {
      "name": "python3",
      "display_name": "Python 3"
    },
    "language_info": {
      "name": "python"
    }
  },
  "cells": [
    {
      "cell_type": "markdown",
      "metadata": {
        "id": "view-in-github",
        "colab_type": "text"
      },
      "source": [
        "<a href=\"https://colab.research.google.com/github/nadhybrandao/Atividades_Praticas_WoMarkersCode/blob/main/WoMakersCode_Frequ%C3%AAncias_e_Medidas.ipynb\" target=\"_parent\"><img src=\"https://colab.research.google.com/assets/colab-badge.svg\" alt=\"Open In Colab\"/></a>"
      ]
    },
    {
      "cell_type": "markdown",
      "source": [
        "# Introdução"
      ],
      "metadata": {
        "id": "M9Mb_l00tTnC"
      }
    },
    {
      "cell_type": "markdown",
      "source": [
        "Considerando a base de dados de enem_2023.json responda as questões\n",
        "abaixo (os dados são fictícios).\n",
        "\n",
        "Você é uma pesquisadora de um cursinho para estudantes que querem\n",
        "ingressar na universidade em 2025. Seu objetivo é retirar informações da\n",
        "base de dados do enem do ano anterior para alinhar melhor as estratégias do\n",
        "cursinho para cada estudante.\n",
        "O dado possui 6 colunas, 5 delas representam as disciplinas do ENEM e uma o\n",
        "gênero das pessoas que fizeram a prova. No dado existe a representação de\n",
        "1000 pessoas, sendo cada uma delas uma linha.\n",
        "\n",
        "1. Qual das disciplinas tem a maior amplitude de nota?\n",
        "2. Qual é a média e a mediana para cada uma das disciplinas? (Lembre-se\n",
        "de remover todos os valores nulos quando considerar a mediana)\n",
        "3. Considerando o curso de Ciência da Computação da UFPE, onde o peso\n",
        "cada uma das disciplinas ponderado:\n",
        "* a. Redação - 2\n",
        "* b. Matemática e suas Tecnologias - 4\n",
        "* c. Linguagens, Códigos e suas Tecnologias - 2\n",
        "* d. Ciências Humanas e suas Tecnologias - 1\n",
        "* e. Ciências da Natureza e suas Tecnologias - 1\n",
        "\n",
        "Qual o desvio padrão e média das notas dos 500 estudantes mais bem\n",
        "colocados considerando esses pesos?\n",
        "4. Se todos esses estudantes aplicassem para ciência da computação e\n",
        "existem apenas 40 vagas, qual seria a variância e média da nota dos\n",
        "estudantes que entraram no curso de ciência da computação?\n",
        "5. Qual o valor do teto do terceiro quartil para as disciplinas de\n",
        "matemática e linguagens?\n",
        "6. Faça o histograma de Redação e Linguagens, de 20 em 20 pontos.\n",
        "Podemos dizer que são histogramas simétricos, justifique e classifique\n",
        "se não assimétricas?\n",
        "7. Agora coloque um range fixo de 0 até 1000, você ainda tem a mesma\n",
        "opinião quanto a simetria? [plt.hist(dado, bins=_, range=[0, 1000])\n",
        "8. Faça um boxplot do quartil de todas as disciplinas de ciências da\n",
        "natureza e redação. É possível enxergar outliers? Utilize o método IQR.\n",
        "9. Remova todos os outliers e verifique se eles são passíveis de alterar a\n",
        "média nacional significativamente? (considere significativamente um\n",
        "valor acima de 5%)\n",
        "10. Considerando valores nulos, tente encontrar qual seria a melhor medida\n",
        "de tendência que pode substituir as notas nulas. Média, moda ou\n",
        "mediana? Substitua o valor por todos os três e diga qual delas altera\n",
        "menos a média geral e o desvio padrão."
      ],
      "metadata": {
        "id": "lLOXz5Suq_ZI"
      }
    },
    {
      "cell_type": "code",
      "execution_count": null,
      "metadata": {
        "colab": {
          "base_uri": "https://localhost:8080/",
          "height": 206
        },
        "id": "4_QWB8Deqw-G",
        "outputId": "2880550c-8d2a-4201-ce4e-345c2e50c27d"
      },
      "outputs": [
        {
          "output_type": "execute_result",
          "data": {
            "text/plain": [
              "   Linguagens  Ciências humanas  Ciências da natureza  Matemática     Redação  \\\n",
              "0  585.669300        686.512178            390.482473  452.281333  546.371706   \n",
              "1  359.384608        642.084134                   NaN  412.205207  741.825256   \n",
              "2  622.732384        495.510719            443.183580  669.683401  684.515750   \n",
              "3  350.164605        602.041588            413.979810  676.608952  671.237114   \n",
              "4  384.093657        489.249140            609.758123  520.426698  744.375048   \n",
              "\n",
              "     Sexo  \n",
              "0   Homem  \n",
              "1  Mulher  \n",
              "2   Homem  \n",
              "3   Homem  \n",
              "4   Homem  "
            ],
            "text/html": [
              "\n",
              "  <div id=\"df-8cf3fae1-6dce-438f-9eb1-f8fdbc555482\" class=\"colab-df-container\">\n",
              "    <div>\n",
              "<style scoped>\n",
              "    .dataframe tbody tr th:only-of-type {\n",
              "        vertical-align: middle;\n",
              "    }\n",
              "\n",
              "    .dataframe tbody tr th {\n",
              "        vertical-align: top;\n",
              "    }\n",
              "\n",
              "    .dataframe thead th {\n",
              "        text-align: right;\n",
              "    }\n",
              "</style>\n",
              "<table border=\"1\" class=\"dataframe\">\n",
              "  <thead>\n",
              "    <tr style=\"text-align: right;\">\n",
              "      <th></th>\n",
              "      <th>Linguagens</th>\n",
              "      <th>Ciências humanas</th>\n",
              "      <th>Ciências da natureza</th>\n",
              "      <th>Matemática</th>\n",
              "      <th>Redação</th>\n",
              "      <th>Sexo</th>\n",
              "    </tr>\n",
              "  </thead>\n",
              "  <tbody>\n",
              "    <tr>\n",
              "      <th>0</th>\n",
              "      <td>585.669300</td>\n",
              "      <td>686.512178</td>\n",
              "      <td>390.482473</td>\n",
              "      <td>452.281333</td>\n",
              "      <td>546.371706</td>\n",
              "      <td>Homem</td>\n",
              "    </tr>\n",
              "    <tr>\n",
              "      <th>1</th>\n",
              "      <td>359.384608</td>\n",
              "      <td>642.084134</td>\n",
              "      <td>NaN</td>\n",
              "      <td>412.205207</td>\n",
              "      <td>741.825256</td>\n",
              "      <td>Mulher</td>\n",
              "    </tr>\n",
              "    <tr>\n",
              "      <th>2</th>\n",
              "      <td>622.732384</td>\n",
              "      <td>495.510719</td>\n",
              "      <td>443.183580</td>\n",
              "      <td>669.683401</td>\n",
              "      <td>684.515750</td>\n",
              "      <td>Homem</td>\n",
              "    </tr>\n",
              "    <tr>\n",
              "      <th>3</th>\n",
              "      <td>350.164605</td>\n",
              "      <td>602.041588</td>\n",
              "      <td>413.979810</td>\n",
              "      <td>676.608952</td>\n",
              "      <td>671.237114</td>\n",
              "      <td>Homem</td>\n",
              "    </tr>\n",
              "    <tr>\n",
              "      <th>4</th>\n",
              "      <td>384.093657</td>\n",
              "      <td>489.249140</td>\n",
              "      <td>609.758123</td>\n",
              "      <td>520.426698</td>\n",
              "      <td>744.375048</td>\n",
              "      <td>Homem</td>\n",
              "    </tr>\n",
              "  </tbody>\n",
              "</table>\n",
              "</div>\n",
              "    <div class=\"colab-df-buttons\">\n",
              "\n",
              "  <div class=\"colab-df-container\">\n",
              "    <button class=\"colab-df-convert\" onclick=\"convertToInteractive('df-8cf3fae1-6dce-438f-9eb1-f8fdbc555482')\"\n",
              "            title=\"Convert this dataframe to an interactive table.\"\n",
              "            style=\"display:none;\">\n",
              "\n",
              "  <svg xmlns=\"http://www.w3.org/2000/svg\" height=\"24px\" viewBox=\"0 -960 960 960\">\n",
              "    <path d=\"M120-120v-720h720v720H120Zm60-500h600v-160H180v160Zm220 220h160v-160H400v160Zm0 220h160v-160H400v160ZM180-400h160v-160H180v160Zm440 0h160v-160H620v160ZM180-180h160v-160H180v160Zm440 0h160v-160H620v160Z\"/>\n",
              "  </svg>\n",
              "    </button>\n",
              "\n",
              "  <style>\n",
              "    .colab-df-container {\n",
              "      display:flex;\n",
              "      gap: 12px;\n",
              "    }\n",
              "\n",
              "    .colab-df-convert {\n",
              "      background-color: #E8F0FE;\n",
              "      border: none;\n",
              "      border-radius: 50%;\n",
              "      cursor: pointer;\n",
              "      display: none;\n",
              "      fill: #1967D2;\n",
              "      height: 32px;\n",
              "      padding: 0 0 0 0;\n",
              "      width: 32px;\n",
              "    }\n",
              "\n",
              "    .colab-df-convert:hover {\n",
              "      background-color: #E2EBFA;\n",
              "      box-shadow: 0px 1px 2px rgba(60, 64, 67, 0.3), 0px 1px 3px 1px rgba(60, 64, 67, 0.15);\n",
              "      fill: #174EA6;\n",
              "    }\n",
              "\n",
              "    .colab-df-buttons div {\n",
              "      margin-bottom: 4px;\n",
              "    }\n",
              "\n",
              "    [theme=dark] .colab-df-convert {\n",
              "      background-color: #3B4455;\n",
              "      fill: #D2E3FC;\n",
              "    }\n",
              "\n",
              "    [theme=dark] .colab-df-convert:hover {\n",
              "      background-color: #434B5C;\n",
              "      box-shadow: 0px 1px 3px 1px rgba(0, 0, 0, 0.15);\n",
              "      filter: drop-shadow(0px 1px 2px rgba(0, 0, 0, 0.3));\n",
              "      fill: #FFFFFF;\n",
              "    }\n",
              "  </style>\n",
              "\n",
              "    <script>\n",
              "      const buttonEl =\n",
              "        document.querySelector('#df-8cf3fae1-6dce-438f-9eb1-f8fdbc555482 button.colab-df-convert');\n",
              "      buttonEl.style.display =\n",
              "        google.colab.kernel.accessAllowed ? 'block' : 'none';\n",
              "\n",
              "      async function convertToInteractive(key) {\n",
              "        const element = document.querySelector('#df-8cf3fae1-6dce-438f-9eb1-f8fdbc555482');\n",
              "        const dataTable =\n",
              "          await google.colab.kernel.invokeFunction('convertToInteractive',\n",
              "                                                    [key], {});\n",
              "        if (!dataTable) return;\n",
              "\n",
              "        const docLinkHtml = 'Like what you see? Visit the ' +\n",
              "          '<a target=\"_blank\" href=https://colab.research.google.com/notebooks/data_table.ipynb>data table notebook</a>'\n",
              "          + ' to learn more about interactive tables.';\n",
              "        element.innerHTML = '';\n",
              "        dataTable['output_type'] = 'display_data';\n",
              "        await google.colab.output.renderOutput(dataTable, element);\n",
              "        const docLink = document.createElement('div');\n",
              "        docLink.innerHTML = docLinkHtml;\n",
              "        element.appendChild(docLink);\n",
              "      }\n",
              "    </script>\n",
              "  </div>\n",
              "\n",
              "\n",
              "<div id=\"df-27f71b90-79d1-45bd-82d5-e4753f436deb\">\n",
              "  <button class=\"colab-df-quickchart\" onclick=\"quickchart('df-27f71b90-79d1-45bd-82d5-e4753f436deb')\"\n",
              "            title=\"Suggest charts\"\n",
              "            style=\"display:none;\">\n",
              "\n",
              "<svg xmlns=\"http://www.w3.org/2000/svg\" height=\"24px\"viewBox=\"0 0 24 24\"\n",
              "     width=\"24px\">\n",
              "    <g>\n",
              "        <path d=\"M19 3H5c-1.1 0-2 .9-2 2v14c0 1.1.9 2 2 2h14c1.1 0 2-.9 2-2V5c0-1.1-.9-2-2-2zM9 17H7v-7h2v7zm4 0h-2V7h2v10zm4 0h-2v-4h2v4z\"/>\n",
              "    </g>\n",
              "</svg>\n",
              "  </button>\n",
              "\n",
              "<style>\n",
              "  .colab-df-quickchart {\n",
              "      --bg-color: #E8F0FE;\n",
              "      --fill-color: #1967D2;\n",
              "      --hover-bg-color: #E2EBFA;\n",
              "      --hover-fill-color: #174EA6;\n",
              "      --disabled-fill-color: #AAA;\n",
              "      --disabled-bg-color: #DDD;\n",
              "  }\n",
              "\n",
              "  [theme=dark] .colab-df-quickchart {\n",
              "      --bg-color: #3B4455;\n",
              "      --fill-color: #D2E3FC;\n",
              "      --hover-bg-color: #434B5C;\n",
              "      --hover-fill-color: #FFFFFF;\n",
              "      --disabled-bg-color: #3B4455;\n",
              "      --disabled-fill-color: #666;\n",
              "  }\n",
              "\n",
              "  .colab-df-quickchart {\n",
              "    background-color: var(--bg-color);\n",
              "    border: none;\n",
              "    border-radius: 50%;\n",
              "    cursor: pointer;\n",
              "    display: none;\n",
              "    fill: var(--fill-color);\n",
              "    height: 32px;\n",
              "    padding: 0;\n",
              "    width: 32px;\n",
              "  }\n",
              "\n",
              "  .colab-df-quickchart:hover {\n",
              "    background-color: var(--hover-bg-color);\n",
              "    box-shadow: 0 1px 2px rgba(60, 64, 67, 0.3), 0 1px 3px 1px rgba(60, 64, 67, 0.15);\n",
              "    fill: var(--button-hover-fill-color);\n",
              "  }\n",
              "\n",
              "  .colab-df-quickchart-complete:disabled,\n",
              "  .colab-df-quickchart-complete:disabled:hover {\n",
              "    background-color: var(--disabled-bg-color);\n",
              "    fill: var(--disabled-fill-color);\n",
              "    box-shadow: none;\n",
              "  }\n",
              "\n",
              "  .colab-df-spinner {\n",
              "    border: 2px solid var(--fill-color);\n",
              "    border-color: transparent;\n",
              "    border-bottom-color: var(--fill-color);\n",
              "    animation:\n",
              "      spin 1s steps(1) infinite;\n",
              "  }\n",
              "\n",
              "  @keyframes spin {\n",
              "    0% {\n",
              "      border-color: transparent;\n",
              "      border-bottom-color: var(--fill-color);\n",
              "      border-left-color: var(--fill-color);\n",
              "    }\n",
              "    20% {\n",
              "      border-color: transparent;\n",
              "      border-left-color: var(--fill-color);\n",
              "      border-top-color: var(--fill-color);\n",
              "    }\n",
              "    30% {\n",
              "      border-color: transparent;\n",
              "      border-left-color: var(--fill-color);\n",
              "      border-top-color: var(--fill-color);\n",
              "      border-right-color: var(--fill-color);\n",
              "    }\n",
              "    40% {\n",
              "      border-color: transparent;\n",
              "      border-right-color: var(--fill-color);\n",
              "      border-top-color: var(--fill-color);\n",
              "    }\n",
              "    60% {\n",
              "      border-color: transparent;\n",
              "      border-right-color: var(--fill-color);\n",
              "    }\n",
              "    80% {\n",
              "      border-color: transparent;\n",
              "      border-right-color: var(--fill-color);\n",
              "      border-bottom-color: var(--fill-color);\n",
              "    }\n",
              "    90% {\n",
              "      border-color: transparent;\n",
              "      border-bottom-color: var(--fill-color);\n",
              "    }\n",
              "  }\n",
              "</style>\n",
              "\n",
              "  <script>\n",
              "    async function quickchart(key) {\n",
              "      const quickchartButtonEl =\n",
              "        document.querySelector('#' + key + ' button');\n",
              "      quickchartButtonEl.disabled = true;  // To prevent multiple clicks.\n",
              "      quickchartButtonEl.classList.add('colab-df-spinner');\n",
              "      try {\n",
              "        const charts = await google.colab.kernel.invokeFunction(\n",
              "            'suggestCharts', [key], {});\n",
              "      } catch (error) {\n",
              "        console.error('Error during call to suggestCharts:', error);\n",
              "      }\n",
              "      quickchartButtonEl.classList.remove('colab-df-spinner');\n",
              "      quickchartButtonEl.classList.add('colab-df-quickchart-complete');\n",
              "    }\n",
              "    (() => {\n",
              "      let quickchartButtonEl =\n",
              "        document.querySelector('#df-27f71b90-79d1-45bd-82d5-e4753f436deb button');\n",
              "      quickchartButtonEl.style.display =\n",
              "        google.colab.kernel.accessAllowed ? 'block' : 'none';\n",
              "    })();\n",
              "  </script>\n",
              "</div>\n",
              "\n",
              "    </div>\n",
              "  </div>\n"
            ],
            "application/vnd.google.colaboratory.intrinsic+json": {
              "type": "dataframe",
              "variable_name": "df",
              "summary": "{\n  \"name\": \"df\",\n  \"rows\": 1000,\n  \"fields\": [\n    {\n      \"column\": \"Linguagens\",\n      \"properties\": {\n        \"dtype\": \"number\",\n        \"std\": 84.00931315971195,\n        \"min\": 287.0,\n        \"max\": 804.4563171927,\n        \"num_unique_values\": 896,\n        \"samples\": [\n          638.5729576994,\n          458.5772735297,\n          469.6368972844\n        ],\n        \"semantic_type\": \"\",\n        \"description\": \"\"\n      }\n    },\n    {\n      \"column\": \"Ci\\u00eancias humanas\",\n      \"properties\": {\n        \"dtype\": \"number\",\n        \"std\": 77.81151916399475,\n        \"min\": 289.9,\n        \"max\": 763.9196954613,\n        \"num_unique_values\": 935,\n        \"samples\": [\n          552.953806862,\n          648.4281845758,\n          519.0714634707\n        ],\n        \"semantic_type\": \"\",\n        \"description\": \"\"\n      }\n    },\n    {\n      \"column\": \"Ci\\u00eancias da natureza\",\n      \"properties\": {\n        \"dtype\": \"number\",\n        \"std\": 78.76040369093829,\n        \"min\": 314.4,\n        \"max\": 802.0045683513,\n        \"num_unique_values\": 821,\n        \"samples\": [\n          472.110329659,\n          468.0927320977,\n          391.1238460543\n        ],\n        \"semantic_type\": \"\",\n        \"description\": \"\"\n      }\n    },\n    {\n      \"column\": \"Matem\\u00e1tica\",\n      \"properties\": {\n        \"dtype\": \"number\",\n        \"std\": 86.64810003261275,\n        \"min\": 319.8,\n        \"max\": 807.8779018921,\n        \"num_unique_values\": 918,\n        \"samples\": [\n          577.6921115123,\n          562.8560894807,\n          464.1971411718\n        ],\n        \"semantic_type\": \"\",\n        \"description\": \"\"\n      }\n    },\n    {\n      \"column\": \"Reda\\u00e7\\u00e3o\",\n      \"properties\": {\n        \"dtype\": \"number\",\n        \"std\": 115.33997244479161,\n        \"min\": 270.8399648605,\n        \"max\": 1000.0,\n        \"num_unique_values\": 860,\n        \"samples\": [\n          482.1791420587,\n          687.1614107203,\n          572.6498716449\n        ],\n        \"semantic_type\": \"\",\n        \"description\": \"\"\n      }\n    },\n    {\n      \"column\": \"Sexo\",\n      \"properties\": {\n        \"dtype\": \"category\",\n        \"num_unique_values\": 3,\n        \"samples\": [\n          \"Homem\",\n          \"Mulher\",\n          \"N\\u00e3o idenficado\"\n        ],\n        \"semantic_type\": \"\",\n        \"description\": \"\"\n      }\n    }\n  ]\n}"
            }
          },
          "metadata": {},
          "execution_count": 20
        }
      ],
      "source": [
        "import pandas as pd\n",
        "import matplotlib.pyplot as plt\n",
        "\n",
        "df = pd.read_json(\"enem_2023.json\")\n",
        "df.head()"
      ]
    },
    {
      "cell_type": "markdown",
      "source": [
        "# Questão 1"
      ],
      "metadata": {
        "id": "pivyFfzBtFU6"
      }
    },
    {
      "cell_type": "code",
      "source": [
        "# Qual das disciplinas tem a maior amplitude de nota?\n",
        "amplitude = df.max(numeric_only=True) - df.min(numeric_only=True)\n",
        "maior_amplitude = amplitude.idxmax()\n",
        "maior_amplitude_valor = amplitude.max()\n",
        "\n",
        "print(f\"A disciplina com a maior amplitude é {maior_amplitude} com amplitude de {maior_amplitude_valor:.2f}.\")"
      ],
      "metadata": {
        "colab": {
          "base_uri": "https://localhost:8080/"
        },
        "id": "PMwrGVz2rg6v",
        "outputId": "ddd2ce40-a0fd-4c50-ca44-d20048f56835"
      },
      "execution_count": null,
      "outputs": [
        {
          "output_type": "stream",
          "name": "stdout",
          "text": [
            "A disciplina com a maior amplitude é Redação com amplitude de 729.16.\n"
          ]
        }
      ]
    },
    {
      "cell_type": "markdown",
      "source": [
        "# Questão 2"
      ],
      "metadata": {
        "id": "mWbrAW2YtNB3"
      }
    },
    {
      "cell_type": "code",
      "source": [
        "# Qual é a média e a mediana para cada uma das disciplinas? (Lembre-se de remover todos os valores nulos quando considerar a mediana)\n",
        "medias = df.mean(numeric_only=True)\n",
        "medianas = df.median(numeric_only=True)\n",
        "\n",
        "print(\"Médias:\")\n",
        "print(medias)\n",
        "print(\"\\nMedianias:\")\n",
        "print(medianas)"
      ],
      "metadata": {
        "colab": {
          "base_uri": "https://localhost:8080/"
        },
        "id": "VrKEHgk_sq9r",
        "outputId": "c7effbfe-62d0-4a14-ded2-911a96739b37"
      },
      "execution_count": null,
      "outputs": [
        {
          "output_type": "stream",
          "name": "stdout",
          "text": [
            "Médias:\n",
            "Linguagens              514.524809\n",
            "Ciências humanas        527.042281\n",
            "Ciências da natureza    499.315583\n",
            "Matemática              535.965660\n",
            "Redação                 637.783532\n",
            "dtype: float64\n",
            "\n",
            "Medianias:\n",
            "Linguagens              515.045250\n",
            "Ciências humanas        524.519920\n",
            "Ciências da natureza    500.479263\n",
            "Matemática              533.247767\n",
            "Redação                 635.273973\n",
            "dtype: float64\n"
          ]
        }
      ]
    },
    {
      "cell_type": "markdown",
      "source": [
        "# Questão 3"
      ],
      "metadata": {
        "id": "IiNwbQYZtbo1"
      }
    },
    {
      "cell_type": "code",
      "source": [
        "#Considerando o curso de Ciência da Computação da UFPE, onde o peso cada uma das disciplinas ponderado:\n",
        "#a. Redação - 2\n",
        "#b. Matemática e suas Tecnologias - 4\n",
        "#c. Linguagens, Códigos e suas Tecnologias - 2\n",
        "#d. Ciências Humanas e suas Tecnologias - 1\n",
        "#e. Ciências da Natureza e suas Tecnologias - 1\n",
        "# Qual o desvio padrão e média das notas dos 500 estudantes mais bem colocados considerando esses pesos?\n",
        "\n",
        "pesos = {\n",
        "    'Redação': 2,\n",
        "    'Matemática': 4,\n",
        "    'Linguagens': 2,\n",
        "    'Ciências humanas': 1,\n",
        "    'Ciências da natureza': 1\n",
        "}\n",
        "\n",
        "# Calculando a nota ponderada\n",
        "df['nota_ponderada'] = (\n",
        "    df['Redação'] * pesos['Redação'] +\n",
        "    df['Matemática'] * pesos['Matemática'] +\n",
        "    df['Linguagens'] * pesos['Linguagens'] +\n",
        "    df['Ciências humanas'] * pesos['Ciências humanas'] +\n",
        "    df['Ciências da natureza'] * pesos['Ciências da natureza']\n",
        ") / sum(pesos.values())\n",
        "\n",
        "# Selecionando os 500 melhores estudantes\n",
        "top_500 = df.nlargest(500, 'nota_ponderada')\n",
        "\n",
        "# Calculando a média e o desvio padrão dos 500 melhores\n",
        "media_top_500 = top_500['nota_ponderada'].mean()\n",
        "desvio_padrao_top_500 = top_500['nota_ponderada'].std()\n",
        "\n",
        "print(f\"Média: {media_top_500:.2f}\")\n",
        "print(f\"Desvio padrão: {desvio_padrao_top_500:.2f}\")"
      ],
      "metadata": {
        "colab": {
          "base_uri": "https://localhost:8080/"
        },
        "id": "rHYBqN3ftesu",
        "outputId": "ef33e92d-8920-4ff6-c6c9-0c9726746033"
      },
      "execution_count": null,
      "outputs": [
        {
          "output_type": "stream",
          "name": "stdout",
          "text": [
            "Média: 557.29\n",
            "Desvio padrão: 40.44\n"
          ]
        }
      ]
    },
    {
      "cell_type": "markdown",
      "source": [
        "# Questão 4"
      ],
      "metadata": {
        "id": "ni9KjQGxu7f3"
      }
    },
    {
      "cell_type": "code",
      "source": [
        "# Se todos esses estudantes aplicassem para ciência da computação e existem apenas 40 vagas, qual seria a variância e média da nota dos estudantes que entraram no curso de ciência da computação?\n",
        "top_40 = top_500.nlargest(40, 'nota_ponderada')\n",
        "\n",
        "# Calculando a média e variância\n",
        "media_top_40 = top_40['nota_ponderada'].mean()\n",
        "variancia_top_40 = top_40['nota_ponderada'].var()\n",
        "\n",
        "print(f\"Média: {media_top_40:.2f}\")\n",
        "print(f\"Variância: {variancia_top_40:.2f}\")\n"
      ],
      "metadata": {
        "colab": {
          "base_uri": "https://localhost:8080/"
        },
        "id": "593BmaOnu-h6",
        "outputId": "8e215976-57ee-4f5e-c240-e0adde50c8bd"
      },
      "execution_count": null,
      "outputs": [
        {
          "output_type": "stream",
          "name": "stdout",
          "text": [
            "Média: 636.68\n",
            "Variância: 295.77\n"
          ]
        }
      ]
    },
    {
      "cell_type": "markdown",
      "source": [
        "# Questão 5"
      ],
      "metadata": {
        "id": "O83sooE2vJNu"
      }
    },
    {
      "cell_type": "code",
      "source": [
        "# Qual o valor do teto do terceiro quartil para as disciplinas de matemática e linguagens?\n",
        "q3_matematica = df['Matemática'].quantile(0.75)\n",
        "q3_linguagens = df['Linguagens'].quantile(0.75)\n",
        "\n",
        "print(f\"Teto do terceiro quartil para Matemática: {q3_matematica:.2f}\")\n",
        "print(f\"Teto do terceiro quartil para Linguagens: {q3_linguagens:.2f}\")\n"
      ],
      "metadata": {
        "colab": {
          "base_uri": "https://localhost:8080/"
        },
        "id": "q-FqOyegvNjB",
        "outputId": "ee095f60-8d81-4937-8b12-49909e0b8d59"
      },
      "execution_count": null,
      "outputs": [
        {
          "output_type": "stream",
          "name": "stdout",
          "text": [
            "Teto do terceiro quartil para Matemática: 592.91\n",
            "Teto do terceiro quartil para Linguagens: 571.64\n"
          ]
        }
      ]
    },
    {
      "cell_type": "markdown",
      "source": [
        "# Questão 6"
      ],
      "metadata": {
        "id": "UqRFdEjVvYM3"
      }
    },
    {
      "cell_type": "code",
      "source": [
        "# Faça o histograma de Redação e Linguagens, de 20 em 20 pontos. Podemos dizer que são histogramas simétricos, justifique e classifique se não assimétricas?\n",
        "plt.figure(figsize=(12, 5))\n",
        "\n",
        "plt.subplot(1, 2, 1)\n",
        "plt.hist(df['Redação'].dropna(), bins=range(0, 1001, 20), edgecolor='black')\n",
        "plt.title('Histograma de Redação')\n",
        "plt.xlabel('Nota')\n",
        "plt.ylabel('Frequência')\n",
        "\n",
        "plt.subplot(1, 2, 2)\n",
        "plt.hist(df['Linguagens'].dropna(), bins=range(0, 1001, 20), edgecolor='black')\n",
        "plt.title('Histograma de Linguagens')\n",
        "plt.xlabel('Nota')\n",
        "\n",
        "plt.tight_layout()\n",
        "plt.show()\n"
      ],
      "metadata": {
        "colab": {
          "base_uri": "https://localhost:8080/",
          "height": 507
        },
        "id": "mI5g7QmPva5X",
        "outputId": "4e879ecd-25e2-460f-cde3-7ae9af73c3a5"
      },
      "execution_count": null,
      "outputs": [
        {
          "output_type": "display_data",
          "data": {
            "text/plain": [
              "<Figure size 1200x500 with 2 Axes>"
            ],
            "image/png": "[encoded data removed]"
          },
          "metadata": {}
        }
      ]
    },
    {
      "cell_type": "markdown",
      "source": [
        "# Questão 7"
      ],
      "metadata": {
        "id": "v7prGgOBvt4R"
      }
    },
    {
      "cell_type": "code",
      "source": [
        "# Agora coloque um range fixo de 0 até 1000, você ainda tem a mesma opinião quanto a simetria? [plt.hist(dado, bins=_, range=[0, 1000])\n",
        "plt.figure(figsize=(8, 6))\n",
        "plt.boxplot([df['Ciências da natureza'].dropna(), df['Redação'].dropna()],\n",
        "            labels=['Ciências da natureza', 'Redação'])\n",
        "plt.title('Boxplot - Ciências da natureza e Redação')\n",
        "plt.ylabel('Nota')\n",
        "plt.show()\n"
      ],
      "metadata": {
        "colab": {
          "base_uri": "https://localhost:8080/",
          "height": 545
        },
        "id": "UZz_s6MjvyiE",
        "outputId": "cafbe63d-8bc3-4cc8-d60b-a7c375adcee6"
      },
      "execution_count": null,
      "outputs": [
        {
          "output_type": "display_data",
          "data": {
            "text/plain": [
              "<Figure size 800x600 with 1 Axes>"
            ],
            "image/png": "[encoded data removed]"
          },
          "metadata": {}
        }
      ]
    },
    {
      "cell_type": "markdown",
      "source": [
        "# Questão 8"
      ],
      "metadata": {
        "id": "x5U9qbQNwA_N"
      }
    },
    {
      "cell_type": "code",
      "source": [
        "# Faça um boxplot do quartil de todas as disciplinas de ciências da natureza e redação. É possível enxergar outliers? Utilize o método IQR.\n",
        "def remove_outliers(df, col):\n",
        "    Q1 = df[col].quantile(0.25)\n",
        "    Q3 = df[col].quantile(0.75)\n",
        "    IQR = Q3 - Q1\n",
        "    lower_bound = Q1 - 1.5 * IQR\n",
        "    upper_bound = Q3 + 1.5 * IQR\n",
        "    return df[(df[col] >= lower_bound) & (df[col] <= upper_bound)]\n",
        "\n",
        "# Removendo outliers das disciplinas\n",
        "df_clean = remove_outliers(df, 'Ciências da natureza')\n",
        "df_clean = remove_outliers(df_clean, 'Redação')\n",
        "\n",
        "# Comparando médias antes e depois\n",
        "media_antes = df['Redação'].mean()\n",
        "media_depois = df_clean['Redação'].mean()\n",
        "\n",
        "print(f\"Média antes: {media_antes:.2f}, Média depois: {media_depois:.2f}\")\n",
        "\n",
        "# Verificando se a mudança é significativa (>5%)\n",
        "mudanca_significativa = abs(media_antes - media_depois) / media_antes * 100 > 5\n",
        "print(f\"Mudança significativa? {'Sim' if mudanca_significativa else 'Não'}\")\n"
      ],
      "metadata": {
        "colab": {
          "base_uri": "https://localhost:8080/"
        },
        "id": "6b2giJROwGDH",
        "outputId": "c033d0ff-b0f9-4e1e-f95f-4360039020eb"
      },
      "execution_count": null,
      "outputs": [
        {
          "output_type": "stream",
          "name": "stdout",
          "text": [
            "Média antes: 637.78, Média depois: 638.17\n",
            "Mudança significativa? Não\n"
          ]
        }
      ]
    },
    {
      "cell_type": "markdown",
      "source": [
        "# Questão 9"
      ],
      "metadata": {
        "id": "skXEvGBHwSk-"
      }
    },
    {
      "cell_type": "code",
      "source": [
        "# Função para remover outliers utilizando IQR\n",
        "def remove_outliers(df, col):\n",
        "    Q1 = df[col].quantile(0.25)\n",
        "    Q3 = df[col].quantile(0.75)\n",
        "    IQR = Q3 - Q1\n",
        "    lower_bound = Q1 - 1.5 * IQR\n",
        "    upper_bound = Q3 + 1.5 * IQR\n",
        "    return df[(df[col] >= lower_bound) & (df[col] <= upper_bound)]\n",
        "\n",
        "# Removendo outliers das disciplinas\n",
        "df_clean = remove_outliers(df, 'Ciências da natureza')\n",
        "df_clean = remove_outliers(df_clean, 'Redação')\n",
        "\n",
        "# Comparando médias antes e depois\n",
        "media_antes = df['Redação'].mean()\n",
        "media_depois = df_clean['Redação'].mean()\n",
        "\n",
        "print(f\"Média antes: {media_antes:.2f}, Média depois: {media_depois:.2f}\")\n",
        "\n",
        "# Verificando se a mudança é significativa (>5%)\n",
        "mudanca_significativa = abs(media_antes - media_depois) / media_antes * 100 > 5\n",
        "print(f\"Mudança significativa? {'Sim' if mudanca_significativa else 'Não'}\")\n"
      ],
      "metadata": {
        "colab": {
          "base_uri": "https://localhost:8080/"
        },
        "id": "pmvJ3vp_w_cA",
        "outputId": "2c1d11be-86a2-4b81-d614-293ba8cd1265"
      },
      "execution_count": null,
      "outputs": [
        {
          "output_type": "stream",
          "name": "stdout",
          "text": [
            "Média antes: 637.78, Média depois: 638.17\n",
            "Mudança significativa? Não\n"
          ]
        }
      ]
    },
    {
      "cell_type": "markdown",
      "source": [
        "# Questão 10"
      ],
      "metadata": {
        "id": "Yu-eX99YwpPM"
      }
    },
    {
      "cell_type": "code",
      "source": [
        "# Remova todos os outliers e verifique se eles são passíveis de alterar a média nacional significativamente? (considere significativamente um valor acima de 5%)\n",
        "def substituir_nulos_e_impacto(df, col):\n",
        "    media = df[col].mean()\n",
        "    mediana = df[col].median()\n",
        "    moda = df[col].mode()[0]\n",
        "\n",
        "    df_media = df[col].fillna(media)\n",
        "    df_mediana = df[col].fillna(mediana)\n",
        "    df_moda = df[col].fillna(moda)\n",
        "\n",
        "    impacto_media = abs(df[col].mean() - df_media.mean())\n",
        "    impacto_mediana = abs(df[col].mean() - df_mediana.mean())\n",
        "    impacto_moda = abs(df[col].mean() - df_moda.mean())\n",
        "\n",
        "    print(f\"Impacto na média para {col}:\")\n",
        "    print(f\"Substituindo por média: {impacto_media:.2f}\")\n",
        "    print(f\"Substituindo por mediana: {impacto_mediana:.2f}\")\n",
        "    print(f\"Substituindo por moda: {impacto_moda:.2f}\")\n",
        "\n",
        "substituir_nulos_e_impacto(df, 'Redação')\n"
      ],
      "metadata": {
        "colab": {
          "base_uri": "https://localhost:8080/"
        },
        "id": "euzgeN7JwXSn",
        "outputId": "7830e7bc-0930-44d4-94c2-5874cff6cb90"
      },
      "execution_count": null,
      "outputs": [
        {
          "output_type": "stream",
          "name": "stdout",
          "text": [
            "Impacto na média para Redação:\n",
            "Substituindo por média: 0.00\n",
            "Substituindo por mediana: 0.35\n",
            "Substituindo por moda: 51.37\n"
          ]
        }
      ]
    }
  ]
}