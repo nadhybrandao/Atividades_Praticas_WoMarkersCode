{
  "nbformat": 4,
  "nbformat_minor": 0,
  "metadata": {
    "colab": {
      "provenance": [],
      "toc_visible": true,
      "authorship_tag": "ABX9TyNl6gIQtNQ3j9pSvdoTT8MD",
      "include_colab_link": true
    },
    "kernelspec": {
      "name": "python3",
      "display_name": "Python 3"
    },
    "language_info": {
      "name": "python"
    }
  },
  "cells": [
    {
      "cell_type": "markdown",
      "metadata": {
        "id": "view-in-github",
        "colab_type": "text"
      },
      "source": [
        "<a href=\"https://colab.research.google.com/github/nadhybrandao/Atividades_Praticas_WoMarkersCode/blob/main/WoMarkesCode_Testes_de_Hip%C3%B3teses.ipynb\" target=\"_parent\"><img src=\"https://colab.research.google.com/assets/colab-badge.svg\" alt=\"Open In Colab\"/></a>"
      ]
    },
    {
      "cell_type": "code",
      "execution_count": null,
      "metadata": {
        "id": "_zeZV447vN58"
      },
      "outputs": [],
      "source": [
        "import pandas as pd\n",
        "from scipy.stats import norm\n",
        "import math\n",
        "import numpy as np\n",
        "from scipy import stats\n",
        "import statsmodels.api as sm\n",
        "from statsmodels.stats.weightstats import ztest\n",
        "from scipy.stats import chi2_contingency, f_oneway, normaltest"
      ]
    },
    {
      "cell_type": "markdown",
      "source": [
        "# Dados 1\n",
        "\n",
        "Considerando a base de dados experimento_test_ab.csv responda as\n",
        "questões abaixo:\n",
        "1. Qual dos cenários tem a maior taxa de conversão?\n",
        "2. Calcule qual o tamanho da amostra necessária para o desenvolvimento\n",
        "de um teste A/B, seguindo os seguintes critérios:\n",
        "- a. O cenário A, da base, como o inicial, que funciona hoje.\n",
        "- b. Considere 95% de confiança de que o efeito na conversão não foi aleatório com um nível de significância de 5% (alpha = 0,05).\n",
        "- c. Também considere 80% de certeza conseguir capturar o efeito da nova abordagem.\n",
        "- d. O aumento para 10% de conversão."
      ],
      "metadata": {
        "id": "GiTIPXR0vUEQ"
      }
    },
    {
      "cell_type": "code",
      "source": [
        "# Carregar a base de dados\n",
        "data = pd.read_csv('experimento_test_ab.csv')\n",
        "print(data.head())"
      ],
      "metadata": {
        "colab": {
          "base_uri": "https://localhost:8080/"
        },
        "id": "FlvT1ELLvorQ",
        "outputId": "05adf40f-0448-4d68-e1e6-9e9b10752718"
      },
      "execution_count": null,
      "outputs": [
        {
          "output_type": "stream",
          "name": "stdout",
          "text": [
            "   Visitante_ID Versão_Página  Visualizações  Conversões\n",
            "0             1             A            167           1\n",
            "1             2             A            160           0\n",
            "2             3             A            170           0\n",
            "3             4             A            161           1\n",
            "4             5             A            104           0\n"
          ]
        }
      ]
    },
    {
      "cell_type": "code",
      "source": [
        "# 1. Qual dos cenários tem a maior taxa de conversão?\n",
        "conversion_rates = data.groupby('Versão_Página').agg(\n",
        "    total_visitors=('Visitante_ID', 'count'),\n",
        "    total_conversions=('Conversões', 'sum')\n",
        ")\n",
        "\n",
        "conversion_rates['conversion_rate'] = conversion_rates['total_conversions'] / conversion_rates['total_visitors']\n",
        "\n",
        "# Exibir a taxa de conversão para cada cenário\n",
        "print(\"Taxas de conversão por cenário:\")\n",
        "print(conversion_rates)"
      ],
      "metadata": {
        "colab": {
          "base_uri": "https://localhost:8080/"
        },
        "id": "teAIDuyYvzDR",
        "outputId": "a6afdde7-5a6c-4615-8a81-e3d0d2efbae4"
      },
      "execution_count": null,
      "outputs": [
        {
          "output_type": "stream",
          "name": "stdout",
          "text": [
            "Taxas de conversão por cenário:\n",
            "               total_visitors  total_conversions  conversion_rate\n",
            "Versão_Página                                                    \n",
            "A                        1000                105            0.105\n",
            "B                        1000                125            0.125\n"
          ]
        }
      ]
    },
    {
      "cell_type": "code",
      "source": [
        "# 2. Calcular o tamanho da amostra necessária para o teste A/B\n",
        "\n",
        "# Definir as variáveis conforme o enunciado\n",
        "p1 = conversion_rates.loc['A', 'conversion_rate']  # Taxa de conversão atual (A)\n",
        "p2 = 0.10  # Nova taxa de conversão esperada\n",
        "\n",
        "alpha = 0.05  # Nível de significância\n",
        "power = 0.80  # Poder do teste (80%)\n",
        "\n",
        "# Z-scores para os níveis de confiança e poder\n",
        "z_alpha = norm.ppf(1 - alpha / 2)  # Z para 95% de confiança\n",
        "z_beta = norm.ppf(power)  # Z para 80% de poder\n",
        "\n",
        "# Fórmula para calcular o tamanho da amostra\n",
        "sample_size = ((z_alpha + z_beta) ** 2 * (p1 * (1 - p1) + p2 * (1 - p2))) / (p1 - p2) ** 2\n",
        "\n",
        "# Exibir o tamanho da amostra necessário\n",
        "print(f\"\\nTamanho necessário da amostra para o teste A/B: {math.ceil(sample_size)}\")"
      ],
      "metadata": {
        "colab": {
          "base_uri": "https://localhost:8080/"
        },
        "id": "dWOqhSoyv5uA",
        "outputId": "90c6e93c-3c37-438c-a16f-f0bb908639d8"
      },
      "execution_count": null,
      "outputs": [
        {
          "output_type": "stream",
          "name": "stdout",
          "text": [
            "\n",
            "Tamanho necessário da amostra para o teste A/B: 57760\n"
          ]
        }
      ]
    },
    {
      "cell_type": "markdown",
      "source": [
        "# Dados 2\n",
        "\n",
        "Verifique a base pacientes.csv, os dados são fictícios. A sintetiza uma base\n",
        "de dados de um hospital que trata de pacientes com problemas cardíacos. Considere a base como a população, portanto as estatísticas da população\n",
        "são conhecidas. Responda as perguntas abaixo:\n",
        "\n",
        "3. Considerando uma amostra de 45 números que representam o index do\n",
        "dataframe, índices= ([909, 751, 402, 400, 726, 39, 184, 269, 255, 769,\n",
        "209, 715, 677, 381, 793, 697, 89, 280, 232, 756, 358, 36, 439, 768, 967,\n",
        "699, 473, 222, 89, 639, 883, 558, 757, 84, 907, 895, 217, 224, 311, 348,\n",
        "146, 505, 273, 957, 362]). Considerando essa amostra é possível dizer\n",
        "que a idade média das pessoas com problemas cardíacos é maior que\n",
        "50 anos? Nível de significância igual a 5%.\n",
        "\n",
        "4. Queremos entender que tipo de amostra estamos lidando se dividirmos\n",
        "os conjuntos em 2, sendo um com pessoas que têm condições de\n",
        "saúde adicionais e o outro com pessoas saudáveis. Seria dependente\n",
        "ou independente?\n",
        "\n",
        "5. Agora considere o um conjunto de pessoas aleatória que representam\n",
        "o index do dataframe, índices = ([690, 894, 67, 201, 364, 19, 60, 319,\n",
        "588, 643, 855, 623, 530, 174, 105, 693, 6, 462, 973, 607, 811, 346, 354, 966, 943, 372]), podemos dizer que a pressão arterial média para pacientes com condições de saúde adicionais é igual à pressão arterial média para pacientes sem condições adicionais de saúde? Considere o nível de significância a 6%.\n",
        "\n",
        "6. Existe uma diferença significativa na pressão arterial média entre diferentes grupos étnicos nesta população? (Teste ANOVA, alpha é 5%)\n",
        "- a. Hipótese Nula (H0): A pressão arterial média é a mesma em todos\n",
        "os grupos étnicos.\n",
        "- b. Hipótese Alternativa (H1): Há uma diferença significativa na\n",
        "pressão arterial média entre pelo menos dois grupos étnicos nesta população.\n",
        "\n",
        "7. Lúcia é uma pesquisadora e tem o objetivo de entender a relação de gênero neste grupo de pacientes. Acredita-se que há uma relação entre o sexo e condições de saúde adicionais. (Teste qui-quadrado)\n",
        "\n",
        "8. Existe uma associação entre a idade dos pacientes e sua pressão\n",
        "arterial?\n",
        "- a. Hipótese Nula (H0): se a pressão arterial é independente da idade\n",
        "- b. Hipótese Alternativa (H1): a pressão arterial esta associada a idade\n",
        "\n",
        "9. Qual é o intervalo de confiança para a média da pressão arterial entre\n",
        "os pacientes com condições de saúde adicionais? (nível de confiança\n",
        "95%)\n",
        "\n",
        "10. A distribuição da pressão arterial na população segue uma distribuição\n",
        "normal?\n",
        "- a. Hipótese Nula (H0): A distribuição da pressão arterial na população segue uma distribuição normal.\n",
        "- b. Hipótese Alternativa (H1): A distribuição da pressão arterial na população não segue uma distribuição normal."
      ],
      "metadata": {
        "id": "TksuYzwZvY9T"
      }
    },
    {
      "cell_type": "code",
      "source": [
        "# Carregar a base de dados 'pacientes.csv'\n",
        "df = pd.read_csv('pacientes.csv')\n",
        "\n",
        "# Visualizar os primeiros dados para entender a estrutura\n",
        "print(df.head())"
      ],
      "metadata": {
        "colab": {
          "base_uri": "https://localhost:8080/"
        },
        "id": "zBuBQdE6v-kD",
        "outputId": "157a136f-a98c-4add-f637-e81352c461aa"
      },
      "execution_count": null,
      "outputs": [
        {
          "output_type": "stream",
          "name": "stdout",
          "text": [
            "   Unnamed: 0  Pressao_Arterial  Idade  Genero  Etnia  Estado_Saude  \\\n",
            "0           0        142.755809     31       1      1             1   \n",
            "1           1        161.878468     35       1      1             0   \n",
            "2           2        161.508259     39       0      3             1   \n",
            "3           3        144.979408     43       1      3             1   \n",
            "4           4        162.502954     55       0      2             1   \n",
            "\n",
            "  Nome_Genero      Nome_Etnia                  Nome_Estado_Saude  \n",
            "0    Feminino  Afro-americano  Com condições de saúde adicionais  \n",
            "1    Feminino  Afro-americano                           Saudável  \n",
            "2   Masculino        Asiático  Com condições de saúde adicionais  \n",
            "3    Feminino        Asiático  Com condições de saúde adicionais  \n",
            "4   Masculino       Hispânico  Com condições de saúde adicionais  \n"
          ]
        }
      ]
    },
    {
      "cell_type": "code",
      "source": [
        "# Pergunta 3: A idade média das pessoas com problemas cardíacos é maior que 50 anos?\n",
        "# Índices fornecidos\n",
        "indices_amostra = [909, 751, 402, 400, 726, 39, 184, 269, 255, 769, 209, 715, 677, 381, 793, 697, 89, 280, 232, 756,\n",
        "                   358, 36, 439, 768, 967, 699, 473, 222, 89, 639, 883, 558, 757, 84, 907, 895, 217, 224, 311, 348,\n",
        "                   146, 505, 273, 957, 362]\n",
        "\n",
        "# Filtrar a amostra\n",
        "amostra = df.loc[indices_amostra] # Use df instead of data\n",
        "\n",
        "# Teste de hipótese para a média da idade\n",
        "media_amostra = amostra['Idade'].mean()\n",
        "media_populacao = df['Idade'].mean() # Use df instead of data\n",
        "desvio_padrao_populacao = df['Idade'].std() # Use df instead of data\n",
        "\n",
        "# Teste Z (significância de 5%)\n",
        "z_score, p_value = ztest(amostra['Idade'], value=50)\n",
        "\n",
        "print(f\"\\nPergunta 3: A média de idade é maior que 50 anos?\")\n",
        "print(f\"Média da amostra: {media_amostra}\")\n",
        "print(f\"Z-score: {z_score}, P-valor: {p_value}\")\n",
        "if p_value < 0.05:\n",
        "    print(\"Conclusão: Rejeitamos H0. A média de idade é significativamente maior que 50 anos.\")\n",
        "else:\n",
        "    print(\"Conclusão: Não rejeitamos H0. Não é possível afirmar que a média de idade é maior que 50 anos.\")"
      ],
      "metadata": {
        "colab": {
          "base_uri": "https://localhost:8080/"
        },
        "id": "2I6R3TotwHBF",
        "outputId": "39fda2e8-adf2-48ff-d41a-3111fe6c2707"
      },
      "execution_count": null,
      "outputs": [
        {
          "output_type": "stream",
          "name": "stdout",
          "text": [
            "\n",
            "Pergunta 3: A média de idade é maior que 50 anos?\n",
            "Média da amostra: 50.08888888888889\n",
            "Z-score: 0.052280983519350496, P-valor: 0.9583048055454206\n",
            "Conclusão: Não rejeitamos H0. Não é possível afirmar que a média de idade é maior que 50 anos.\n"
          ]
        }
      ]
    },
    {
      "cell_type": "code",
      "source": [
        "# Pergunta 4: Dividindo os grupos entre pessoas com e sem condições de saúde adicionais, são dependentes ou independentes?\n",
        "# Vamos verificar a independência entre os dois grupos\n",
        "\n",
        "# Verifique o nome correto da coluna e corrija se necessário\n",
        "print(amostra.columns) # Imprima as colunas para verificar o nome correto\n",
        "\n",
        "grupo_saude_adicional = amostra[amostra['Nome_Estado_Saude'] == 1] # Nome da coluna corrigido\n",
        "grupo_saude_normal = amostra[amostra['Nome_Estado_Saude'] == 0] # Nome da coluna corrigido\n",
        "\n",
        "print(f\"\\nPergunta 4: Dependência entre os grupos de pessoas com e sem condições de saúde adicionais.\")\n",
        "if len(grupo_saude_adicional) == len(grupo_saude_normal):\n",
        "    print(\"Conclusão: Os grupos são independentes.\")\n",
        "else:\n",
        "    print(\"Conclusão: Os grupos são dependentes.\")"
      ],
      "metadata": {
        "colab": {
          "base_uri": "https://localhost:8080/"
        },
        "id": "kPz69vpjxHBr",
        "outputId": "56af094e-7756-4700-cc2c-ea12f1725d75"
      },
      "execution_count": null,
      "outputs": [
        {
          "output_type": "stream",
          "name": "stdout",
          "text": [
            "Index(['Unnamed: 0', 'Pressao_Arterial', 'Idade', 'Genero', 'Etnia',\n",
            "       'Estado_Saude', 'Nome_Genero', 'Nome_Etnia', 'Nome_Estado_Saude'],\n",
            "      dtype='object')\n",
            "\n",
            "Pergunta 4: Dependência entre os grupos de pessoas com e sem condições de saúde adicionais.\n",
            "Conclusão: Os grupos são independentes.\n"
          ]
        }
      ]
    },
    {
      "cell_type": "code",
      "source": [
        "# Pergunta 5: A pressão arterial média entre pacientes com e sem condições de saúde adicionais é igual?\n",
        "# Índices fornecidos\n",
        "indices_amostra_pressao = [690, 894, 67, 201, 364, 19, 60, 319, 588, 643, 855, 623, 530, 174, 105, 693, 6, 462, 973,\n",
        "                           607, 811, 346, 354, 966, 943, 372]\n",
        "amostra_pressao = df.loc[indices_amostra_pressao] # Changed data to df\n",
        "\n",
        "# Check for the correct column name\n",
        "print(amostra_pressao.columns)\n",
        "\n",
        "# Assuming the correct column name is 'Estado_Saude' based on the available information\n",
        "grupo_saude_adicional = amostra_pressao[amostra_pressao['Estado_Saude'] == 1]['Pressao_Arterial'] # Changed column name\n",
        "grupo_saude_normal = amostra_pressao[amostra_pressao['Estado_Saude'] == 0]['Pressao_Arterial'] # Changed column name\n",
        "\n",
        "# Teste T para igualdade de médias\n",
        "from scipy import stats # Added import statement\n",
        "t_stat, p_value = stats.ttest_ind(grupo_saude_adicional, grupo_saude_normal)\n",
        "\n",
        "print(f\"\\nPergunta 5: Igualdade das médias de pressão arterial entre pacientes com e sem condições de saúde adicionais.\")\n",
        "print(f\"T-stat: {t_stat}, P-valor: {p_value}\")\n",
        "if p_value < 0.06:\n",
        "    print(\"Conclusão: Rejeitamos H0. A pressão arterial média entre os grupos é diferente.\")\n",
        "else:\n",
        "    print(\"Conclusão: Não rejeitamos H0. A pressão arterial média entre os grupos não é significativamente diferente.\")"
      ],
      "metadata": {
        "colab": {
          "base_uri": "https://localhost:8080/"
        },
        "id": "MCPAaSlmxmWs",
        "outputId": "80637d51-cd6d-4632-f5df-20dccc2d6992"
      },
      "execution_count": null,
      "outputs": [
        {
          "output_type": "stream",
          "name": "stdout",
          "text": [
            "Index(['Unnamed: 0', 'Pressao_Arterial', 'Idade', 'Genero', 'Etnia',\n",
            "       'Estado_Saude', 'Nome_Genero', 'Nome_Etnia', 'Nome_Estado_Saude'],\n",
            "      dtype='object')\n",
            "\n",
            "Pergunta 5: Igualdade das médias de pressão arterial entre pacientes com e sem condições de saúde adicionais.\n",
            "T-stat: 0.08124024162329026, P-valor: 0.9359246016248415\n",
            "Conclusão: Não rejeitamos H0. A pressão arterial média entre os grupos não é significativamente diferente.\n"
          ]
        }
      ]
    },
    {
      "cell_type": "code",
      "source": [
        "# Pergunta 6: Existe uma diferença significativa na pressão arterial média entre diferentes grupos étnicos? (Teste ANOVA)\n",
        "grupos_etnicos = [grupo for nome, grupo in df.groupby('Nome_Etnia')['Pressao_Arterial']] # Changed data to df\n",
        "anova_stat, p_value = f_oneway(*grupos_etnicos)\n",
        "\n",
        "print(f\"\\nPergunta 6: Diferença significativa na pressão arterial entre grupos étnicos.\")\n",
        "print(f\"ANOVA F-stat: {anova_stat}, P-valor: {p_value}\")\n",
        "if p_value < 0.05:\n",
        "    print(\"Conclusão: Rejeitamos H0. Existe uma diferença significativa na pressão arterial entre os grupos.\")\n",
        "else:\n",
        "    print(\"Conclusão: Não rejeitamos H0. Não há diferença significativa na pressão arterial entre os grupos.\")"
      ],
      "metadata": {
        "colab": {
          "base_uri": "https://localhost:8080/"
        },
        "id": "WyiSSM9Rx-MQ",
        "outputId": "8b276e75-6fa9-42f4-b935-8b11b5e92810"
      },
      "execution_count": null,
      "outputs": [
        {
          "output_type": "stream",
          "name": "stdout",
          "text": [
            "\n",
            "Pergunta 6: Diferença significativa na pressão arterial entre grupos étnicos.\n",
            "ANOVA F-stat: 0.2324529626159684, P-valor: 0.873800123850745\n",
            "Conclusão: Não rejeitamos H0. Não há diferença significativa na pressão arterial entre os grupos.\n"
          ]
        }
      ]
    },
    {
      "cell_type": "code",
      "source": [
        "# Pergunta 7: Existe relação entre sexo e condições de saúde adicionais? (Teste qui-quadrado)\n",
        "contingency_table = pd.crosstab(df['Nome_Genero'], df['Nome_Estado_Saude']) # Changed 'data' to 'df' and corrected column names\n",
        "chi2_stat, p_value, _, _ = chi2_contingency(contingency_table)\n",
        "\n",
        "print(f\"\\nPergunta 7: Relação entre sexo e condições de saúde adicionais (Qui-quadrado).\")\n",
        "print(f\"Qui-quadrado: {chi2_stat}, P-valor: {p_value}\")\n",
        "if p_value < 0.05:\n",
        "    print(\"Conclusão: Rejeitamos H0. Existe uma relação significativa entre sexo e condições de saúde adicionais.\")\n",
        "else:\n",
        "    print(\"Conclusão: Não rejeitamos H0. Não há evidências de relação significativa entre sexo e condições de saúde adicionais.\")"
      ],
      "metadata": {
        "colab": {
          "base_uri": "https://localhost:8080/"
        },
        "id": "jezeHxPhyBHZ",
        "outputId": "f639ce7f-1671-4a7a-fc70-4c28826a30d3"
      },
      "execution_count": null,
      "outputs": [
        {
          "output_type": "stream",
          "name": "stdout",
          "text": [
            "\n",
            "Pergunta 7: Relação entre sexo e condições de saúde adicionais (Qui-quadrado).\n",
            "Qui-quadrado: 0.0, P-valor: 1.0\n",
            "Conclusão: Não rejeitamos H0. Não há evidências de relação significativa entre sexo e condições de saúde adicionais.\n"
          ]
        }
      ]
    }
  ]
}